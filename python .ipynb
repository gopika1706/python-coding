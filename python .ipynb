{
 "cells": [
  {
   "cell_type": "markdown",
   "id": "f447c94a",
   "metadata": {},
   "source": [
    "# String Creation\n"
   ]
  },
  {
   "cell_type": "code",
   "execution_count": 1,
   "id": "0710b7a3",
   "metadata": {},
   "outputs": [
    {
     "name": "stdout",
     "output_type": "stream",
     "text": [
      "HELLO PYTHON\n"
     ]
    }
   ],
   "source": [
    "str1 = \"HELLO PYTHON\"\n",
    "print(str1)"
   ]
  },
  {
   "cell_type": "code",
   "execution_count": 2,
   "id": "d249cc1a",
   "metadata": {},
   "outputs": [
    {
     "name": "stdout",
     "output_type": "stream",
     "text": [
      "Hello World\n"
     ]
    }
   ],
   "source": [
    "mystr = 'Hello World'                        # Define string using single quotes\n",
    "print(mystr)   "
   ]
  },
  {
   "cell_type": "code",
   "execution_count": 3,
   "id": "772372f8",
   "metadata": {},
   "outputs": [
    {
     "name": "stdout",
     "output_type": "stream",
     "text": [
      "Hello World\n"
     ]
    }
   ],
   "source": [
    "mystr = \"Hello World\"                        # Define string using double quotes\n",
    "print(mystr)\n"
   ]
  },
  {
   "cell_type": "code",
   "execution_count": 4,
   "id": "e6793f4f",
   "metadata": {},
   "outputs": [
    {
     "name": "stdout",
     "output_type": "stream",
     "text": [
      "Hello \n",
      " World \n"
     ]
    }
   ],
   "source": [
    "mystr = '''Hello \n",
    " World '''                                      # Define string using triple quotes\n",
    "print(mystr)"
   ]
  },
  {
   "cell_type": "code",
   "execution_count": 5,
   "id": "64cfd5fb",
   "metadata": {},
   "outputs": [
    {
     "name": "stdout",
     "output_type": "stream",
     "text": [
      "Hello\n",
      " World\n"
     ]
    }
   ],
   "source": [
    "mystr = \"\"\"Hello\n",
    " World\"\"\"                                        # Define string using triple quotes\n",
    "print(mystr)"
   ]
  },
  {
   "cell_type": "code",
   "execution_count": 6,
   "id": "8c8c780d",
   "metadata": {},
   "outputs": [
    {
     "name": "stdout",
     "output_type": "stream",
     "text": [
      "Happy Monday Everyone\n"
     ]
    }
   ],
   "source": [
    "mystr = ('Happy '\n",
    " 'Monday '\n",
    " 'Everyone')\n",
    "print(mystr)"
   ]
  },
  {
   "cell_type": "code",
   "execution_count": 7,
   "id": "e983071a",
   "metadata": {},
   "outputs": [
    {
     "data": {
      "text/plain": [
       "'Woohoo Woohoo Woohoo Woohoo Woohoo '"
      ]
     },
     "execution_count": 7,
     "metadata": {},
     "output_type": "execute_result"
    }
   ],
   "source": [
    "mystr2 = 'Woohoo '\n",
    "mystr3 = mystr2*5\n",
    "mystr3\n"
   ]
  },
  {
   "cell_type": "code",
   "execution_count": 8,
   "id": "91f0fa4e",
   "metadata": {},
   "outputs": [
    {
     "data": {
      "text/plain": [
       "35"
      ]
     },
     "execution_count": 8,
     "metadata": {},
     "output_type": "execute_result"
    }
   ],
   "source": [
    "len(mystr3)                                                  # Length of string\n"
   ]
  },
  {
   "cell_type": "code",
   "execution_count": 9,
   "id": "56c9ac59",
   "metadata": {},
   "outputs": [
    {
     "data": {
      "text/plain": [
       "'HELLO PYTHON'"
      ]
     },
     "execution_count": 9,
     "metadata": {},
     "output_type": "execute_result"
    }
   ],
   "source": [
    "str1"
   ]
  },
  {
   "cell_type": "code",
   "execution_count": 10,
   "id": "29345922",
   "metadata": {},
   "outputs": [
    {
     "data": {
      "text/plain": [
       "'H'"
      ]
     },
     "execution_count": 10,
     "metadata": {},
     "output_type": "execute_result"
    }
   ],
   "source": [
    "str1[0] # First character in string \"str1\"\n"
   ]
  },
  {
   "cell_type": "code",
   "execution_count": 11,
   "id": "7f489481",
   "metadata": {},
   "outputs": [
    {
     "data": {
      "text/plain": [
       "12"
      ]
     },
     "execution_count": 11,
     "metadata": {},
     "output_type": "execute_result"
    }
   ],
   "source": [
    "len(str1)"
   ]
  },
  {
   "cell_type": "code",
   "execution_count": 12,
   "id": "2b1ea817",
   "metadata": {},
   "outputs": [
    {
     "data": {
      "text/plain": [
       "'N'"
      ]
     },
     "execution_count": 12,
     "metadata": {},
     "output_type": "execute_result"
    }
   ],
   "source": [
    "str1[len(str1)-1]                             # Last character in string using len function\n"
   ]
  },
  {
   "cell_type": "code",
   "execution_count": 13,
   "id": "d8d8f8ad",
   "metadata": {},
   "outputs": [
    {
     "data": {
      "text/plain": [
       "'N'"
      ]
     },
     "execution_count": 13,
     "metadata": {},
     "output_type": "execute_result"
    }
   ],
   "source": [
    "str1[-1]                                      # Last character in string\n"
   ]
  },
  {
   "cell_type": "code",
   "execution_count": 14,
   "id": "531816fd",
   "metadata": {},
   "outputs": [
    {
     "data": {
      "text/plain": [
       "'P'"
      ]
     },
     "execution_count": 14,
     "metadata": {},
     "output_type": "execute_result"
    }
   ],
   "source": [
    "str1[6]                                       #Fetch 7th element of the string \n"
   ]
  },
  {
   "cell_type": "code",
   "execution_count": 15,
   "id": "16195680",
   "metadata": {},
   "outputs": [
    {
     "data": {
      "text/plain": [
       "'HELLO'"
      ]
     },
     "execution_count": 15,
     "metadata": {},
     "output_type": "execute_result"
    }
   ],
   "source": [
    "str1[0:5]                                     # String slicing - Fetch all characters from 0 to 5 index location excl\n"
   ]
  },
  {
   "cell_type": "code",
   "execution_count": 16,
   "id": "c5e777a1",
   "metadata": {},
   "outputs": [
    {
     "data": {
      "text/plain": [
       "'PYTHON'"
      ]
     },
     "execution_count": 16,
     "metadata": {},
     "output_type": "execute_result"
    }
   ],
   "source": [
    "str1[6:12]                                   # String slicing - Retreive all characters between 6 - 12 index loc ex\n"
   ]
  },
  {
   "cell_type": "code",
   "execution_count": 17,
   "id": "bb11cdaa",
   "metadata": {},
   "outputs": [
    {
     "data": {
      "text/plain": [
       "'THON'"
      ]
     },
     "execution_count": 17,
     "metadata": {},
     "output_type": "execute_result"
    }
   ],
   "source": [
    "str1[-4:]                                    # Retreive last four characters of the string"
   ]
  },
  {
   "cell_type": "code",
   "execution_count": 18,
   "id": "e2ef3783",
   "metadata": {},
   "outputs": [
    {
     "data": {
      "text/plain": [
       "'PYTHON'"
      ]
     },
     "execution_count": 18,
     "metadata": {},
     "output_type": "execute_result"
    }
   ],
   "source": [
    "str1[-6:]                                   # Retreive last six characters of the string\n"
   ]
  },
  {
   "cell_type": "code",
   "execution_count": 19,
   "id": "ae66e445",
   "metadata": {},
   "outputs": [
    {
     "data": {
      "text/plain": [
       "'HELL'"
      ]
     },
     "execution_count": 19,
     "metadata": {},
     "output_type": "execute_result"
    }
   ],
   "source": [
    "str1[:4]                                   # Retreive first four characters of the string\n"
   ]
  },
  {
   "cell_type": "code",
   "execution_count": 20,
   "id": "99b3811a",
   "metadata": {},
   "outputs": [
    {
     "data": {
      "text/plain": [
       "'HELLO '"
      ]
     },
     "execution_count": 20,
     "metadata": {},
     "output_type": "execute_result"
    }
   ],
   "source": [
    "str1[:6]                                   # Retreive first six characters of the string\n"
   ]
  },
  {
   "cell_type": "code",
   "execution_count": 21,
   "id": "1a0881eb",
   "metadata": {},
   "outputs": [
    {
     "data": {
      "text/plain": [
       "'HELLO PYTHON'"
      ]
     },
     "execution_count": 21,
     "metadata": {},
     "output_type": "execute_result"
    }
   ],
   "source": [
    "str1"
   ]
  },
  {
   "cell_type": "code",
   "execution_count": 22,
   "id": "61fddf71",
   "metadata": {},
   "outputs": [
    {
     "ename": "TypeError",
     "evalue": "'str' object does not support item assignment",
     "output_type": "error",
     "traceback": [
      "\u001b[1;31m---------------------------------------------------------------------------\u001b[0m",
      "\u001b[1;31mTypeError\u001b[0m                                 Traceback (most recent call last)",
      "Input \u001b[1;32mIn [22]\u001b[0m, in \u001b[0;36m<cell line: 2>\u001b[1;34m()\u001b[0m\n\u001b[0;32m      1\u001b[0m \u001b[38;5;66;03m#Strings are immutable which means elements of a string cannot be changed once th\u001b[39;00m\n\u001b[1;32m----> 2\u001b[0m str1[\u001b[38;5;241m0\u001b[39m:\u001b[38;5;241m5\u001b[39m] \u001b[38;5;241m=\u001b[39m \u001b[38;5;124m'\u001b[39m\u001b[38;5;124mHOLAA\u001b[39m\u001b[38;5;124m'\u001b[39m\n",
      "\u001b[1;31mTypeError\u001b[0m: 'str' object does not support item assignment"
     ]
    }
   ],
   "source": [
    "#Strings are immutable which means elements of a string cannot be changed once th\n",
    "str1[0:5] = 'HOLAA'"
   ]
  },
  {
   "cell_type": "code",
   "execution_count": 23,
   "id": "99dfdd01",
   "metadata": {},
   "outputs": [
    {
     "ename": "NameError",
     "evalue": "name 'srt1' is not defined",
     "output_type": "error",
     "traceback": [
      "\u001b[1;31m---------------------------------------------------------------------------\u001b[0m",
      "\u001b[1;31mNameError\u001b[0m                                 Traceback (most recent call last)",
      "Input \u001b[1;32mIn [23]\u001b[0m, in \u001b[0;36m<cell line: 2>\u001b[1;34m()\u001b[0m\n\u001b[0;32m      1\u001b[0m \u001b[38;5;28;01mdel\u001b[39;00m str1                                           \u001b[38;5;66;03m# Delete a string\u001b[39;00m\n\u001b[1;32m----> 2\u001b[0m \u001b[38;5;28mprint\u001b[39m(\u001b[43msrt1\u001b[49m)\n",
      "\u001b[1;31mNameError\u001b[0m: name 'srt1' is not defined"
     ]
    }
   ],
   "source": [
    "del str1                                           # Delete a string\n",
    "print(srt1)"
   ]
  },
  {
   "cell_type": "code",
   "execution_count": 24,
   "id": "ee75e83e",
   "metadata": {},
   "outputs": [
    {
     "name": "stdout",
     "output_type": "stream",
     "text": [
      "Hello Asif\n"
     ]
    }
   ],
   "source": [
    "# String concatenation\n",
    "s1 = \"Hello \"\n",
    "s2 = \"Asif\"\n",
    "s3 = s1 + s2\n",
    "print(s3)\n"
   ]
  },
  {
   "cell_type": "code",
   "execution_count": 25,
   "id": "3099fe69",
   "metadata": {},
   "outputs": [
    {
     "name": "stdout",
     "output_type": "stream",
     "text": [
      "Hello Asif\n"
     ]
    }
   ],
   "source": [
    "# String concatenation\n",
    "s1 = \"Hello\"\n",
    "s2 = \"Asif\"\n",
    "s3 = s1 + \" \" + s2\n",
    "print(s3)"
   ]
  },
  {
   "cell_type": "code",
   "execution_count": 26,
   "id": "21909a94",
   "metadata": {},
   "outputs": [],
   "source": [
    "mystr1 = \"Hello Everyone\"\n"
   ]
  },
  {
   "cell_type": "code",
   "execution_count": 27,
   "id": "cfc4e0b0",
   "metadata": {},
   "outputs": [
    {
     "name": "stdout",
     "output_type": "stream",
     "text": [
      "H\n",
      "e\n",
      "l\n",
      "l\n",
      "o\n",
      " \n",
      "E\n",
      "v\n",
      "e\n",
      "r\n",
      "y\n",
      "o\n",
      "n\n",
      "e\n"
     ]
    }
   ],
   "source": [
    "# Iteration \n",
    "for i in mystr1:\n",
    "    print(i)"
   ]
  },
  {
   "cell_type": "code",
   "execution_count": 28,
   "id": "465f538b",
   "metadata": {},
   "outputs": [
    {
     "name": "stdout",
     "output_type": "stream",
     "text": [
      "(0, 'H')\n",
      "(1, 'e')\n",
      "(2, 'l')\n",
      "(3, 'l')\n",
      "(4, 'o')\n",
      "(5, ' ')\n",
      "(6, 'E')\n",
      "(7, 'v')\n",
      "(8, 'e')\n",
      "(9, 'r')\n",
      "(10, 'y')\n",
      "(11, 'o')\n",
      "(12, 'n')\n",
      "(13, 'e')\n"
     ]
    }
   ],
   "source": [
    "for i in enumerate(mystr1):\n",
    "    print(i)\n"
   ]
  },
  {
   "cell_type": "code",
   "execution_count": 29,
   "id": "ab9693e1",
   "metadata": {},
   "outputs": [
    {
     "data": {
      "text/plain": [
       "[(0, 'H'),\n",
       " (1, 'e'),\n",
       " (2, 'l'),\n",
       " (3, 'l'),\n",
       " (4, 'o'),\n",
       " (5, ' '),\n",
       " (6, 'E'),\n",
       " (7, 'v'),\n",
       " (8, 'e'),\n",
       " (9, 'r'),\n",
       " (10, 'y'),\n",
       " (11, 'o'),\n",
       " (12, 'n'),\n",
       " (13, 'e')]"
      ]
     },
     "execution_count": 29,
     "metadata": {},
     "output_type": "execute_result"
    }
   ],
   "source": [
    "list(enumerate(mystr1))               # Enumerate method adds a counter to an iterable and retu"
   ]
  },
  {
   "cell_type": "code",
   "execution_count": 30,
   "id": "82d21d67",
   "metadata": {},
   "outputs": [
    {
     "name": "stdout",
     "output_type": "stream",
     "text": [
      "True\n",
      "True\n",
      "False\n"
     ]
    }
   ],
   "source": [
    "# String membership\n",
    "mystr1 = \"Hello Everyone\"\n",
    "print ('Hello' in mystr1)                # Check whether substring \"Hello\" is present in string \n",
    "print ('Everyone' in mystr1)             # Check whether substring \"Everyone\" is present in s\n",
    "print ('Hi' in mystr1)                   # Check whether substring \"Hi\" is present in string \"mys"
   ]
  },
  {
   "cell_type": "code",
   "execution_count": 31,
   "id": "6dfe09c6",
   "metadata": {},
   "outputs": [
    {
     "name": "stdout",
     "output_type": "stream",
     "text": [
      "('Natural language processing with Python ', 'and', ' R and Java')\n"
     ]
    }
   ],
   "source": [
    "\"\"\"\n",
    "The partition() method searches for a specified string and splits the string into\n",
    " - The first element contains the part before the argument string.\n",
    " - The second element contains the argument string.\n",
    " - The third element contains the part after the argument string.\n",
    "\"\"\"\n",
    "str5 = \"Natural language processing with Python and R and Java\"\n",
    "L = str5.partition(\"and\") \n",
    "print(L)\n"
   ]
  },
  {
   "cell_type": "code",
   "execution_count": 32,
   "id": "ae9c21d3",
   "metadata": {},
   "outputs": [
    {
     "name": "stdout",
     "output_type": "stream",
     "text": [
      "('Natural language ', 'processing', ' with Python and R and Java')\n"
     ]
    }
   ],
   "source": [
    "\"\"\"\n",
    "The rpartition() method searches for the last occurence of the specified string a\n",
    "containing three elements.\n",
    " - The first element contains the part before the argument string.\n",
    " - The second element contains the argument string.\n",
    " - The third element contains the part after the argument string.\n",
    "\"\"\"\n",
    "str5 = \"Natural language processing with Python and R and Java\"\n",
    "L = str5.rpartition(\"processing\") \n",
    "print(L)"
   ]
  },
  {
   "cell_type": "code",
   "execution_count": 33,
   "id": "6e87a68f",
   "metadata": {},
   "outputs": [
    {
     "data": {
      "text/plain": [
       "' Hello Everyone '"
      ]
     },
     "execution_count": 33,
     "metadata": {},
     "output_type": "execute_result"
    }
   ],
   "source": [
    "mystr2 = \" Hello Everyone \"\n",
    "mystr2\n"
   ]
  },
  {
   "cell_type": "code",
   "execution_count": 34,
   "id": "8a140519",
   "metadata": {},
   "outputs": [
    {
     "data": {
      "text/plain": [
       "'Hello Everyone'"
      ]
     },
     "execution_count": 34,
     "metadata": {},
     "output_type": "execute_result"
    }
   ],
   "source": [
    "mystr2.strip()                 # Removes white space from begining & end"
   ]
  },
  {
   "cell_type": "code",
   "execution_count": 35,
   "id": "6a8daec9",
   "metadata": {},
   "outputs": [
    {
     "data": {
      "text/plain": [
       "' Hello Everyone'"
      ]
     },
     "execution_count": 35,
     "metadata": {},
     "output_type": "execute_result"
    }
   ],
   "source": [
    "mystr2.rstrip()               # Removes all whitespaces at the end of the string"
   ]
  },
  {
   "cell_type": "code",
   "execution_count": 36,
   "id": "0bdbe075",
   "metadata": {},
   "outputs": [
    {
     "data": {
      "text/plain": [
       "'Hello Everyone '"
      ]
     },
     "execution_count": 36,
     "metadata": {},
     "output_type": "execute_result"
    }
   ],
   "source": [
    "mystr2.lstrip()              # Removes all whitespaces at the begining of the string"
   ]
  },
  {
   "cell_type": "code",
   "execution_count": 37,
   "id": "592a9ce6",
   "metadata": {},
   "outputs": [
    {
     "data": {
      "text/plain": [
       "'*********Hello Everyone***********All the Best**********'"
      ]
     },
     "execution_count": 37,
     "metadata": {},
     "output_type": "execute_result"
    }
   ],
   "source": [
    "mystr2 = \"*********Hello Everyone***********All the Best**********\"\n",
    "mystr2"
   ]
  },
  {
   "cell_type": "code",
   "execution_count": 38,
   "id": "a287e9b9",
   "metadata": {},
   "outputs": [
    {
     "data": {
      "text/plain": [
       "'Hello Everyone***********All the Best'"
      ]
     },
     "execution_count": 38,
     "metadata": {},
     "output_type": "execute_result"
    }
   ],
   "source": [
    "mystr2.strip('*')                 # Removes all '*' characters from begining & end of the string"
   ]
  },
  {
   "cell_type": "code",
   "execution_count": 39,
   "id": "b6a6101e",
   "metadata": {},
   "outputs": [
    {
     "data": {
      "text/plain": [
       "'*********Hello Everyone***********All the Best'"
      ]
     },
     "execution_count": 39,
     "metadata": {},
     "output_type": "execute_result"
    }
   ],
   "source": [
    "mystr2.rstrip('*')                # Removes all '*' characters at the end of the string\n"
   ]
  },
  {
   "cell_type": "code",
   "execution_count": 40,
   "id": "12b0fe36",
   "metadata": {},
   "outputs": [
    {
     "data": {
      "text/plain": [
       "'Hello Everyone***********All the Best**********'"
      ]
     },
     "execution_count": 40,
     "metadata": {},
     "output_type": "execute_result"
    }
   ],
   "source": [
    "mystr2.lstrip('*')                    # Removes all '*' characters at the begining of the string\n"
   ]
  },
  {
   "cell_type": "code",
   "execution_count": 41,
   "id": "504368b7",
   "metadata": {},
   "outputs": [],
   "source": [
    "mystr2 = \" Hello Everyone \""
   ]
  },
  {
   "cell_type": "code",
   "execution_count": 42,
   "id": "05619b21",
   "metadata": {},
   "outputs": [
    {
     "data": {
      "text/plain": [
       "' hello everyone '"
      ]
     },
     "execution_count": 42,
     "metadata": {},
     "output_type": "execute_result"
    }
   ],
   "source": [
    "mystr2.lower()                               # Return whole string in lowercase \n"
   ]
  },
  {
   "cell_type": "code",
   "execution_count": 43,
   "id": "22c924b4",
   "metadata": {},
   "outputs": [
    {
     "data": {
      "text/plain": [
       "' HELLO EVERYONE '"
      ]
     },
     "execution_count": 43,
     "metadata": {},
     "output_type": "execute_result"
    }
   ],
   "source": [
    "mystr2.upper()                               # Return whole string in uppercase \n"
   ]
  },
  {
   "cell_type": "code",
   "execution_count": 44,
   "id": "a106d5fb",
   "metadata": {},
   "outputs": [
    {
     "data": {
      "text/plain": [
       "' Hollo Everyone '"
      ]
     },
     "execution_count": 44,
     "metadata": {},
     "output_type": "execute_result"
    }
   ],
   "source": [
    "mystr2.replace(\"He\" , \"Ho\")                  #Replace substring \"He\" with \"Ho\"\n"
   ]
  },
  {
   "cell_type": "code",
   "execution_count": 45,
   "id": "52bb84c7",
   "metadata": {},
   "outputs": [
    {
     "data": {
      "text/plain": [
       "'HelloEveryone'"
      ]
     },
     "execution_count": 45,
     "metadata": {},
     "output_type": "execute_result"
    }
   ],
   "source": [
    "mystr2.replace(\" \" , \"\")                      # Remove all whitespaces using replace function\n"
   ]
  },
  {
   "cell_type": "code",
   "execution_count": 46,
   "id": "afa59e38",
   "metadata": {},
   "outputs": [
    {
     "name": "stdout",
     "output_type": "stream",
     "text": [
      "2\n",
      "3\n"
     ]
    }
   ],
   "source": [
    "mystr5 = \"one two Three one two two three\"\n",
    "print(mystr5.count(\"one\"))                             # Number of times substring \"one\" occurred in string.\n",
    "print(mystr5.count(\"two\"))                              # Number of times substring \"two\" occurred in string.\n"
   ]
  },
  {
   "cell_type": "code",
   "execution_count": 47,
   "id": "a94ea6ca",
   "metadata": {},
   "outputs": [
    {
     "data": {
      "text/plain": [
       "True"
      ]
     },
     "execution_count": 47,
     "metadata": {},
     "output_type": "execute_result"
    }
   ],
   "source": [
    "mystr5.startswith(\"one\")                         # Return boolean value True if string starts with \"one\""
   ]
  },
  {
   "cell_type": "code",
   "execution_count": 48,
   "id": "d5d9dc37",
   "metadata": {},
   "outputs": [],
   "source": [
    "\n",
    "mystr4 = \"one two three four one two two three five five six seven six seven one\""
   ]
  },
  {
   "cell_type": "code",
   "execution_count": 49,
   "id": "b7542078",
   "metadata": {},
   "outputs": [
    {
     "data": {
      "text/plain": [
       "True"
      ]
     },
     "execution_count": 49,
     "metadata": {},
     "output_type": "execute_result"
    }
   ],
   "source": [
    "mystr5.endswith(\"three\")                             # Return boolean value True if string ends with \"three\"\n"
   ]
  },
  {
   "cell_type": "code",
   "execution_count": 50,
   "id": "ab88fa56",
   "metadata": {},
   "outputs": [
    {
     "data": {
      "text/plain": [
       "['one',\n",
       " 'two',\n",
       " 'three',\n",
       " 'four',\n",
       " 'one',\n",
       " 'two',\n",
       " 'two',\n",
       " 'three',\n",
       " 'five',\n",
       " 'five',\n",
       " 'six',\n",
       " 'seven',\n",
       " 'six',\n",
       " 'seven',\n",
       " 'one']"
      ]
     },
     "execution_count": 50,
     "metadata": {},
     "output_type": "execute_result"
    }
   ],
   "source": [
    "mylist = mystr4.split()                  # Split String into substrings\n",
    "mylist\n"
   ]
  },
  {
   "cell_type": "code",
   "execution_count": 51,
   "id": "8f20cd06",
   "metadata": {},
   "outputs": [
    {
     "name": "stdout",
     "output_type": "stream",
     "text": [
      "Cost of item1 , item2 and item3 are 40 , 55 and 77\n"
     ]
    }
   ],
   "source": [
    "# Combining string & numbers using format method\n",
    "item1 = 40\n",
    "item2 = 55\n",
    "item3 = 77\n",
    "res = \"Cost of item1 , item2 and item3 are {} , {} and {}\"\n",
    "print(res.format(item1,item2,item3))\n",
    "\n"
   ]
  },
  {
   "cell_type": "code",
   "execution_count": 52,
   "id": "5e1c970e",
   "metadata": {},
   "outputs": [
    {
     "name": "stdout",
     "output_type": "stream",
     "text": [
      "Cost of item3 , item2 and item1 are 77 , 55 and 40\n"
     ]
    }
   ],
   "source": [
    "# Combining string & numbers using format method\n",
    "item1 = 40\n",
    "item2 = 55\n",
    "item3 = 77\n",
    "res = \"Cost of item3 , item2 and item1 are {2} , {1} and {0}\"\n",
    "print(res.format(item1,item2,item3))"
   ]
  },
  {
   "cell_type": "code",
   "execution_count": 53,
   "id": "a76c52c8",
   "metadata": {},
   "outputs": [
    {
     "name": "stdout",
     "output_type": "stream",
     "text": [
      "                                                                                                                                                                                                                                                                                                                                                                                                                                                                                                                                                                                                                                                                                                                                                                                                                                                                                                                                                                                                                                                                                                                                                                                                                                                                                                                                                                                                                                                                                                                                                                                                                                                                                                                                                                                                                                                                                                                                                                                                                                                                                                                                                                                                                                                                                                                                                                                                                                                                                                                                                                                                                                                                                                                                                                                                                                                                                                                                                                                                                                                                                                                                                                                                                                                                                                                                                                                                                                                                                                                                                                                                                                                                                                                                                                                                                                                                                                                                                                                                                                                                                                                                                                                                                                                                                                                                                                                                                                                                                                                                                                                                                                                                                                                                                                                                                                                                                                                                                                                                                                                                                                                                                                                                WELCOME EVERYONE                                                                                                                                                                                                                                                                                                                                                                                                                                                                                                                                                                                                                                                                                                                                                                                                                                                                                                                                                                                                                                                                                                                                                                                                                                                                                                                                                                                                                                                                                                                                                                                                                                                                                                                                                                                                                                                                                                                                                                                                                                                                                                                                                                                                                                                                                                                                                                                                                                                                                                                                                                                                                                                                                                                                                                                                                                                                                                                                                                                                                                                                                                                                                                                                                                                                                                                                                                                                                                                                                                                                                                                                                                                                                                                                                                                                                                                                                                                                                                                                                                                                                                                                                                                                                                                                                                                                                                                                                                                                                                                                                                                                                                                                                                                                                                                                                                                                                                                                                                                                                                                                                                                                                                                                \n"
     ]
    }
   ],
   "source": [
    "str2 = \" WELCOME EVERYONE \"\n",
    "str2 = str2.center(10000)          # center align the string using a specific character as t\n",
    "print(str2)\n"
   ]
  },
  {
   "cell_type": "code",
   "execution_count": 54,
   "id": "1ebe1dc0",
   "metadata": {},
   "outputs": [
    {
     "name": "stdout",
     "output_type": "stream",
     "text": [
      "***************************************** WELCOME EVERYONE *****************************************\n"
     ]
    }
   ],
   "source": [
    "str2 = \" WELCOME EVERYONE \"\n",
    "str2 = str2.center(100,'*')                            # center align the string using a specific character \n",
    "print(str2)\n"
   ]
  },
  {
   "cell_type": "code",
   "execution_count": 55,
   "id": "03df4b0a",
   "metadata": {},
   "outputs": [
    {
     "name": "stdout",
     "output_type": "stream",
     "text": [
      "                                 WELCOME EVERYONE \n"
     ]
    }
   ],
   "source": [
    "str2 = \" WELCOME EVERYONE \"\n",
    "str2 = str2.rjust(50)                      # Right align the string using a specific character as the \n",
    "print(str2)\n"
   ]
  },
  {
   "cell_type": "code",
   "execution_count": 56,
   "id": "afe71b47",
   "metadata": {},
   "outputs": [
    {
     "name": "stdout",
     "output_type": "stream",
     "text": [
      "******************************** WELCOME EVERYONE \n"
     ]
    }
   ],
   "source": [
    "str2 = \" WELCOME EVERYONE \"\n",
    "str2 = str2.rjust(50,'*') # Right align the string using a specific character ('*\n",
    "print(str2)\n"
   ]
  },
  {
   "cell_type": "code",
   "execution_count": 57,
   "id": "733e112e",
   "metadata": {},
   "outputs": [
    {
     "name": "stdout",
     "output_type": "stream",
     "text": [
      "19\n"
     ]
    }
   ],
   "source": [
    "str4 = \"one two three four five six seven\"\n",
    "loc = str4.find(\"five\")                                 # Find the location of word 'five' in the string \"str4\"\n",
    "print(loc)\n",
    "   "
   ]
  },
  {
   "cell_type": "code",
   "execution_count": 58,
   "id": "d0177c9d",
   "metadata": {},
   "outputs": [
    {
     "name": "stdout",
     "output_type": "stream",
     "text": [
      "19\n"
     ]
    }
   ],
   "source": [
    "str4 = \"one two three four five six seven\"\n",
    "loc = str4.index(\"five\")                           # Find the location of word 'five' in the string \"str4\"\n",
    "print(loc)\n",
    "\n"
   ]
  },
  {
   "cell_type": "code",
   "execution_count": 59,
   "id": "7c76d26a",
   "metadata": {},
   "outputs": [
    {
     "name": "stdout",
     "output_type": "stream",
     "text": [
      "False\n",
      "True\n",
      "True\n"
     ]
    }
   ],
   "source": [
    "mystr6 = '123456789'\n",
    "print(mystr6.isalpha())                   # returns True if a string contains only letters or numb\n",
    "print(mystr6.isdecimal())                  # returns True if all the characters are decimals (0-9)\n",
    "print(mystr6.isnumeric())                  # returns True if all the characters are numeric (0-9)"
   ]
  },
  {
   "cell_type": "code",
   "execution_count": 60,
   "id": "6465ecb7",
   "metadata": {},
   "outputs": [
    {
     "name": "stdout",
     "output_type": "stream",
     "text": [
      "True\n",
      "True\n",
      "False\n",
      "False\n"
     ]
    }
   ],
   "source": [
    "mystr6 = 'abcde'\n",
    "print(mystr6.isalpha())                 # returns True if all the characters in the text are letter\n",
    "print(mystr6.isalnum())                 # returns True if a string contains only letters or numb\n",
    "print(mystr6.isdecimal())               # returns True if all the characters are decimals (0-9)\n",
    "print(mystr6.isnumeric())               # returns True if all the characters are numeric (0-9)\n"
   ]
  },
  {
   "cell_type": "code",
   "execution_count": 61,
   "id": "cac3f3d7",
   "metadata": {},
   "outputs": [
    {
     "name": "stdout",
     "output_type": "stream",
     "text": [
      "False\n",
      "True\n",
      "False\n",
      "False\n"
     ]
    }
   ],
   "source": [
    "mystr6 = 'abc12309'\n",
    "print(mystr6.isalpha())           # returns True if all the characters in the text are lett\n",
    "print(mystr6.isalnum())           # returns True if a string contains only letters or numb\n",
    "print(mystr6.isdecimal())         # returns True if all the characters are decimals (0-9)\n",
    "print(mystr6.isnumeric())          # returns True if all the characters are numeric (0-9)\n"
   ]
  },
  {
   "cell_type": "code",
   "execution_count": 62,
   "id": "c1be622d",
   "metadata": {},
   "outputs": [
    {
     "name": "stdout",
     "output_type": "stream",
     "text": [
      "True\n",
      "False\n"
     ]
    }
   ],
   "source": [
    "mystr7 = 'ABCDEF'\n",
    "print(mystr7.isupper())                 # Returns True if all the characters are in upper case\n",
    "print(mystr7.islower())                 # Returns True if all the characters are in lower case\n"
   ]
  },
  {
   "cell_type": "code",
   "execution_count": 63,
   "id": "24d9b95d",
   "metadata": {},
   "outputs": [
    {
     "name": "stdout",
     "output_type": "stream",
     "text": [
      "False\n",
      "True\n"
     ]
    }
   ],
   "source": [
    "mystr8 = 'abcdef'\n",
    "print(mystr8.isupper())              # Returns True if all the characters are in upper case\n",
    "print(mystr8.islower())              # Returns True if all the characters are in lower case\n"
   ]
  },
  {
   "cell_type": "code",
   "execution_count": 64,
   "id": "226fad6d",
   "metadata": {},
   "outputs": [
    {
     "name": "stdout",
     "output_type": "stream",
     "text": [
      "51\n"
     ]
    }
   ],
   "source": [
    "str6 = \"one two three four one two two three five five six one ten eight ten nine\"\n",
    "loc = str6.rfind(\"one\")                                       # last occurrence of word 'one' in string \"str6\"\n",
    "print(loc)\n"
   ]
  },
  {
   "cell_type": "code",
   "execution_count": 65,
   "id": "6d8f8114",
   "metadata": {},
   "outputs": [
    {
     "name": "stdout",
     "output_type": "stream",
     "text": [
      "51\n"
     ]
    }
   ],
   "source": [
    "loc = str6.rindex(\"one\")                            # last occurrence of word 'one' in string \"str6\"\n",
    "print(loc)\n"
   ]
  },
  {
   "cell_type": "code",
   "execution_count": 66,
   "id": "64f76c53",
   "metadata": {},
   "outputs": [
    {
     "data": {
      "text/plain": [
       "' abc def ghi'"
      ]
     },
     "execution_count": 66,
     "metadata": {},
     "output_type": "execute_result"
    }
   ],
   "source": [
    "txt = \" abc def ghi \"\n",
    "txt.rstrip()"
   ]
  },
  {
   "cell_type": "code",
   "execution_count": 67,
   "id": "aa29c6d5",
   "metadata": {},
   "outputs": [
    {
     "data": {
      "text/plain": [
       "'abc def ghi '"
      ]
     },
     "execution_count": 67,
     "metadata": {},
     "output_type": "execute_result"
    }
   ],
   "source": [
    "txt = \" abc def ghi \"\n",
    "txt.lstrip()\n"
   ]
  },
  {
   "cell_type": "code",
   "execution_count": 68,
   "id": "e969e088",
   "metadata": {},
   "outputs": [
    {
     "data": {
      "text/plain": [
       "'abc def ghi'"
      ]
     },
     "execution_count": 68,
     "metadata": {},
     "output_type": "execute_result"
    }
   ],
   "source": [
    "txt = \" abc def ghi \"\n",
    "txt.strip()\n"
   ]
  },
  {
   "cell_type": "code",
   "execution_count": 69,
   "id": "7b6dbb9d",
   "metadata": {},
   "outputs": [
    {
     "ename": "SyntaxError",
     "evalue": "invalid syntax (899366246.py, line 2)",
     "output_type": "error",
     "traceback": [
      "\u001b[1;36m  Input \u001b[1;32mIn [69]\u001b[1;36m\u001b[0m\n\u001b[1;33m    mystr = \"My favourite TV Series is \"Game of Thrones\"\"\u001b[0m\n\u001b[1;37m                                        ^\u001b[0m\n\u001b[1;31mSyntaxError\u001b[0m\u001b[1;31m:\u001b[0m invalid syntax\n"
     ]
    }
   ],
   "source": [
    "#Using double quotes in the string is not allowed.\n",
    "mystr = \"My favourite TV Series is \"Game of Thrones\"\"\n"
   ]
  },
  {
   "cell_type": "code",
   "execution_count": 70,
   "id": "b65cd524",
   "metadata": {},
   "outputs": [
    {
     "name": "stdout",
     "output_type": "stream",
     "text": [
      "My favourite series is \"Game of Thrones\"\n"
     ]
    }
   ],
   "source": [
    "#Using escape character to allow illegal characters\n",
    "mystr = \"My favourite series is \\\"Game of Thrones\\\"\"\n",
    "print(mystr)\n"
   ]
  },
  {
   "cell_type": "code",
   "execution_count": 71,
   "id": "cf2ee336",
   "metadata": {},
   "outputs": [
    {
     "name": "stdout",
     "output_type": "stream",
     "text": [
      "<class 'list'>\n"
     ]
    }
   ],
   "source": [
    "list1 = [] # Empty List\n",
    "print(type(list1))\n",
    "\n"
   ]
  },
  {
   "cell_type": "code",
   "execution_count": 72,
   "id": "2311bc02",
   "metadata": {},
   "outputs": [],
   "source": [
    "list2 = [10,30,60]                     # List of integers numbers\n",
    "list3 = [10.77,30.66,60.89]            # List of float numbers"
   ]
  },
  {
   "cell_type": "code",
   "execution_count": 73,
   "id": "e38b66b3",
   "metadata": {},
   "outputs": [],
   "source": [
    "list4 = ['one','two' , \"three\"]                                 # List of strings\n",
    "list5 = ['Asif', 25 ,[50, 100],[150, 90]]                       # Nested Lists\n",
    "list6 = [100, 'Asif', 17.765]                                   # List of mixed data types\n",
    "list7 = ['Asif', 25 ,[50, 100],[150, 90] , {'John' , 'David'}]\n"
   ]
  },
  {
   "cell_type": "code",
   "execution_count": 74,
   "id": "4b3e699c",
   "metadata": {},
   "outputs": [
    {
     "data": {
      "text/plain": [
       "3"
      ]
     },
     "execution_count": 74,
     "metadata": {},
     "output_type": "execute_result"
    }
   ],
   "source": [
    "len(list6)                        #Length of list\n"
   ]
  },
  {
   "cell_type": "code",
   "execution_count": 75,
   "id": "713eb23b",
   "metadata": {},
   "outputs": [
    {
     "name": "stdout",
     "output_type": "stream",
     "text": [
      "10\n",
      "one\n",
      "o\n",
      "three\n",
      "[150, 90]\n"
     ]
    }
   ],
   "source": [
    "print(list2[0])                          # Retreive first element of the list\n",
    "print(list4[0])                                # Retreive first element of the list\n",
    "print(list4[0][0])                                  # Nested indexing - Access the first character of the first list elem\n",
    "print(list4[-1])                                 # Last item of the list\n",
    "print(list5[-1])                                   # Last item of the lis"
   ]
  },
  {
   "cell_type": "code",
   "execution_count": 76,
   "id": "32faacd6",
   "metadata": {},
   "outputs": [
    {
     "name": "stdout",
     "output_type": "stream",
     "text": [
      "['one', 'two', 'three']\n",
      "['three', 'four', 'five']\n",
      "['one', 'two', 'three']\n",
      "['one', 'two']\n",
      "['six', 'seven', 'eight']\n",
      "['seven', 'eight']\n",
      "eight\n",
      "['one', 'two', 'three', 'four', 'five', 'six', 'seven', 'eight']\n"
     ]
    }
   ],
   "source": [
    "mylist = ['one' , 'two' , 'three' , 'four' , 'five' , 'six' , 'seven' , 'eight']\n",
    "\n",
    "print(mylist[0:3])                        # Return all items from 0th to 3rd index location excluding the item \n",
    "print(mylist[2:5])                         # List all items from 2nd to 5th index location excluding the item at\n",
    "print(mylist[:3])                          # Return first three items\n",
    "print(mylist[:2])                          # Return first two items\n",
    "print(mylist[-3:])                         # Return last three items\n",
    "print(mylist[-2:])                          # Return last two items\n",
    "print(mylist[-1])                         # Return last item of the list\n",
    "print(mylist[:])                          # Return whole list\n",
    "\n"
   ]
  },
  {
   "cell_type": "code",
   "execution_count": 77,
   "id": "ce089c35",
   "metadata": {},
   "outputs": [],
   "source": [
    "mylist.append('nine')                # Add an item to the end of the list "
   ]
  },
  {
   "cell_type": "code",
   "execution_count": 78,
   "id": "66e724ab",
   "metadata": {},
   "outputs": [
    {
     "name": "stdout",
     "output_type": "stream",
     "text": [
      "['one', 'two', 'three', 'four', 'five', 'six', 'seven', 'eight', 'nine']\n"
     ]
    }
   ],
   "source": [
    "print(mylist)"
   ]
  },
  {
   "cell_type": "code",
   "execution_count": 79,
   "id": "e22541c2",
   "metadata": {},
   "outputs": [],
   "source": [
    "mylist.insert(9,'ten')                   # Add item at index location 9"
   ]
  },
  {
   "cell_type": "code",
   "execution_count": 80,
   "id": "a00f2ca9",
   "metadata": {},
   "outputs": [
    {
     "name": "stdout",
     "output_type": "stream",
     "text": [
      "['one', 'two', 'three', 'four', 'five', 'six', 'seven', 'eight', 'nine', 'ten']\n"
     ]
    }
   ],
   "source": [
    "print(mylist)"
   ]
  },
  {
   "cell_type": "code",
   "execution_count": 81,
   "id": "08ad0af6",
   "metadata": {},
   "outputs": [
    {
     "data": {
      "text/plain": [
       "['one',\n",
       " 'ONE',\n",
       " 'two',\n",
       " 'three',\n",
       " 'four',\n",
       " 'five',\n",
       " 'six',\n",
       " 'seven',\n",
       " 'eight',\n",
       " 'nine',\n",
       " 'ten']"
      ]
     },
     "execution_count": 81,
     "metadata": {},
     "output_type": "execute_result"
    }
   ],
   "source": [
    "mylist.insert(1,'ONE')                      # Add item at index location 1\n",
    "mylist\n"
   ]
  },
  {
   "cell_type": "code",
   "execution_count": 82,
   "id": "8aef4c46",
   "metadata": {},
   "outputs": [
    {
     "data": {
      "text/plain": [
       "['one', 'two', 'three', 'four', 'five', 'six', 'seven', 'eight', 'nine', 'ten']"
      ]
     },
     "execution_count": 82,
     "metadata": {},
     "output_type": "execute_result"
    }
   ],
   "source": [
    "mylist.remove('ONE')                                  # Remove item \"ONE\"\n",
    "mylist\n",
    "\n"
   ]
  },
  {
   "cell_type": "code",
   "execution_count": 83,
   "id": "e75cb5fb",
   "metadata": {},
   "outputs": [
    {
     "data": {
      "text/plain": [
       "'ten'"
      ]
     },
     "execution_count": 83,
     "metadata": {},
     "output_type": "execute_result"
    }
   ],
   "source": [
    "mylist.pop()                                      # Remove last item of the list\n"
   ]
  },
  {
   "cell_type": "code",
   "execution_count": 84,
   "id": "64cac4c1",
   "metadata": {},
   "outputs": [
    {
     "data": {
      "text/plain": [
       "['one', 'two', 'three', 'four', 'five', 'six', 'seven', 'eight', 'nine']"
      ]
     },
     "execution_count": 84,
     "metadata": {},
     "output_type": "execute_result"
    }
   ],
   "source": [
    "mylist\n"
   ]
  },
  {
   "cell_type": "code",
   "execution_count": 85,
   "id": "df9a2d0b",
   "metadata": {},
   "outputs": [
    {
     "data": {
      "text/plain": [
       "'nine'"
      ]
     },
     "execution_count": 85,
     "metadata": {},
     "output_type": "execute_result"
    }
   ],
   "source": [
    "mylist.pop(8)                                 # Remove item at index location 8"
   ]
  },
  {
   "cell_type": "code",
   "execution_count": 86,
   "id": "ab287b87",
   "metadata": {},
   "outputs": [
    {
     "data": {
      "text/plain": [
       "['one', 'two', 'three', 'four', 'five', 'six', 'seven', 'eight']"
      ]
     },
     "execution_count": 86,
     "metadata": {},
     "output_type": "execute_result"
    }
   ],
   "source": [
    "mylist"
   ]
  },
  {
   "cell_type": "code",
   "execution_count": 87,
   "id": "415db632",
   "metadata": {},
   "outputs": [],
   "source": [
    "del mylist[7]                                # Remove item at index location 7"
   ]
  },
  {
   "cell_type": "code",
   "execution_count": 88,
   "id": "78400d42",
   "metadata": {},
   "outputs": [
    {
     "data": {
      "text/plain": [
       "['one', 'two', 'three', 'four', 'five', 'six', 'seven']"
      ]
     },
     "execution_count": 88,
     "metadata": {},
     "output_type": "execute_result"
    }
   ],
   "source": [
    "mylist"
   ]
  },
  {
   "cell_type": "code",
   "execution_count": 89,
   "id": "fc6db998",
   "metadata": {},
   "outputs": [
    {
     "data": {
      "text/plain": [
       "[1, 2, 3, 'four', 'five', 'six', 'seven']"
      ]
     },
     "execution_count": 89,
     "metadata": {},
     "output_type": "execute_result"
    }
   ],
   "source": [
    "# Change value of the string\n",
    "mylist[0] = 1\n",
    "mylist[1] = 2\n",
    "mylist[2] = 3\n",
    "mylist\n"
   ]
  },
  {
   "cell_type": "code",
   "execution_count": 90,
   "id": "0a1949bc",
   "metadata": {},
   "outputs": [
    {
     "data": {
      "text/plain": [
       "[]"
      ]
     },
     "execution_count": 90,
     "metadata": {},
     "output_type": "execute_result"
    }
   ],
   "source": [
    "mylist.clear()                   # Empty List / Delete all items in the list\n",
    "mylist"
   ]
  },
  {
   "cell_type": "code",
   "execution_count": 91,
   "id": "50dad64f",
   "metadata": {},
   "outputs": [],
   "source": [
    "del mylist                      # Delete the whole list\n"
   ]
  },
  {
   "cell_type": "code",
   "execution_count": 92,
   "id": "243ad9f1",
   "metadata": {},
   "outputs": [
    {
     "ename": "NameError",
     "evalue": "name 'mylist' is not defined",
     "output_type": "error",
     "traceback": [
      "\u001b[1;31m---------------------------------------------------------------------------\u001b[0m",
      "\u001b[1;31mNameError\u001b[0m                                 Traceback (most recent call last)",
      "Input \u001b[1;32mIn [92]\u001b[0m, in \u001b[0;36m<cell line: 1>\u001b[1;34m()\u001b[0m\n\u001b[1;32m----> 1\u001b[0m \u001b[43mmylist\u001b[49m\n",
      "\u001b[1;31mNameError\u001b[0m: name 'mylist' is not defined"
     ]
    }
   ],
   "source": [
    "mylist\n",
    "\n"
   ]
  },
  {
   "cell_type": "code",
   "execution_count": 93,
   "id": "19654464",
   "metadata": {},
   "outputs": [
    {
     "data": {
      "text/plain": [
       "(2166585536896, 2166585536896)"
      ]
     },
     "execution_count": 93,
     "metadata": {},
     "output_type": "execute_result"
    }
   ],
   "source": [
    "mylist = ['one', 'two', 'three', 'four', 'five', 'six', 'seven', 'eight', 'nine']\n",
    "mylist1 = mylist                               # Create a new reference \"mylist1\" \n",
    "id(mylist) , id(mylist1)                       # The address of both mylist & mylist1 will be the same \n"
   ]
  },
  {
   "cell_type": "code",
   "execution_count": 94,
   "id": "d85652af",
   "metadata": {},
   "outputs": [
    {
     "data": {
      "text/plain": [
       "2166613958720"
      ]
     },
     "execution_count": 94,
     "metadata": {},
     "output_type": "execute_result"
    }
   ],
   "source": [
    "mylist2 = mylist.copy()                        # Create a copy of the list\n",
    "id(mylist2)                                    # The address of mylist2 will be different from mylist because mylist\n"
   ]
  },
  {
   "cell_type": "code",
   "execution_count": 95,
   "id": "6916555d",
   "metadata": {},
   "outputs": [
    {
     "data": {
      "text/plain": [
       "[1, 'two', 'three', 'four', 'five', 'six', 'seven', 'eight', 'nine']"
      ]
     },
     "execution_count": 95,
     "metadata": {},
     "output_type": "execute_result"
    }
   ],
   "source": [
    "mylist[0] = 1\n",
    "mylist\n"
   ]
  },
  {
   "cell_type": "code",
   "execution_count": 96,
   "id": "df98731e",
   "metadata": {},
   "outputs": [
    {
     "name": "stdout",
     "output_type": "stream",
     "text": [
      "[1, 'two', 'three', 'four', 'five', 'six', 'seven', 'eight', 'nine']\n",
      "['one', 'two', 'three', 'four', 'five', 'six', 'seven', 'eight', 'nine']\n"
     ]
    }
   ],
   "source": [
    "print(mylist1)                                        # mylist1 will be also impacted as it is pointing to the same list\n",
    "print(mylist2)                                        # Copy of list won't be impacted due to changes made on the original list\n"
   ]
  },
  {
   "cell_type": "code",
   "execution_count": 97,
   "id": "2addd69b",
   "metadata": {},
   "outputs": [
    {
     "data": {
      "text/plain": [
       "['one', 'two', 'three', 'four', 'five', 'six', 'seven', 'eight']"
      ]
     },
     "execution_count": 97,
     "metadata": {},
     "output_type": "execute_result"
    }
   ],
   "source": [
    "list1 = ['one', 'two', 'three', 'four']\n",
    "list2 = ['five', 'six', 'seven', 'eight'] \n",
    "list3 = list1 + list2                                       # Join two lists by '+' operator\n",
    "list3\n"
   ]
  },
  {
   "cell_type": "code",
   "execution_count": 98,
   "id": "babf46fd",
   "metadata": {},
   "outputs": [
    {
     "data": {
      "text/plain": [
       "['one', 'two', 'three', 'four', 'five', 'six', 'seven', 'eight']"
      ]
     },
     "execution_count": 98,
     "metadata": {},
     "output_type": "execute_result"
    }
   ],
   "source": [
    "list1.extend(list2)                                       #Append list2 with list1\n",
    "list1"
   ]
  },
  {
   "cell_type": "markdown",
   "id": "c30589e6",
   "metadata": {},
   "source": [
    "# List Membership (in, not in)"
   ]
  },
  {
   "cell_type": "code",
   "execution_count": 99,
   "id": "8918c7f9",
   "metadata": {},
   "outputs": [
    {
     "data": {
      "text/plain": [
       "['one', 'two', 'three', 'four', 'five', 'six', 'seven', 'eight']"
      ]
     },
     "execution_count": 99,
     "metadata": {},
     "output_type": "execute_result"
    }
   ],
   "source": [
    "list1"
   ]
  },
  {
   "cell_type": "code",
   "execution_count": 100,
   "id": "15d40b3b",
   "metadata": {},
   "outputs": [
    {
     "data": {
      "text/plain": [
       "True"
      ]
     },
     "execution_count": 100,
     "metadata": {},
     "output_type": "execute_result"
    }
   ],
   "source": [
    "'one' in list1                                    # Check if 'one' exist in the list"
   ]
  },
  {
   "cell_type": "code",
   "execution_count": 101,
   "id": "f3993136",
   "metadata": {},
   "outputs": [
    {
     "data": {
      "text/plain": [
       "False"
      ]
     },
     "execution_count": 101,
     "metadata": {},
     "output_type": "execute_result"
    }
   ],
   "source": [
    "'ten' in list1                              # Check if 'ten' exist in the list"
   ]
  },
  {
   "cell_type": "code",
   "execution_count": 102,
   "id": "3e1fc845",
   "metadata": {},
   "outputs": [
    {
     "name": "stdout",
     "output_type": "stream",
     "text": [
      "Three is present in the list\n"
     ]
    }
   ],
   "source": [
    "if 'three' in list1:                                  # Check if 'three' exist in the list\n",
    "    print('Three is present in the list')\n",
    "else:\n",
    "    print('Three is not present in the list')"
   ]
  },
  {
   "cell_type": "code",
   "execution_count": 103,
   "id": "b1c6b48e",
   "metadata": {},
   "outputs": [
    {
     "name": "stdout",
     "output_type": "stream",
     "text": [
      "eleven is not present in the list\n"
     ]
    }
   ],
   "source": [
    "if 'eleven' in list1:                                    # Check if 'eleven' exist in the list\n",
    "    print('eleven is present in the list')\n",
    "else:\n",
    "    print('eleven is not present in the list')"
   ]
  },
  {
   "cell_type": "markdown",
   "id": "50f38865",
   "metadata": {},
   "source": [
    "# Reverse & Sort List"
   ]
  },
  {
   "cell_type": "code",
   "execution_count": 104,
   "id": "72fe465f",
   "metadata": {},
   "outputs": [
    {
     "data": {
      "text/plain": [
       "['one', 'two', 'three', 'four', 'five', 'six', 'seven', 'eight']"
      ]
     },
     "execution_count": 104,
     "metadata": {},
     "output_type": "execute_result"
    }
   ],
   "source": [
    "list1"
   ]
  },
  {
   "cell_type": "code",
   "execution_count": 105,
   "id": "c3454e7e",
   "metadata": {},
   "outputs": [],
   "source": [
    "list1.reverse()                                         # Reverse the list"
   ]
  },
  {
   "cell_type": "code",
   "execution_count": 106,
   "id": "b2e26da6",
   "metadata": {},
   "outputs": [
    {
     "data": {
      "text/plain": [
       "['eight', 'seven', 'six', 'five', 'four', 'three', 'two', 'one']"
      ]
     },
     "execution_count": 106,
     "metadata": {},
     "output_type": "execute_result"
    }
   ],
   "source": [
    "list1"
   ]
  },
  {
   "cell_type": "code",
   "execution_count": 107,
   "id": "a43f632f",
   "metadata": {},
   "outputs": [],
   "source": [
    "list1 = list1[::-1]                                     # Reverse the list"
   ]
  },
  {
   "cell_type": "code",
   "execution_count": 108,
   "id": "324f8115",
   "metadata": {},
   "outputs": [
    {
     "data": {
      "text/plain": [
       "[2, 5, 9, 12, 34, 88, 99]"
      ]
     },
     "execution_count": 108,
     "metadata": {},
     "output_type": "execute_result"
    }
   ],
   "source": [
    "mylist3 = [9,5,2,99,12,88,34]\n",
    "mylist3.sort()                                          # Sort list in ascending order\n",
    "mylist3"
   ]
  },
  {
   "cell_type": "code",
   "execution_count": 109,
   "id": "b924c4ed",
   "metadata": {},
   "outputs": [
    {
     "data": {
      "text/plain": [
       "[99, 88, 34, 12, 9, 5, 2]"
      ]
     },
     "execution_count": 109,
     "metadata": {},
     "output_type": "execute_result"
    }
   ],
   "source": [
    "mylist3 = [9,5,2,99,12,88,34]\n",
    "mylist3.sort(reverse=True)                              # Sort list in descending order\n",
    "mylist3\n"
   ]
  },
  {
   "cell_type": "code",
   "execution_count": 110,
   "id": "2fbd577b",
   "metadata": {},
   "outputs": [
    {
     "name": "stdout",
     "output_type": "stream",
     "text": [
      "[88, 65, 33, 21, 11, 98]\n"
     ]
    },
    {
     "data": {
      "text/plain": [
       "[11, 21, 33, 65, 88, 98]"
      ]
     },
     "execution_count": 110,
     "metadata": {},
     "output_type": "execute_result"
    }
   ],
   "source": [
    "mylist4 = [88,65,33,21,11,98]\n",
    "a=sorted(mylist4)                                         # Returns a new sorted list and doesn't change original li\n",
    "print(mylist4)\n",
    "a"
   ]
  },
  {
   "cell_type": "markdown",
   "id": "9cf8b365",
   "metadata": {},
   "source": [
    "# Loop through a list\n"
   ]
  },
  {
   "cell_type": "code",
   "execution_count": 111,
   "id": "1ff7a7ad",
   "metadata": {},
   "outputs": [
    {
     "data": {
      "text/plain": [
       "['one', 'two', 'three', 'four', 'five', 'six', 'seven', 'eight']"
      ]
     },
     "execution_count": 111,
     "metadata": {},
     "output_type": "execute_result"
    }
   ],
   "source": [
    "list1"
   ]
  },
  {
   "cell_type": "code",
   "execution_count": 112,
   "id": "0c6ab2ca",
   "metadata": {},
   "outputs": [
    {
     "name": "stdout",
     "output_type": "stream",
     "text": [
      "one\n",
      "two\n",
      "three\n",
      "four\n",
      "five\n",
      "six\n",
      "seven\n",
      "eight\n"
     ]
    }
   ],
   "source": [
    "for i in list1:\n",
    "    print(i)\n"
   ]
  },
  {
   "cell_type": "code",
   "execution_count": 113,
   "id": "fb5ebac9",
   "metadata": {},
   "outputs": [
    {
     "name": "stdout",
     "output_type": "stream",
     "text": [
      "(0, 'one')\n",
      "(1, 'two')\n",
      "(2, 'three')\n",
      "(3, 'four')\n",
      "(4, 'five')\n",
      "(5, 'six')\n",
      "(6, 'seven')\n",
      "(7, 'eight')\n"
     ]
    }
   ],
   "source": [
    "for i in enumerate(list1):\n",
    "    print(i)"
   ]
  },
  {
   "cell_type": "markdown",
   "id": "e4f63119",
   "metadata": {},
   "source": [
    "# count"
   ]
  },
  {
   "cell_type": "code",
   "execution_count": 114,
   "id": "d0b3385e",
   "metadata": {},
   "outputs": [
    {
     "name": "stdout",
     "output_type": "stream",
     "text": [
      "3\n",
      "2\n",
      "1\n"
     ]
    }
   ],
   "source": [
    "list10 =['one', 'two', 'three', 'four', 'one', 'one', 'two', 'three']\n",
    "print(list10.count('one'))                       # Number of times item \"one\" occurred in the list.\n",
    "print(list10.count('two'))                       # Occurence of item 'two' in the list\n",
    "print(list10.count('four'))                      #Occurence of item 'four' in the list\n"
   ]
  },
  {
   "cell_type": "markdown",
   "id": "2fdf7aac",
   "metadata": {},
   "source": [
    "# all()"
   ]
  },
  {
   "cell_type": "code",
   "execution_count": 115,
   "id": "199d3cf5",
   "metadata": {},
   "outputs": [],
   "source": [
    "L1 = [1,2,3,4,0]"
   ]
  },
  {
   "cell_type": "code",
   "execution_count": 116,
   "id": "41274d65",
   "metadata": {},
   "outputs": [
    {
     "data": {
      "text/plain": [
       "False"
      ]
     },
     "execution_count": 116,
     "metadata": {},
     "output_type": "execute_result"
    }
   ],
   "source": [
    "all(L1)                           # Will Return false as one value is false (Value 0)"
   ]
  },
  {
   "cell_type": "code",
   "execution_count": 117,
   "id": "93878a68",
   "metadata": {},
   "outputs": [
    {
     "data": {
      "text/plain": [
       "True"
      ]
     },
     "execution_count": 117,
     "metadata": {},
     "output_type": "execute_result"
    }
   ],
   "source": [
    "any(L1)                           # Will Return True as we have items in the list with True value"
   ]
  },
  {
   "cell_type": "code",
   "execution_count": 118,
   "id": "c99faef6",
   "metadata": {},
   "outputs": [],
   "source": [
    "L2 = [1,2,3,4,True,False]\n",
    "                                    # Will Return True as we have items in the list with True value"
   ]
  },
  {
   "cell_type": "code",
   "execution_count": 119,
   "id": "1032f302",
   "metadata": {},
   "outputs": [
    {
     "data": {
      "text/plain": [
       "False"
      ]
     },
     "execution_count": 119,
     "metadata": {},
     "output_type": "execute_result"
    }
   ],
   "source": [
    "all(L2)                           # Returns false as one value is false"
   ]
  },
  {
   "cell_type": "code",
   "execution_count": 120,
   "id": "a1327c06",
   "metadata": {},
   "outputs": [
    {
     "data": {
      "text/plain": [
       "True"
      ]
     },
     "execution_count": 120,
     "metadata": {},
     "output_type": "execute_result"
    }
   ],
   "source": [
    "any(L2)                           # Will Return True as we have items in the list with True value"
   ]
  },
  {
   "cell_type": "code",
   "execution_count": 121,
   "id": "faba8b3c",
   "metadata": {},
   "outputs": [
    {
     "name": "stdout",
     "output_type": "stream",
     "text": [
      "True\n",
      "True\n"
     ]
    }
   ],
   "source": [
    "L3 = [1,2,3,True]\n",
    "print(all(L3))                          # Will return True as all items in the list are True\n",
    "print(any(L3)) "
   ]
  },
  {
   "cell_type": "markdown",
   "id": "c136d07d",
   "metadata": {},
   "source": [
    "# List Comprehensions\n"
   ]
  },
  {
   "cell_type": "code",
   "execution_count": 122,
   "id": "1d4042b8",
   "metadata": {},
   "outputs": [
    {
     "data": {
      "text/plain": [
       "['W', 'E', 'L', 'C', 'O', 'M', 'E']"
      ]
     },
     "execution_count": 122,
     "metadata": {},
     "output_type": "execute_result"
    }
   ],
   "source": [
    "mystring = \"WELCOME\"\n",
    "mylist = [ i for i in mystring ]                                    # Iterating through a string Using List Comprehe\n",
    "mylist\n"
   ]
  },
  {
   "cell_type": "code",
   "execution_count": 123,
   "id": "674bd1cf",
   "metadata": {},
   "outputs": [
    {
     "data": {
      "text/plain": [
       "[0, 2, 4, 6, 8, 10, 12, 14, 16, 18, 20, 22, 24, 26, 28, 30, 32, 34, 36, 38]"
      ]
     },
     "execution_count": 123,
     "metadata": {},
     "output_type": "execute_result"
    }
   ],
   "source": [
    "mylist1 = [ i for i in range(40) if i % 2 == 0]                      # Display all even numbers betwee\n",
    "mylist1\n"
   ]
  },
  {
   "cell_type": "code",
   "execution_count": 124,
   "id": "f6316f12",
   "metadata": {},
   "outputs": [
    {
     "data": {
      "text/plain": [
       "[1, 3, 5, 7, 9, 11, 13, 15, 17, 19, 21, 23, 25, 27, 29, 31, 33, 35, 37, 39]"
      ]
     },
     "execution_count": 124,
     "metadata": {},
     "output_type": "execute_result"
    }
   ],
   "source": [
    "mylist2 = [ i for i in range(40) if i % 2 == 1]                     # Display all odd numbers between\n",
    "mylist2"
   ]
  },
  {
   "cell_type": "code",
   "execution_count": 125,
   "id": "1e6cea06",
   "metadata": {},
   "outputs": [
    {
     "data": {
      "text/plain": [
       "[0, 1, 4, 9, 16, 25, 36, 49, 64, 81]"
      ]
     },
     "execution_count": 125,
     "metadata": {},
     "output_type": "execute_result"
    }
   ],
   "source": [
    "mylist3 = [num**2 for num in range(10)]                            # calculate square of all numbers between\n",
    "mylist3"
   ]
  },
  {
   "cell_type": "code",
   "execution_count": 126,
   "id": "58388f5f",
   "metadata": {},
   "outputs": [
    {
     "data": {
      "text/plain": [
       "[20, 30, 40, 50, 60, 70, 80]"
      ]
     },
     "execution_count": 126,
     "metadata": {},
     "output_type": "execute_result"
    }
   ],
   "source": [
    "# Multiple whole list by 10\n",
    "list1 = [2,3,4,5,6,7,8]\n",
    "list1 = [i*10 for i in list1]\n",
    "list1\n"
   ]
  },
  {
   "cell_type": "code",
   "execution_count": 127,
   "id": "166c4e58",
   "metadata": {},
   "outputs": [
    {
     "data": {
      "text/plain": [
       "[0, 36, 72, 108, 144, 180]"
      ]
     },
     "execution_count": 127,
     "metadata": {},
     "output_type": "execute_result"
    }
   ],
   "source": [
    "#List all numbers divisible by 3 , 9 & 12 using nested \"if\" with List Comprehensi\n",
    "mylist4 = [i for i in range(200) if i % 3 == 0 if i % 9 == 0 if i % 12 == 0]\n",
    "mylist4\n"
   ]
  },
  {
   "cell_type": "code",
   "execution_count": 128,
   "id": "5f6802ab",
   "metadata": {},
   "outputs": [
    {
     "name": "stdout",
     "output_type": "stream",
     "text": [
      "0 is Even Number\n",
      "1 is odd number\n",
      "2 is Even Number\n",
      "3 is odd number\n",
      "4 is Even Number\n",
      "5 is odd number\n",
      "6 is Even Number\n",
      "7 is odd number\n",
      "8 is Even Number\n",
      "9 is odd number\n"
     ]
    }
   ],
   "source": [
    "# Odd even test\n",
    "\n",
    "for i in range(10):\n",
    "    if i%2==0:\n",
    "        print(\"{} is Even Number\".format(i))  \n",
    "    else:\n",
    "        print(\"{} is odd number\".format(i))"
   ]
  },
  {
   "cell_type": "code",
   "execution_count": 129,
   "id": "b19c2cce",
   "metadata": {},
   "outputs": [
    {
     "data": {
      "text/plain": [
       "['1', '2', '3', '4', '5', '6', '7', '8', '9']"
      ]
     },
     "execution_count": 129,
     "metadata": {},
     "output_type": "execute_result"
    }
   ],
   "source": [
    "# Extract numbers from a string\n",
    "mystr = \"One 1 two 2 three 3 four 4 five 5 six 6789\"\n",
    "numbers = [i for i in mystr if i.isdigit()]\n",
    "numbers"
   ]
  },
  {
   "cell_type": "code",
   "execution_count": 130,
   "id": "4fffaeff",
   "metadata": {},
   "outputs": [
    {
     "data": {
      "text/plain": [
       "['O',\n",
       " 'n',\n",
       " 'e',\n",
       " 't',\n",
       " 'w',\n",
       " 'o',\n",
       " 't',\n",
       " 'h',\n",
       " 'r',\n",
       " 'e',\n",
       " 'e',\n",
       " 'f',\n",
       " 'o',\n",
       " 'u',\n",
       " 'r',\n",
       " 'f',\n",
       " 'i',\n",
       " 'v',\n",
       " 'e',\n",
       " 's',\n",
       " 'i',\n",
       " 'x']"
      ]
     },
     "execution_count": 130,
     "metadata": {},
     "output_type": "execute_result"
    }
   ],
   "source": [
    "# Extract letters from a string\n",
    "mystr = \"One 1 two 2 three 3 four 4 five 5 six 6789\"\n",
    "numbers = [i for i in mystr if i.isalpha()]\n",
    "numbers"
   ]
  },
  {
   "cell_type": "markdown",
   "id": "16a6138e",
   "metadata": {},
   "source": [
    "# Tuples"
   ]
  },
  {
   "cell_type": "code",
   "execution_count": 131,
   "id": "f99f88dd",
   "metadata": {},
   "outputs": [],
   "source": [
    "tup1 = ()                                                # Empty tuple"
   ]
  },
  {
   "cell_type": "code",
   "execution_count": 132,
   "id": "808fa9f8",
   "metadata": {},
   "outputs": [],
   "source": [
    "tup2 = (10,30,60)                                        # tuple of integers numbers\n",
    "tup3 = (10.77,30.66,60.89)                               # tuple of float numbers\n",
    "tup4 = ('one','two' , \"three\")                           # tuple of strings\n",
    "tup5 = ('Asif', 25 ,(50, 100),(150, 90))                 # Nested tuples\n",
    "tup6 = (100, 'Asif', 17.765)                             # Tuple of mixed data types\n",
    "tup7 = ('Asif', 25 ,[50, 100],[150, 90] , {'John' , 'David'} , (99,22,33))"
   ]
  },
  {
   "cell_type": "code",
   "execution_count": 133,
   "id": "bd699cb1",
   "metadata": {},
   "outputs": [
    {
     "name": "stdout",
     "output_type": "stream",
     "text": [
      "6\n",
      "10\n",
      "one\n",
      "o\n",
      "three\n"
     ]
    }
   ],
   "source": [
    "print(len(tup7))                            #Length of list\n",
    "print(tup2[0])                              # Retreive first element of the tuple\n",
    "print(tup4[0])                              # Retreive first element of the tuple\n",
    "print(tup4[0][0])                           # Nested indexing - Access the first character of the first tuple elem\n",
    "print(tup4[-1])                             # Last item of the tuple"
   ]
  },
  {
   "cell_type": "code",
   "execution_count": 134,
   "id": "3b645a1a",
   "metadata": {},
   "outputs": [
    {
     "name": "stdout",
     "output_type": "stream",
     "text": [
      "('one', 'two', 'three')\n",
      "('three', 'four', 'five')\n",
      "('one', 'two', 'three')\n",
      "('one', 'two')\n",
      "('six', 'seven', 'eight')\n",
      "('seven', 'eight')\n",
      "eight\n",
      "('one', 'two', 'three', 'four', 'five', 'six', 'seven', 'eight')\n"
     ]
    }
   ],
   "source": [
    "mytuple = ('one' , 'two' , 'three' , 'four' , 'five' , 'six' , 'seven' , 'eight')\n",
    "print(mytuple[0:3])                # Return all items from 0th to 3rd index location excluding the item\n",
    "print(mytuple[2:5])                # List all items from 2nd to 5th index location excluding the item a\n",
    "print(mytuple[:3])                 # Return first three items\n",
    "print(mytuple[:2])                 # Return first two items\n",
    "print(mytuple[-3:])                # Return last three items\n",
    "print(mytuple[-2:])                # Return last two items\n",
    "print(mytuple[-1])                 # Return last item of the tuple\n",
    "print(mytuple[:])                  # Return whole tuple\n",
    "\n"
   ]
  },
  {
   "cell_type": "code",
   "execution_count": 135,
   "id": "cf2b8cc1",
   "metadata": {},
   "outputs": [
    {
     "data": {
      "text/plain": [
       "('one', 'two', 'three', 'four', 'five', 'six', 'seven', 'eight')"
      ]
     },
     "execution_count": 135,
     "metadata": {},
     "output_type": "execute_result"
    }
   ],
   "source": [
    "mytuple"
   ]
  },
  {
   "cell_type": "code",
   "execution_count": 136,
   "id": "4f1c7d76",
   "metadata": {},
   "outputs": [
    {
     "ename": "TypeError",
     "evalue": "'tuple' object doesn't support item deletion",
     "output_type": "error",
     "traceback": [
      "\u001b[1;31m---------------------------------------------------------------------------\u001b[0m",
      "\u001b[1;31mTypeError\u001b[0m                                 Traceback (most recent call last)",
      "Input \u001b[1;32mIn [136]\u001b[0m, in \u001b[0;36m<cell line: 1>\u001b[1;34m()\u001b[0m\n\u001b[1;32m----> 1\u001b[0m \u001b[38;5;28;01mdel\u001b[39;00m mytuple[\u001b[38;5;241m0\u001b[39m]\n",
      "\u001b[1;31mTypeError\u001b[0m: 'tuple' object doesn't support item deletion"
     ]
    }
   ],
   "source": [
    "del mytuple[0]                               # Tuples are immutable which means we can't DELETE tuple items "
   ]
  },
  {
   "cell_type": "code",
   "execution_count": 137,
   "id": "c7466087",
   "metadata": {},
   "outputs": [
    {
     "ename": "TypeError",
     "evalue": "'tuple' object does not support item assignment",
     "output_type": "error",
     "traceback": [
      "\u001b[1;31m---------------------------------------------------------------------------\u001b[0m",
      "\u001b[1;31mTypeError\u001b[0m                                 Traceback (most recent call last)",
      "Input \u001b[1;32mIn [137]\u001b[0m, in \u001b[0;36m<cell line: 1>\u001b[1;34m()\u001b[0m\n\u001b[1;32m----> 1\u001b[0m mytuple[\u001b[38;5;241m0\u001b[39m] \u001b[38;5;241m=\u001b[39m \u001b[38;5;241m1\u001b[39m\n",
      "\u001b[1;31mTypeError\u001b[0m: 'tuple' object does not support item assignment"
     ]
    }
   ],
   "source": [
    "mytuple[0] = 1                                 # Tuples are immutable which means we can't CHANGE tuple items"
   ]
  },
  {
   "cell_type": "code",
   "execution_count": 138,
   "id": "1241dba8",
   "metadata": {},
   "outputs": [],
   "source": [
    "#del mytuple                      # Deleting entire tuple object is possible"
   ]
  },
  {
   "cell_type": "code",
   "execution_count": 139,
   "id": "aa40cc6b",
   "metadata": {},
   "outputs": [
    {
     "data": {
      "text/plain": [
       "('one', 'two', 'three', 'four', 'five', 'six', 'seven', 'eight')"
      ]
     },
     "execution_count": 139,
     "metadata": {},
     "output_type": "execute_result"
    }
   ],
   "source": [
    "mytuple"
   ]
  },
  {
   "cell_type": "code",
   "execution_count": 140,
   "id": "d553aa86",
   "metadata": {},
   "outputs": [
    {
     "name": "stdout",
     "output_type": "stream",
     "text": [
      "one\n",
      "two\n",
      "three\n",
      "four\n",
      "five\n",
      "six\n",
      "seven\n",
      "eight\n"
     ]
    }
   ],
   "source": [
    "for i in mytuple:\n",
    "    print(i)"
   ]
  },
  {
   "cell_type": "code",
   "execution_count": 141,
   "id": "0d47f337",
   "metadata": {},
   "outputs": [
    {
     "name": "stdout",
     "output_type": "stream",
     "text": [
      "(0, 'one')\n",
      "(1, 'two')\n",
      "(2, 'three')\n",
      "(3, 'four')\n",
      "(4, 'five')\n",
      "(5, 'six')\n",
      "(6, 'seven')\n",
      "(7, 'eight')\n"
     ]
    }
   ],
   "source": [
    "for i in enumerate(mytuple):\n",
    "    print(i)\n"
   ]
  },
  {
   "cell_type": "code",
   "execution_count": 142,
   "id": "ca6caf8e",
   "metadata": {},
   "outputs": [
    {
     "data": {
      "text/plain": [
       "1"
      ]
     },
     "execution_count": 142,
     "metadata": {},
     "output_type": "execute_result"
    }
   ],
   "source": [
    "mytuple1 =('one', 'two', 'three', 'four', 'one', 'one', 'two', 'three')\n",
    "mytuple1.count('one')                    # Number of times item \"one\" occurred in the tuple.\n",
    "mytuple1.count('two')                    # Occurence of item 'two' in the tuple\n",
    "mytuple1.count('four')                   #Occurence of item 'four' in the tuple\n"
   ]
  },
  {
   "cell_type": "code",
   "execution_count": 143,
   "id": "5293db23",
   "metadata": {},
   "outputs": [
    {
     "data": {
      "text/plain": [
       "('one', 'two', 'three', 'four', 'five', 'six', 'seven', 'eight')"
      ]
     },
     "execution_count": 143,
     "metadata": {},
     "output_type": "execute_result"
    }
   ],
   "source": [
    "mytuple\n"
   ]
  },
  {
   "cell_type": "code",
   "execution_count": 144,
   "id": "8e733fd5",
   "metadata": {},
   "outputs": [
    {
     "name": "stdout",
     "output_type": "stream",
     "text": [
      "True\n",
      "False\n"
     ]
    }
   ],
   "source": [
    "print('one' in mytuple)                          # Check if 'one' exist in the list\n",
    "print('ten' in mytuple)                             # Check if 'ten' exist in the list\n"
   ]
  },
  {
   "cell_type": "code",
   "execution_count": 145,
   "id": "63197af2",
   "metadata": {},
   "outputs": [
    {
     "name": "stdout",
     "output_type": "stream",
     "text": [
      "Three is present in the tuple\n"
     ]
    }
   ],
   "source": [
    "if 'three' in mytuple:                            # Check if 'three' exist in the list\n",
    "     print('Three is present in the tuple')\n",
    "else:\n",
    "    print('Three is not present in the tuple')\n"
   ]
  },
  {
   "cell_type": "code",
   "execution_count": 146,
   "id": "98e82317",
   "metadata": {},
   "outputs": [
    {
     "name": "stdout",
     "output_type": "stream",
     "text": [
      "eleven is not present in the tuple\n"
     ]
    }
   ],
   "source": [
    "if 'eleven' in mytuple:                           # Check if 'eleven' exist in the list\n",
    "    print('eleven is present in the tuple')\n",
    "else:\n",
    "    print('eleven is not present in the tuple')"
   ]
  },
  {
   "cell_type": "code",
   "execution_count": 147,
   "id": "e3604915",
   "metadata": {},
   "outputs": [
    {
     "data": {
      "text/plain": [
       "('one', 'two', 'three', 'four', 'five', 'six', 'seven', 'eight')"
      ]
     },
     "execution_count": 147,
     "metadata": {},
     "output_type": "execute_result"
    }
   ],
   "source": [
    "mytuple\n"
   ]
  },
  {
   "cell_type": "code",
   "execution_count": 148,
   "id": "be84a3cb",
   "metadata": {},
   "outputs": [
    {
     "name": "stdout",
     "output_type": "stream",
     "text": [
      "0\n",
      "4\n"
     ]
    }
   ],
   "source": [
    "print(mytuple.index('one'))                           # Index of first element equal to 'one'\n",
    "print(mytuple.index('five'))                          # Index of first element equal to 'five'\n"
   ]
  },
  {
   "cell_type": "code",
   "execution_count": 149,
   "id": "9c1a146a",
   "metadata": {},
   "outputs": [
    {
     "data": {
      "text/plain": [
       "0"
      ]
     },
     "execution_count": 149,
     "metadata": {},
     "output_type": "execute_result"
    }
   ],
   "source": [
    "mytuple1\n",
    "mytuple1.index('one')                           # Index of first element equal to 'one'"
   ]
  },
  {
   "cell_type": "code",
   "execution_count": 150,
   "id": "f68ced39",
   "metadata": {},
   "outputs": [
    {
     "name": "stdout",
     "output_type": "stream",
     "text": [
      "(43, 67, 99, 12, 6, 90, 67)\n",
      "[99, 90, 67, 67, 43, 12, 6]\n"
     ]
    }
   ],
   "source": [
    "mytuple2 = (43,67,99,12,6,90,67)\n",
    "sorted(mytuple2)                          # Returns a new sorted list and doesn't change original tuple\n",
    "A=sorted(mytuple2, reverse=True)            # Sort in descending order\n",
    "print(mytuple2)\n",
    "print(A)\n"
   ]
  },
  {
   "cell_type": "markdown",
   "id": "aa4eab9e",
   "metadata": {},
   "source": [
    "# Sets"
   ]
  },
  {
   "cell_type": "code",
   "execution_count": 151,
   "id": "480082b7",
   "metadata": {},
   "outputs": [
    {
     "data": {
      "text/plain": [
       "{1, 2, 3, 4, 5}"
      ]
     },
     "execution_count": 151,
     "metadata": {},
     "output_type": "execute_result"
    }
   ],
   "source": [
    "myset = {1,2,3,4,5}                # Set of numbers\n",
    "myset\n"
   ]
  },
  {
   "cell_type": "code",
   "execution_count": 152,
   "id": "1a29f630",
   "metadata": {},
   "outputs": [
    {
     "data": {
      "text/plain": [
       "5"
      ]
     },
     "execution_count": 152,
     "metadata": {},
     "output_type": "execute_result"
    }
   ],
   "source": [
    "len(myset)                              #Length of the set\n"
   ]
  },
  {
   "cell_type": "code",
   "execution_count": 153,
   "id": "a010516e",
   "metadata": {},
   "outputs": [],
   "source": [
    "my_set = {1,1,2,2,3,4,5,5}\n"
   ]
  },
  {
   "cell_type": "code",
   "execution_count": 154,
   "id": "09380057",
   "metadata": {},
   "outputs": [
    {
     "data": {
      "text/plain": [
       "{1, 2, 3, 4, 5}"
      ]
     },
     "execution_count": 154,
     "metadata": {},
     "output_type": "execute_result"
    }
   ],
   "source": [
    "my_set                          # Duplicate elements are not allowed.\n"
   ]
  },
  {
   "cell_type": "code",
   "execution_count": 155,
   "id": "3f72cce8",
   "metadata": {},
   "outputs": [
    {
     "data": {
      "text/plain": [
       "{1.79, 2.08, 3.99, 4.56, 5.45}"
      ]
     },
     "execution_count": 155,
     "metadata": {},
     "output_type": "execute_result"
    }
   ],
   "source": [
    "myset1 = {1.79,2.08,3.99,4.56,5.45}                         # Set of float numbers\n",
    "myset1"
   ]
  },
  {
   "cell_type": "code",
   "execution_count": 156,
   "id": "43902c55",
   "metadata": {},
   "outputs": [
    {
     "data": {
      "text/plain": [
       "{'Asif', 'John', 'Tyrion'}"
      ]
     },
     "execution_count": 156,
     "metadata": {},
     "output_type": "execute_result"
    }
   ],
   "source": [
    "myset2 = {'Asif' , 'John' , 'Tyrion'}               # Set of Strings\n",
    "myset2\n"
   ]
  },
  {
   "cell_type": "code",
   "execution_count": 157,
   "id": "209fcfb3",
   "metadata": {},
   "outputs": [
    {
     "data": {
      "text/plain": [
       "{(11, 22, 32), 10, 20, 'Hola'}"
      ]
     },
     "execution_count": 157,
     "metadata": {},
     "output_type": "execute_result"
    }
   ],
   "source": [
    "myset3 = {10,20, \"Hola\", (11, 22, 32)}                            # Mixed datatypes\n",
    "myset3\n"
   ]
  },
  {
   "cell_type": "code",
   "execution_count": 158,
   "id": "ebb72818",
   "metadata": {},
   "outputs": [
    {
     "ename": "TypeError",
     "evalue": "unhashable type: 'list'",
     "output_type": "error",
     "traceback": [
      "\u001b[1;31m---------------------------------------------------------------------------\u001b[0m",
      "\u001b[1;31mTypeError\u001b[0m                                 Traceback (most recent call last)",
      "Input \u001b[1;32mIn [158]\u001b[0m, in \u001b[0;36m<cell line: 1>\u001b[1;34m()\u001b[0m\n\u001b[1;32m----> 1\u001b[0m myset3 \u001b[38;5;241m=\u001b[39m {\u001b[38;5;241m10\u001b[39m,\u001b[38;5;241m20\u001b[39m, \u001b[38;5;124m\"\u001b[39m\u001b[38;5;124mHola\u001b[39m\u001b[38;5;124m\"\u001b[39m, [\u001b[38;5;241m11\u001b[39m, \u001b[38;5;241m22\u001b[39m, \u001b[38;5;241m32\u001b[39m]}           \u001b[38;5;66;03m# set doesn't allow mutable items like list\u001b[39;00m\n\u001b[0;32m      2\u001b[0m myset3\n",
      "\u001b[1;31mTypeError\u001b[0m: unhashable type: 'list'"
     ]
    }
   ],
   "source": [
    "myset3 = {10,20, \"Hola\", [11, 22, 32]}           # set doesn't allow mutable items like list\n",
    "myset3"
   ]
  },
  {
   "cell_type": "code",
   "execution_count": 159,
   "id": "2644dfcd",
   "metadata": {},
   "outputs": [
    {
     "name": "stdout",
     "output_type": "stream",
     "text": [
      "<class 'set'>\n"
     ]
    }
   ],
   "source": [
    "myset4 = set()                     # Create an empty set\n",
    "print(type(myset4))"
   ]
  },
  {
   "cell_type": "code",
   "execution_count": 160,
   "id": "43c3ad1f",
   "metadata": {},
   "outputs": [
    {
     "data": {
      "text/plain": [
       "{'four', 'one', 'three', 'two'}"
      ]
     },
     "execution_count": 160,
     "metadata": {},
     "output_type": "execute_result"
    }
   ],
   "source": [
    "my_set1 = set(('one' , 'two' , 'three' , 'four'))\n",
    "my_set1"
   ]
  },
  {
   "cell_type": "code",
   "execution_count": 161,
   "id": "ddaaba81",
   "metadata": {},
   "outputs": [],
   "source": [
    "myset = {'one', 'two', 'three', 'four', 'five', 'six', 'seven', 'eight'}"
   ]
  },
  {
   "cell_type": "code",
   "execution_count": 162,
   "id": "3f7a87ff",
   "metadata": {},
   "outputs": [
    {
     "name": "stdout",
     "output_type": "stream",
     "text": [
      "eight\n",
      "three\n",
      "six\n",
      "two\n",
      "four\n",
      "five\n",
      "seven\n",
      "one\n"
     ]
    }
   ],
   "source": [
    "for i in myset:\n",
    "    print(i)"
   ]
  },
  {
   "cell_type": "code",
   "execution_count": 163,
   "id": "b046b2d4",
   "metadata": {},
   "outputs": [
    {
     "name": "stdout",
     "output_type": "stream",
     "text": [
      "(0, 'eight')\n",
      "(1, 'three')\n",
      "(2, 'six')\n",
      "(3, 'two')\n",
      "(4, 'four')\n",
      "(5, 'five')\n",
      "(6, 'seven')\n",
      "(7, 'one')\n"
     ]
    }
   ],
   "source": [
    "for i in enumerate(myset):\n",
    "    print(i)\n"
   ]
  },
  {
   "cell_type": "code",
   "execution_count": 164,
   "id": "bc2b7b91",
   "metadata": {},
   "outputs": [
    {
     "data": {
      "text/plain": [
       "{'eight', 'five', 'four', 'one', 'seven', 'six', 'three', 'two'}"
      ]
     },
     "execution_count": 164,
     "metadata": {},
     "output_type": "execute_result"
    }
   ],
   "source": [
    "myset"
   ]
  },
  {
   "cell_type": "code",
   "execution_count": 165,
   "id": "3bbdd880",
   "metadata": {},
   "outputs": [
    {
     "name": "stdout",
     "output_type": "stream",
     "text": [
      "True\n",
      "False\n"
     ]
    }
   ],
   "source": [
    "print('one' in myset)                  # Check if 'one' exist in the set\n",
    "print('ten' in myset   )               # Check if 'ten' exist in the set"
   ]
  },
  {
   "cell_type": "code",
   "execution_count": 166,
   "id": "0ab77d03",
   "metadata": {},
   "outputs": [
    {
     "name": "stdout",
     "output_type": "stream",
     "text": [
      "Three is present in the set\n"
     ]
    }
   ],
   "source": [
    "if 'three' in myset:            # Check if 'three' exist in the set\n",
    "    print('Three is present in the set')\n",
    "else:\n",
    "    print('Three is not present in the set')\n"
   ]
  },
  {
   "cell_type": "code",
   "execution_count": 167,
   "id": "68e69bbb",
   "metadata": {},
   "outputs": [
    {
     "name": "stdout",
     "output_type": "stream",
     "text": [
      "eleven is not present in the set\n"
     ]
    }
   ],
   "source": [
    "if 'eleven' in myset:           # Check if 'eleven' exist in the list\n",
    "    print('eleven is present in the set')\n",
    "else:\n",
    "    print('eleven is not present in the set')"
   ]
  },
  {
   "cell_type": "code",
   "execution_count": 168,
   "id": "d28be378",
   "metadata": {},
   "outputs": [
    {
     "data": {
      "text/plain": [
       "{'eight', 'five', 'four', 'one', 'seven', 'six', 'three', 'two'}"
      ]
     },
     "execution_count": 168,
     "metadata": {},
     "output_type": "execute_result"
    }
   ],
   "source": [
    "myset\n"
   ]
  },
  {
   "cell_type": "code",
   "execution_count": 169,
   "id": "06d7287a",
   "metadata": {},
   "outputs": [
    {
     "data": {
      "text/plain": [
       "{'NINE', 'eight', 'five', 'four', 'one', 'seven', 'six', 'three', 'two'}"
      ]
     },
     "execution_count": 169,
     "metadata": {},
     "output_type": "execute_result"
    }
   ],
   "source": [
    "myset.add('NINE')                                 # Add item to a set using add() method\n",
    "myset"
   ]
  },
  {
   "cell_type": "code",
   "execution_count": 170,
   "id": "c86e5b67",
   "metadata": {},
   "outputs": [
    {
     "data": {
      "text/plain": [
       "{'ELEVEN',\n",
       " 'NINE',\n",
       " 'TEN',\n",
       " 'TWELVE',\n",
       " 'eight',\n",
       " 'five',\n",
       " 'four',\n",
       " 'one',\n",
       " 'seven',\n",
       " 'six',\n",
       " 'three',\n",
       " 'two'}"
      ]
     },
     "execution_count": 170,
     "metadata": {},
     "output_type": "execute_result"
    }
   ],
   "source": [
    "myset.update(['TEN' , 'ELEVEN' , 'TWELVE'])       # Add multiple item to a set using u\n",
    "myset"
   ]
  },
  {
   "cell_type": "code",
   "execution_count": 171,
   "id": "caceaf13",
   "metadata": {},
   "outputs": [
    {
     "data": {
      "text/plain": [
       "{'ELEVEN',\n",
       " 'TEN',\n",
       " 'TWELVE',\n",
       " 'eight',\n",
       " 'five',\n",
       " 'four',\n",
       " 'one',\n",
       " 'seven',\n",
       " 'six',\n",
       " 'three',\n",
       " 'two'}"
      ]
     },
     "execution_count": 171,
     "metadata": {},
     "output_type": "execute_result"
    }
   ],
   "source": [
    "myset.remove('NINE')                              # remove item in a set using remove() method\n",
    "myset"
   ]
  },
  {
   "cell_type": "code",
   "execution_count": 172,
   "id": "831e8438",
   "metadata": {},
   "outputs": [
    {
     "data": {
      "text/plain": [
       "{'ELEVEN',\n",
       " 'TWELVE',\n",
       " 'eight',\n",
       " 'five',\n",
       " 'four',\n",
       " 'one',\n",
       " 'seven',\n",
       " 'six',\n",
       " 'three',\n",
       " 'two'}"
      ]
     },
     "execution_count": 172,
     "metadata": {},
     "output_type": "execute_result"
    }
   ],
   "source": [
    "myset.discard('TEN')                              # remove item from a set using discard() method\n",
    "myset"
   ]
  },
  {
   "cell_type": "code",
   "execution_count": 173,
   "id": "42ca9e97",
   "metadata": {},
   "outputs": [
    {
     "data": {
      "text/plain": [
       "set()"
      ]
     },
     "execution_count": 173,
     "metadata": {},
     "output_type": "execute_result"
    }
   ],
   "source": [
    "myset.clear()                                 # Delete all items in a set\n",
    "myset"
   ]
  },
  {
   "cell_type": "code",
   "execution_count": 174,
   "id": "def50dcc",
   "metadata": {},
   "outputs": [
    {
     "ename": "NameError",
     "evalue": "name 'myset' is not defined",
     "output_type": "error",
     "traceback": [
      "\u001b[1;31m---------------------------------------------------------------------------\u001b[0m",
      "\u001b[1;31mNameError\u001b[0m                                 Traceback (most recent call last)",
      "Input \u001b[1;32mIn [174]\u001b[0m, in \u001b[0;36m<cell line: 2>\u001b[1;34m()\u001b[0m\n\u001b[0;32m      1\u001b[0m \u001b[38;5;28;01mdel\u001b[39;00m myset                              \u001b[38;5;66;03m# Delete the set object\u001b[39;00m\n\u001b[1;32m----> 2\u001b[0m \u001b[43mmyset\u001b[49m\n",
      "\u001b[1;31mNameError\u001b[0m: name 'myset' is not defined"
     ]
    }
   ],
   "source": [
    "del myset                              # Delete the set object\n",
    "myset\n"
   ]
  },
  {
   "cell_type": "code",
   "execution_count": 175,
   "id": "b74ccf35",
   "metadata": {},
   "outputs": [
    {
     "data": {
      "text/plain": [
       "{'eight', 'five', 'four', 'one', 'seven', 'six', 'three', 'two'}"
      ]
     },
     "execution_count": 175,
     "metadata": {},
     "output_type": "execute_result"
    }
   ],
   "source": [
    "myset = {'one', 'two', 'three', 'four', 'five', 'six', 'seven', 'eight'}\n",
    "myset\n"
   ]
  },
  {
   "cell_type": "code",
   "execution_count": 176,
   "id": "36435113",
   "metadata": {},
   "outputs": [
    {
     "data": {
      "text/plain": [
       "(2166614284992, 2166614284992)"
      ]
     },
     "execution_count": 176,
     "metadata": {},
     "output_type": "execute_result"
    }
   ],
   "source": [
    "myset1 = myset                                # Create a new reference \"myset1\" \n",
    "myset1\n",
    "id(myset) , id(myset1)                          # The address of both myset & myset1 will be the same as \n"
   ]
  },
  {
   "cell_type": "code",
   "execution_count": 177,
   "id": "dc7f5ab9",
   "metadata": {},
   "outputs": [
    {
     "data": {
      "text/plain": [
       "2166614284096"
      ]
     },
     "execution_count": 177,
     "metadata": {},
     "output_type": "execute_result"
    }
   ],
   "source": [
    "my_set = myset.copy()                      # Create a copy of the list\n",
    "my_set\n",
    "id(my_set)                                # The address of my_set will be different from myset because my_set is"
   ]
  },
  {
   "cell_type": "code",
   "execution_count": 178,
   "id": "260671ce",
   "metadata": {},
   "outputs": [
    {
     "data": {
      "text/plain": [
       "2166614284992"
      ]
     },
     "execution_count": 178,
     "metadata": {},
     "output_type": "execute_result"
    }
   ],
   "source": [
    "id(myset1) "
   ]
  },
  {
   "cell_type": "code",
   "execution_count": 179,
   "id": "68e29499",
   "metadata": {},
   "outputs": [
    {
     "data": {
      "text/plain": [
       "{'eight', 'five', 'four', 'nine', 'one', 'seven', 'six', 'three', 'two'}"
      ]
     },
     "execution_count": 179,
     "metadata": {},
     "output_type": "execute_result"
    }
   ],
   "source": [
    "myset.add('nine')\n",
    "myset"
   ]
  },
  {
   "cell_type": "code",
   "execution_count": 180,
   "id": "db6f1b8f",
   "metadata": {},
   "outputs": [
    {
     "data": {
      "text/plain": [
       "{'eight', 'five', 'four', 'nine', 'one', 'seven', 'six', 'three', 'two'}"
      ]
     },
     "execution_count": 180,
     "metadata": {},
     "output_type": "execute_result"
    }
   ],
   "source": [
    "myset1                              # myset1 will be also impacted as it is pointing to the same Set\n"
   ]
  },
  {
   "cell_type": "code",
   "execution_count": 181,
   "id": "e4b01e06",
   "metadata": {},
   "outputs": [
    {
     "data": {
      "text/plain": [
       "{'eight', 'five', 'four', 'one', 'seven', 'six', 'three', 'two'}"
      ]
     },
     "execution_count": 181,
     "metadata": {},
     "output_type": "execute_result"
    }
   ],
   "source": [
    "my_set                                   # Copy of the set won't be impacted due to changes made on the original S"
   ]
  },
  {
   "cell_type": "code",
   "execution_count": 182,
   "id": "bfc74510",
   "metadata": {},
   "outputs": [],
   "source": [
    "A = {1,2,3,4,5}\n",
    "B = {4,5,6,7,8}\n",
    "C = {8,9,10}\n"
   ]
  },
  {
   "cell_type": "code",
   "execution_count": 183,
   "id": "0a510e41",
   "metadata": {},
   "outputs": [
    {
     "data": {
      "text/plain": [
       "{1, 2, 3, 4, 5, 6, 7, 8, 9, 10}"
      ]
     },
     "execution_count": 183,
     "metadata": {},
     "output_type": "execute_result"
    }
   ],
   "source": [
    "A | B | C                           # Union of A and B (All elements from both sets. NO DUPLICATES)\n"
   ]
  },
  {
   "cell_type": "code",
   "execution_count": 184,
   "id": "910a3975",
   "metadata": {},
   "outputs": [
    {
     "data": {
      "text/plain": [
       "{1, 2, 3, 4, 5, 6, 7, 8}"
      ]
     },
     "execution_count": 184,
     "metadata": {},
     "output_type": "execute_result"
    }
   ],
   "source": [
    "A.union(B)                       # Union of A and B"
   ]
  },
  {
   "cell_type": "code",
   "execution_count": 185,
   "id": "2f786232",
   "metadata": {},
   "outputs": [
    {
     "data": {
      "text/plain": [
       "{1, 2, 3, 4, 5, 6, 7, 8, 9, 10}"
      ]
     },
     "execution_count": 185,
     "metadata": {},
     "output_type": "execute_result"
    }
   ],
   "source": [
    "A.union(B, C)                    # Union of A, B and C."
   ]
  },
  {
   "cell_type": "code",
   "execution_count": 186,
   "id": "89196066",
   "metadata": {},
   "outputs": [
    {
     "data": {
      "text/plain": [
       "{1, 2, 3, 4, 5, 6, 7, 8, 9, 10}"
      ]
     },
     "execution_count": 186,
     "metadata": {},
     "output_type": "execute_result"
    }
   ],
   "source": [
    "\"\"\"\n",
    "Updates the set calling the update() method with union of A , B & C. \n",
    "For below example Set A will be updated with union of A,B & C.\n",
    "\"\"\"\n",
    "A.update(B,C)\n",
    "A"
   ]
  },
  {
   "cell_type": "code",
   "execution_count": 187,
   "id": "b1a86088",
   "metadata": {},
   "outputs": [
    {
     "data": {
      "text/plain": [
       "{4, 5, 6, 7, 8}"
      ]
     },
     "execution_count": 187,
     "metadata": {},
     "output_type": "execute_result"
    }
   ],
   "source": [
    "B"
   ]
  },
  {
   "cell_type": "code",
   "execution_count": 188,
   "id": "026c5400",
   "metadata": {},
   "outputs": [
    {
     "data": {
      "text/plain": [
       "{1, 2, 3, 4, 5, 6, 7, 8, 9, 10}"
      ]
     },
     "execution_count": 188,
     "metadata": {},
     "output_type": "execute_result"
    }
   ],
   "source": [
    "A"
   ]
  },
  {
   "cell_type": "code",
   "execution_count": 189,
   "id": "6cd776af",
   "metadata": {},
   "outputs": [],
   "source": [
    "A = {1,2,3,4,5}\n",
    "B = {4,5,6,7,8}"
   ]
  },
  {
   "cell_type": "code",
   "execution_count": 190,
   "id": "3dc700ab",
   "metadata": {},
   "outputs": [
    {
     "data": {
      "text/plain": [
       "{4, 5}"
      ]
     },
     "execution_count": 190,
     "metadata": {},
     "output_type": "execute_result"
    }
   ],
   "source": [
    "A & B                                      # Intersection of A and B (Common items in both sets)"
   ]
  },
  {
   "cell_type": "code",
   "execution_count": 191,
   "id": "238f9e39",
   "metadata": {},
   "outputs": [
    {
     "data": {
      "text/plain": [
       "{4, 5}"
      ]
     },
     "execution_count": 191,
     "metadata": {},
     "output_type": "execute_result"
    }
   ],
   "source": [
    "A.intersection(B) "
   ]
  },
  {
   "cell_type": "code",
   "execution_count": 192,
   "id": "93632ab3",
   "metadata": {},
   "outputs": [
    {
     "ename": "SyntaxError",
     "evalue": "invalid syntax (3368245308.py, line 1)",
     "output_type": "error",
     "traceback": [
      "\u001b[1;36m  Input \u001b[1;32mIn [192]\u001b[1;36m\u001b[0m\n\u001b[1;33m    Intersection of A and B\u001b[0m\n\u001b[1;37m                 ^\u001b[0m\n\u001b[1;31mSyntaxError\u001b[0m\u001b[1;31m:\u001b[0m invalid syntax\n"
     ]
    }
   ],
   "source": [
    "Intersection of A and B\n"
   ]
  },
  {
   "cell_type": "code",
   "execution_count": 193,
   "id": "55b15e2a",
   "metadata": {},
   "outputs": [
    {
     "data": {
      "text/plain": [
       "{4, 5}"
      ]
     },
     "execution_count": 193,
     "metadata": {},
     "output_type": "execute_result"
    }
   ],
   "source": [
    "\"\"\"\n",
    "Updates the set calling the intersection_update() method with the intersection of\n",
    "For below example Set A will be updated with the intersection of A & B.\n",
    "\"\"\"\n",
    "A.intersection_update(B)\n",
    "A"
   ]
  },
  {
   "cell_type": "code",
   "execution_count": 194,
   "id": "98cdd9ca",
   "metadata": {},
   "outputs": [
    {
     "name": "stdout",
     "output_type": "stream",
     "text": [
      "{1, 2, 3}\n",
      "{1, 2, 3}\n"
     ]
    }
   ],
   "source": [
    "A = {1,2,3,4,5}\n",
    "B = {4,5,6,7,8}\n",
    "print(A - B)                                   # set of elements that are only in A but not in B\n",
    "print(A.difference(B))                   # Difference of sets"
   ]
  },
  {
   "cell_type": "code",
   "execution_count": 195,
   "id": "7af82622",
   "metadata": {},
   "outputs": [
    {
     "name": "stdout",
     "output_type": "stream",
     "text": [
      "{8, 6, 7}\n",
      "{8, 6, 7}\n"
     ]
    }
   ],
   "source": [
    "print(B- A)                                    # set of elements that are only in B but not in A\n",
    "print(B.difference(A))\n"
   ]
  },
  {
   "cell_type": "code",
   "execution_count": 196,
   "id": "b92290a4",
   "metadata": {},
   "outputs": [
    {
     "data": {
      "text/plain": [
       "{6, 7, 8}"
      ]
     },
     "execution_count": 196,
     "metadata": {},
     "output_type": "execute_result"
    }
   ],
   "source": [
    "\"\"\"\n",
    "Updates the set calling the difference_update() method with the difference of set\n",
    "For below example Set B will be updated with the difference of B & A.\n",
    "\"\"\"\n",
    "B.difference_update(A)\n",
    "B"
   ]
  },
  {
   "cell_type": "code",
   "execution_count": 197,
   "id": "6582a51c",
   "metadata": {},
   "outputs": [
    {
     "name": "stdout",
     "output_type": "stream",
     "text": [
      "{1, 2, 3, 6, 7, 8}\n",
      "{1, 2, 3, 6, 7, 8}\n"
     ]
    }
   ],
   "source": [
    "A = {1,2,3,4,5}\n",
    "B = {4,5,6,7,8}\n",
    "print(A ^ B)                            # Symmetric difference (Set of elements in A and B but not in both. \"EXCLUD\n",
    "print(A.symmetric_difference(B))            # Symmetric difference of sets\n"
   ]
  },
  {
   "cell_type": "code",
   "execution_count": 198,
   "id": "e4649004",
   "metadata": {},
   "outputs": [
    {
     "data": {
      "text/plain": [
       "{1, 2, 3, 6, 7, 8}"
      ]
     },
     "execution_count": 198,
     "metadata": {},
     "output_type": "execute_result"
    }
   ],
   "source": [
    "\"\"\"\n",
    "Updates the set calling the symmetric_difference_update() method with the symmetr\n",
    "For below example Set A will be updated with the symmetric difference of A & B.\n",
    "\"\"\"\n",
    "A.symmetric_difference_update(B)\n",
    "A"
   ]
  },
  {
   "cell_type": "code",
   "execution_count": 199,
   "id": "cfdbe954",
   "metadata": {},
   "outputs": [
    {
     "name": "stdout",
     "output_type": "stream",
     "text": [
      "True\n",
      "True\n",
      "True\n",
      "False\n"
     ]
    }
   ],
   "source": [
    "A = {1,2,3,4,5,6,7,8,9}\n",
    "B = {3,4,5,6,7,8}\n",
    "C = {10,20,30,40}\n",
    "print(B.issubset(A))                    # Set B is said to be the subset of set A if all elements of B are \n",
    "print(A.issuperset(B))                   # Set A is said to be the superset of set B if all elements of B \n",
    "print(C.isdisjoint(A))                 # Two sets are said to be disjoint sets if they have no common el\n",
    "print(B.isdisjoint(A))                 # Two sets are said to be disjoint sets if they have no common el\n"
   ]
  },
  {
   "cell_type": "code",
   "execution_count": 200,
   "id": "15fbe952",
   "metadata": {},
   "outputs": [
    {
     "data": {
      "text/plain": [
       "{1, 2, 3, 4, 5, 6, 7, 8, 9}"
      ]
     },
     "execution_count": 200,
     "metadata": {},
     "output_type": "execute_result"
    }
   ],
   "source": [
    "A"
   ]
  },
  {
   "cell_type": "code",
   "execution_count": 201,
   "id": "9a1be7bf",
   "metadata": {},
   "outputs": [
    {
     "name": "stdout",
     "output_type": "stream",
     "text": [
      "45\n"
     ]
    }
   ],
   "source": [
    "print(sum(A))"
   ]
  },
  {
   "cell_type": "code",
   "execution_count": 202,
   "id": "587c2c02",
   "metadata": {},
   "outputs": [
    {
     "data": {
      "text/plain": [
       "9"
      ]
     },
     "execution_count": 202,
     "metadata": {},
     "output_type": "execute_result"
    }
   ],
   "source": [
    "max(A)\n"
   ]
  },
  {
   "cell_type": "code",
   "execution_count": 203,
   "id": "afd32395",
   "metadata": {},
   "outputs": [
    {
     "data": {
      "text/plain": [
       "1"
      ]
     },
     "execution_count": 203,
     "metadata": {},
     "output_type": "execute_result"
    }
   ],
   "source": [
    "min(A)"
   ]
  },
  {
   "cell_type": "code",
   "execution_count": 204,
   "id": "a62a7f1f",
   "metadata": {},
   "outputs": [
    {
     "data": {
      "text/plain": [
       "9"
      ]
     },
     "execution_count": 204,
     "metadata": {},
     "output_type": "execute_result"
    }
   ],
   "source": [
    "len(A)"
   ]
  },
  {
   "cell_type": "code",
   "execution_count": 205,
   "id": "964b1049",
   "metadata": {},
   "outputs": [
    {
     "data": {
      "text/plain": [
       "[(0, 1), (1, 2), (2, 3), (3, 4), (4, 5), (5, 6), (6, 7), (7, 8), (8, 9)]"
      ]
     },
     "execution_count": 205,
     "metadata": {},
     "output_type": "execute_result"
    }
   ],
   "source": [
    "list(enumerate(A))"
   ]
  },
  {
   "cell_type": "code",
   "execution_count": 206,
   "id": "d58a02fb",
   "metadata": {},
   "outputs": [
    {
     "data": {
      "text/plain": [
       "[9, 8, 7, 6, 5, 4, 3, 2, 1]"
      ]
     },
     "execution_count": 206,
     "metadata": {},
     "output_type": "execute_result"
    }
   ],
   "source": [
    "D= sorted(A,reverse=True)\n",
    "D\n",
    "\n"
   ]
  },
  {
   "cell_type": "code",
   "execution_count": 207,
   "id": "efafa04e",
   "metadata": {},
   "outputs": [
    {
     "data": {
      "text/plain": [
       "[1, 2, 3, 4, 5, 6, 7, 8, 9]"
      ]
     },
     "execution_count": 207,
     "metadata": {},
     "output_type": "execute_result"
    }
   ],
   "source": [
    "sorted(D)"
   ]
  },
  {
   "cell_type": "markdown",
   "id": "8874e00b",
   "metadata": {},
   "source": [
    "# Dictionary"
   ]
  },
  {
   "cell_type": "code",
   "execution_count": 208,
   "id": "ab6ddba5",
   "metadata": {},
   "outputs": [
    {
     "data": {
      "text/plain": [
       "{}"
      ]
     },
     "execution_count": 208,
     "metadata": {},
     "output_type": "execute_result"
    }
   ],
   "source": [
    "mydict = dict()            # empty dictionary\n",
    "mydict \n"
   ]
  },
  {
   "cell_type": "code",
   "execution_count": 209,
   "id": "0cdf2599",
   "metadata": {},
   "outputs": [
    {
     "data": {
      "text/plain": [
       "{}"
      ]
     },
     "execution_count": 209,
     "metadata": {},
     "output_type": "execute_result"
    }
   ],
   "source": [
    "mydict = {} # empty dictionary\n",
    "mydict\n"
   ]
  },
  {
   "cell_type": "code",
   "execution_count": 210,
   "id": "79aa07cd",
   "metadata": {},
   "outputs": [
    {
     "data": {
      "text/plain": [
       "{1: 'one', 2: 'two', 3: 'three'}"
      ]
     },
     "execution_count": 210,
     "metadata": {},
     "output_type": "execute_result"
    }
   ],
   "source": [
    "mydict = {1:'one' , 2:'two' , 3:'three'}                  # dictionary with integer keys\n",
    "mydict\n"
   ]
  },
  {
   "cell_type": "code",
   "execution_count": 211,
   "id": "3cbe034f",
   "metadata": {},
   "outputs": [
    {
     "data": {
      "text/plain": [
       "{1: 'one', 2: 'two', 3: 'three'}"
      ]
     },
     "execution_count": 211,
     "metadata": {},
     "output_type": "execute_result"
    }
   ],
   "source": [
    "mydict = dict({1:'one' , 2:'two' , 3:'three'})            # Create dictionary using dict()\n",
    "mydict\n"
   ]
  },
  {
   "cell_type": "code",
   "execution_count": 212,
   "id": "7cba2af9",
   "metadata": {},
   "outputs": [
    {
     "data": {
      "text/plain": [
       "{'A': 'one', 'B': 'two', 'C': 'three'}"
      ]
     },
     "execution_count": 212,
     "metadata": {},
     "output_type": "execute_result"
    }
   ],
   "source": [
    "mydict = {'A':'one' , 'B':'two' , 'C':'three'}           # dictionary with character keys\n",
    "mydict\n"
   ]
  },
  {
   "cell_type": "code",
   "execution_count": 213,
   "id": "681c6252",
   "metadata": {},
   "outputs": [
    {
     "data": {
      "text/plain": [
       "{1: 'one', 'A': 'two', 3: 'three'}"
      ]
     },
     "execution_count": 213,
     "metadata": {},
     "output_type": "execute_result"
    }
   ],
   "source": [
    "mydict = {1:'one' , 'A':'two' , 3:'three'}                   # dictionary with mixed keys\n",
    "mydict\n"
   ]
  },
  {
   "cell_type": "code",
   "execution_count": 214,
   "id": "5f70c5de",
   "metadata": {},
   "outputs": [
    {
     "name": "stdout",
     "output_type": "stream",
     "text": [
      "dict_keys([1, 'A', 3])\n",
      "dict_values(['one', 'two', 'three'])\n"
     ]
    }
   ],
   "source": [
    "print(mydict.keys())                                # Return Dictionary Keys using keys() method\n",
    "print(mydict.values())                              # Return Dictionary Values using values() method\n"
   ]
  },
  {
   "cell_type": "code",
   "execution_count": 215,
   "id": "d6b5d29c",
   "metadata": {},
   "outputs": [
    {
     "data": {
      "text/plain": [
       "dict_items([(1, 'one'), ('A', 'two'), (3, 'three')])"
      ]
     },
     "execution_count": 215,
     "metadata": {},
     "output_type": "execute_result"
    }
   ],
   "source": [
    "mydict.items()                               # Access each key-value pair within a dictionary "
   ]
  },
  {
   "cell_type": "code",
   "execution_count": 216,
   "id": "983bdf92",
   "metadata": {},
   "outputs": [
    {
     "data": {
      "text/plain": [
       "{1: 'one', 2: 'two', 'A': ['asif', 'john', 'Maria']}"
      ]
     },
     "execution_count": 216,
     "metadata": {},
     "output_type": "execute_result"
    }
   ],
   "source": [
    "mydict = {1:'one' , 2:'two' , 'A':['asif' , 'john' , 'Maria']}       # dictionary with \n",
    "mydict\n",
    "\n"
   ]
  },
  {
   "cell_type": "code",
   "execution_count": 217,
   "id": "81bd1a3e",
   "metadata": {},
   "outputs": [
    {
     "data": {
      "text/plain": [
       "{1: 'one', 2: 'two', 'A': ['asif', 'john', 'Maria'], 'B': ('Bat', 'cat')}"
      ]
     },
     "execution_count": 217,
     "metadata": {},
     "output_type": "execute_result"
    }
   ],
   "source": [
    "mydict = {1:'one' , 2:'two' , 'A':['asif' , 'john' , 'Maria'], 'B':('Bat' , 'cat')}\n",
    "mydict"
   ]
  },
  {
   "cell_type": "code",
   "execution_count": 218,
   "id": "b80b1b93",
   "metadata": {},
   "outputs": [
    {
     "data": {
      "text/plain": [
       "{1: 'one', 2: 'two', 'A': {'Name': 'asif', 'Age': 20}, 'B': ('Bat', 'cat')}"
      ]
     },
     "execution_count": 218,
     "metadata": {},
     "output_type": "execute_result"
    }
   ],
   "source": [
    "mydict = {1:'one' , 2:'two' , 'A':{'Name':'asif' , 'Age' :20}, 'B':('Bat' , 'cat')}\n",
    "mydict\n"
   ]
  },
  {
   "cell_type": "code",
   "execution_count": 219,
   "id": "24055abf",
   "metadata": {},
   "outputs": [],
   "source": [
    "keys = {'a' , 'b' , 'c' , 'd'}\n"
   ]
  },
  {
   "cell_type": "code",
   "execution_count": 220,
   "id": "478867aa",
   "metadata": {},
   "outputs": [
    {
     "data": {
      "text/plain": [
       "{'b': None, 'a': None, 'c': None, 'd': None}"
      ]
     },
     "execution_count": 220,
     "metadata": {},
     "output_type": "execute_result"
    }
   ],
   "source": [
    "mydict3 = dict.fromkeys(keys)                  # Create a dictionary from a sequence of keys\n",
    "mydict3\n"
   ]
  },
  {
   "cell_type": "code",
   "execution_count": 221,
   "id": "19f903a7",
   "metadata": {},
   "outputs": [],
   "source": [
    "keys = {'a' , 'b' , 'c' , 'd'}\n",
    "value = 10\n"
   ]
  },
  {
   "cell_type": "code",
   "execution_count": 222,
   "id": "edc917dd",
   "metadata": {},
   "outputs": [
    {
     "data": {
      "text/plain": [
       "{'b': 10, 'a': 10, 'c': 10, 'd': 10}"
      ]
     },
     "execution_count": 222,
     "metadata": {},
     "output_type": "execute_result"
    }
   ],
   "source": [
    "mydict3 = dict.fromkeys(keys , value)              # Create a dictionary from a sequence of k\n",
    "mydict3"
   ]
  },
  {
   "cell_type": "code",
   "execution_count": 223,
   "id": "3b65e3dd",
   "metadata": {},
   "outputs": [
    {
     "data": {
      "text/plain": [
       "{'b': [10, 20, 30], 'a': [10, 20, 30], 'c': [10, 20, 30], 'd': [10, 20, 30]}"
      ]
     },
     "execution_count": 223,
     "metadata": {},
     "output_type": "execute_result"
    }
   ],
   "source": [
    "keys = {'a' , 'b' , 'c' , 'd'}\n",
    "value = [10,20,30]\n",
    "mydict3 = dict.fromkeys(keys , value)              # Create a dictionary from a sequence of k\n",
    "mydict3"
   ]
  },
  {
   "cell_type": "code",
   "execution_count": 224,
   "id": "35f8a2f9",
   "metadata": {},
   "outputs": [
    {
     "data": {
      "text/plain": [
       "{'b': [10, 20, 30, 40],\n",
       " 'a': [10, 20, 30, 40],\n",
       " 'c': [10, 20, 30, 40],\n",
       " 'd': [10, 20, 30, 40]}"
      ]
     },
     "execution_count": 224,
     "metadata": {},
     "output_type": "execute_result"
    }
   ],
   "source": [
    "value.append(40)\n",
    "mydict3\n"
   ]
  },
  {
   "cell_type": "code",
   "execution_count": 225,
   "id": "aefa0f10",
   "metadata": {},
   "outputs": [
    {
     "data": {
      "text/plain": [
       "{1: 'one', 2: 'two', 3: 'three', 4: 'four'}"
      ]
     },
     "execution_count": 225,
     "metadata": {},
     "output_type": "execute_result"
    }
   ],
   "source": [
    "mydict = {1:'one' , 2:'two' , 3:'three' , 4:'four'}\n",
    "mydict"
   ]
  },
  {
   "cell_type": "code",
   "execution_count": 226,
   "id": "2d7c60ce",
   "metadata": {},
   "outputs": [
    {
     "data": {
      "text/plain": [
       "'one'"
      ]
     },
     "execution_count": 226,
     "metadata": {},
     "output_type": "execute_result"
    }
   ],
   "source": [
    "mydict[1]                                               # Access item using key\n"
   ]
  },
  {
   "cell_type": "code",
   "execution_count": 227,
   "id": "3d468080",
   "metadata": {},
   "outputs": [
    {
     "data": {
      "text/plain": [
       "'one'"
      ]
     },
     "execution_count": 227,
     "metadata": {},
     "output_type": "execute_result"
    }
   ],
   "source": [
    "mydict.get(1)                                           # Access item using get() method\n"
   ]
  },
  {
   "cell_type": "code",
   "execution_count": 228,
   "id": "ac0a1e85",
   "metadata": {},
   "outputs": [
    {
     "data": {
      "text/plain": [
       "{'Name': 'Asif', 'ID': 74123, 'DOB': 1991, 'job': 'Analyst'}"
      ]
     },
     "execution_count": 228,
     "metadata": {},
     "output_type": "execute_result"
    }
   ],
   "source": [
    "mydict1 = {'Name':'Asif' , 'ID': 74123 , 'DOB': 1991 , 'job' :'Analyst'}\n",
    "mydict1"
   ]
  },
  {
   "cell_type": "code",
   "execution_count": 229,
   "id": "30e6482a",
   "metadata": {},
   "outputs": [
    {
     "name": "stdout",
     "output_type": "stream",
     "text": [
      "Asif\n",
      "Analyst\n"
     ]
    }
   ],
   "source": [
    "print(mydict1['Name'])                                        # Access item using key\n",
    "print(mydict1.get('job'))                                      # Access item using get() method"
   ]
  },
  {
   "cell_type": "code",
   "execution_count": 230,
   "id": "1d1c137f",
   "metadata": {},
   "outputs": [
    {
     "data": {
      "text/plain": [
       "{'Name': 'Asif', 'ID': 12345, 'DOB': 1991, 'Address': 'Hilsinki'}"
      ]
     },
     "execution_count": 230,
     "metadata": {},
     "output_type": "execute_result"
    }
   ],
   "source": [
    "mydict1 = {'Name':'Asif' , 'ID': 12345 , 'DOB': 1991 , 'Address' : 'Hilsinki'}\n",
    "mydict1\n"
   ]
  },
  {
   "cell_type": "code",
   "execution_count": 231,
   "id": "b49b31c9",
   "metadata": {},
   "outputs": [
    {
     "data": {
      "text/plain": [
       "{'Name': 'Asif', 'ID': 12345, 'DOB': 1992, 'Address': 'Delhi'}"
      ]
     },
     "execution_count": 231,
     "metadata": {},
     "output_type": "execute_result"
    }
   ],
   "source": [
    "mydict1['DOB'] = 1992                                         # Changing Dictionary Items\n",
    "mydict1['Address'] = 'Delhi'\n",
    "mydict1\n"
   ]
  },
  {
   "cell_type": "code",
   "execution_count": 232,
   "id": "f8dcec18",
   "metadata": {},
   "outputs": [],
   "source": [
    "dict1 = {'DOB':1995}\n"
   ]
  },
  {
   "cell_type": "code",
   "execution_count": 233,
   "id": "a16af216",
   "metadata": {},
   "outputs": [
    {
     "data": {
      "text/plain": [
       "{'Name': 'Asif', 'ID': 12345, 'DOB': 1995, 'Address': 'Delhi'}"
      ]
     },
     "execution_count": 233,
     "metadata": {},
     "output_type": "execute_result"
    }
   ],
   "source": [
    "mydict1.update(dict1)\n",
    "mydict1\n"
   ]
  },
  {
   "cell_type": "code",
   "execution_count": 234,
   "id": "b665aa1e",
   "metadata": {},
   "outputs": [
    {
     "data": {
      "text/plain": [
       "{'Name': 'Asif',\n",
       " 'ID': 12345,\n",
       " 'DOB': 1995,\n",
       " 'Address': 'Delhi',\n",
       " 'Job': 'Analyst'}"
      ]
     },
     "execution_count": 234,
     "metadata": {},
     "output_type": "execute_result"
    }
   ],
   "source": [
    "mydict1['Job'] = 'Analyst'                              # Adding items in the dictionary\n",
    "mydict1\n"
   ]
  },
  {
   "cell_type": "code",
   "execution_count": 235,
   "id": "53b8505a",
   "metadata": {},
   "outputs": [
    {
     "data": {
      "text/plain": [
       "{'Name': 'Asif', 'ID': 12345, 'DOB': 1995, 'Address': 'Delhi'}"
      ]
     },
     "execution_count": 235,
     "metadata": {},
     "output_type": "execute_result"
    }
   ],
   "source": [
    "mydict1.pop('Job')                  # Removing items in the dictionary using Pop method\n",
    "mydict1\n"
   ]
  },
  {
   "cell_type": "code",
   "execution_count": 236,
   "id": "7d5cf912",
   "metadata": {},
   "outputs": [
    {
     "data": {
      "text/plain": [
       "{'Name': 'Asif', 'ID': 12345, 'DOB': 1995}"
      ]
     },
     "execution_count": 236,
     "metadata": {},
     "output_type": "execute_result"
    }
   ],
   "source": [
    "mydict1.popitem()                         # A random item is removed\n",
    "mydict1\n"
   ]
  },
  {
   "cell_type": "code",
   "execution_count": 237,
   "id": "ce399699",
   "metadata": {},
   "outputs": [
    {
     "data": {
      "text/plain": [
       "{'Name': 'Asif', 'DOB': 1995}"
      ]
     },
     "execution_count": 237,
     "metadata": {},
     "output_type": "execute_result"
    }
   ],
   "source": [
    "del[mydict1['ID']]                       # Removing item using del method\n",
    "mydict1\n"
   ]
  },
  {
   "cell_type": "code",
   "execution_count": 238,
   "id": "11e181af",
   "metadata": {},
   "outputs": [
    {
     "data": {
      "text/plain": [
       "{}"
      ]
     },
     "execution_count": 238,
     "metadata": {},
     "output_type": "execute_result"
    }
   ],
   "source": [
    "mydict1.clear()                   # Delete all items of the dictionary using clear method\n",
    "mydict1\n"
   ]
  },
  {
   "cell_type": "code",
   "execution_count": 239,
   "id": "a8b14622",
   "metadata": {},
   "outputs": [
    {
     "ename": "NameError",
     "evalue": "name 'mydict1' is not defined",
     "output_type": "error",
     "traceback": [
      "\u001b[1;31m---------------------------------------------------------------------------\u001b[0m",
      "\u001b[1;31mNameError\u001b[0m                                 Traceback (most recent call last)",
      "Input \u001b[1;32mIn [239]\u001b[0m, in \u001b[0;36m<cell line: 2>\u001b[1;34m()\u001b[0m\n\u001b[0;32m      1\u001b[0m \u001b[38;5;28;01mdel\u001b[39;00m mydict1                 \u001b[38;5;66;03m# Delete the dictionary object\u001b[39;00m\n\u001b[1;32m----> 2\u001b[0m \u001b[43mmydict1\u001b[49m\n",
      "\u001b[1;31mNameError\u001b[0m: name 'mydict1' is not defined"
     ]
    }
   ],
   "source": [
    "del mydict1                 # Delete the dictionary object\n",
    "mydict1\n"
   ]
  },
  {
   "cell_type": "code",
   "execution_count": 240,
   "id": "d7fb7654",
   "metadata": {},
   "outputs": [
    {
     "data": {
      "text/plain": [
       "{'Name': 'Asif', 'ID': 12345, 'DOB': 1991, 'Address': 'Hilsinki'}"
      ]
     },
     "execution_count": 240,
     "metadata": {},
     "output_type": "execute_result"
    }
   ],
   "source": [
    "mydict = {'Name':'Asif' , 'ID': 12345 , 'DOB': 1991 , 'Address' : 'Hilsinki'}\n",
    "mydict\n"
   ]
  },
  {
   "cell_type": "code",
   "execution_count": 241,
   "id": "f64874c1",
   "metadata": {},
   "outputs": [
    {
     "data": {
      "text/plain": [
       "(2166615130560, 2166615130560)"
      ]
     },
     "execution_count": 241,
     "metadata": {},
     "output_type": "execute_result"
    }
   ],
   "source": [
    "mydict1 = mydict                           # Create a new reference \"mydict1\" \n",
    "id(mydict) , id(mydict1)                   # The address of both mydict & mydict1 will be the same "
   ]
  },
  {
   "cell_type": "code",
   "execution_count": 242,
   "id": "599895ab",
   "metadata": {},
   "outputs": [
    {
     "data": {
      "text/plain": [
       "{'Name': 'Asif', 'ID': 12345, 'DOB': 1991, 'Address': 'Hilsinki'}"
      ]
     },
     "execution_count": 242,
     "metadata": {},
     "output_type": "execute_result"
    }
   ],
   "source": [
    "mydict1"
   ]
  },
  {
   "cell_type": "code",
   "execution_count": 243,
   "id": "b413ba85",
   "metadata": {},
   "outputs": [
    {
     "data": {
      "text/plain": [
       "2166613764352"
      ]
     },
     "execution_count": 243,
     "metadata": {},
     "output_type": "execute_result"
    }
   ],
   "source": [
    "mydict2 = mydict.copy()                    # Create a copy of the dictionary\n",
    "id(mydict2)                                # The address of mydict2 will be different from mydict because mydict\n"
   ]
  },
  {
   "cell_type": "code",
   "execution_count": 244,
   "id": "471b52b3",
   "metadata": {},
   "outputs": [
    {
     "data": {
      "text/plain": [
       "{'Name': 'Asif', 'ID': 12345, 'DOB': 1991, 'Address': 'Mumbai'}"
      ]
     },
     "execution_count": 244,
     "metadata": {},
     "output_type": "execute_result"
    }
   ],
   "source": [
    "mydict['Address'] = 'Mumbai'\n",
    "mydict"
   ]
  },
  {
   "cell_type": "code",
   "execution_count": 245,
   "id": "cc618eea",
   "metadata": {},
   "outputs": [
    {
     "name": "stdout",
     "output_type": "stream",
     "text": [
      "{'Name': 'Asif', 'ID': 12345, 'DOB': 1991, 'Address': 'Mumbai'}\n",
      "{'Name': 'Asif', 'ID': 12345, 'DOB': 1991, 'Address': 'Hilsinki'}\n"
     ]
    }
   ],
   "source": [
    "print(mydict1)                                 # mydict1 will be also impacted as it is pointing to the same dictionary\n",
    "print(mydict2 )                                   # Copy of list won't be impacted due to the changes made in the original "
   ]
  },
  {
   "cell_type": "code",
   "execution_count": 246,
   "id": "89eee9a0",
   "metadata": {},
   "outputs": [
    {
     "data": {
      "text/plain": [
       "{'Name': 'Asif', 'ID': 12345, 'DOB': 1991, 'Address': 'Mumbai'}"
      ]
     },
     "execution_count": 246,
     "metadata": {},
     "output_type": "execute_result"
    }
   ],
   "source": [
    "mydict1"
   ]
  },
  {
   "cell_type": "code",
   "execution_count": 247,
   "id": "b5046c2d",
   "metadata": {},
   "outputs": [
    {
     "name": "stdout",
     "output_type": "stream",
     "text": [
      "Name : Asif\n",
      "ID : 12345\n",
      "DOB : 1991\n",
      "Address : Mumbai\n"
     ]
    }
   ],
   "source": [
    "for i in mydict1:\n",
    "    print(i , ':' , mydict1[i])           # Key & value pai"
   ]
  },
  {
   "cell_type": "code",
   "execution_count": 248,
   "id": "cd705e9b",
   "metadata": {},
   "outputs": [
    {
     "name": "stdout",
     "output_type": "stream",
     "text": [
      "Asif\n",
      "12345\n",
      "1991\n",
      "Mumbai\n"
     ]
    }
   ],
   "source": [
    "for i in mydict1:\n",
    "    print(mydict1[i])                              #  Dictionary items\n"
   ]
  },
  {
   "cell_type": "code",
   "execution_count": 249,
   "id": "a410b179",
   "metadata": {},
   "outputs": [
    {
     "data": {
      "text/plain": [
       "{'Name': 'Asif', 'ID': 12345, 'DOB': 1991, 'Job': 'Analyst'}"
      ]
     },
     "execution_count": 249,
     "metadata": {},
     "output_type": "execute_result"
    }
   ],
   "source": [
    "mydict1 = {'Name':'Asif' , 'ID': 12345 , 'DOB': 1991 , 'Job': 'Analyst'}\n",
    "mydict1\n"
   ]
  },
  {
   "cell_type": "code",
   "execution_count": 250,
   "id": "9d6e7dc6",
   "metadata": {},
   "outputs": [
    {
     "name": "stdout",
     "output_type": "stream",
     "text": [
      "True\n",
      "False\n",
      "True\n",
      "False\n"
     ]
    }
   ],
   "source": [
    "print('Name' in mydict1 )                             # Test if a key is in a dictionary or not.\n",
    "print('Asif' in mydict1  )                             # Membership test can be only done for keys.\n",
    "print('ID' in mydict1)\n",
    "print('Address' in mydict1)\n"
   ]
  },
  {
   "cell_type": "code",
   "execution_count": 251,
   "id": "a27d7fc9",
   "metadata": {},
   "outputs": [
    {
     "data": {
      "text/plain": [
       "True"
      ]
     },
     "execution_count": 251,
     "metadata": {},
     "output_type": "execute_result"
    }
   ],
   "source": [
    "mydict1 = {'Name':'Asif' , 'ID': 12345 , 'DOB': 1991 , 'Job': 'Analyst'}\n",
    "mydict1\n",
    "all(mydict1)                                   # Will Return false as one value is false (Value 0)\n"
   ]
  },
  {
   "cell_type": "code",
   "execution_count": 252,
   "id": "265f9bed",
   "metadata": {},
   "outputs": [
    {
     "data": {
      "text/plain": [
       "True"
      ]
     },
     "execution_count": 252,
     "metadata": {},
     "output_type": "execute_result"
    }
   ],
   "source": [
    "any(mydict1)                                       #  Will Return True as we have items in the dictionary with True val\n"
   ]
  },
  {
   "cell_type": "code",
   "execution_count": 253,
   "id": "216e6deb",
   "metadata": {},
   "outputs": [
    {
     "data": {
      "text/plain": [
       "{'Name': 'Asif', 'ID': 12345, 'DOB': 1991, 'Job': 'Analyst', 0: 'test1'}"
      ]
     },
     "execution_count": 253,
     "metadata": {},
     "output_type": "execute_result"
    }
   ],
   "source": [
    "mydict1[0] = 'test1'\n",
    "mydict1\n"
   ]
  },
  {
   "cell_type": "code",
   "execution_count": 254,
   "id": "7ce50323",
   "metadata": {},
   "outputs": [
    {
     "data": {
      "text/plain": [
       "False"
      ]
     },
     "execution_count": 254,
     "metadata": {},
     "output_type": "execute_result"
    }
   ],
   "source": [
    "all(mydict1)                                          # Returns false as one value is false"
   ]
  },
  {
   "cell_type": "code",
   "execution_count": 255,
   "id": "3de70b06",
   "metadata": {},
   "outputs": [
    {
     "data": {
      "text/plain": [
       "True"
      ]
     },
     "execution_count": 255,
     "metadata": {},
     "output_type": "execute_result"
    }
   ],
   "source": [
    "any(mydict1)                                            # Will Return True as we have items in the dictionary with True val\n"
   ]
  },
  {
   "cell_type": "code",
   "execution_count": 256,
   "id": "88ee90e5",
   "metadata": {},
   "outputs": [
    {
     "data": {
      "text/plain": [
       "{0: 0, 1: 2, 2: 4, 3: 6, 4: 8, 5: 10, 6: 12, 7: 14, 8: 16, 9: 18}"
      ]
     },
     "execution_count": 256,
     "metadata": {},
     "output_type": "execute_result"
    }
   ],
   "source": [
    "double = {i:i*2 for i in range(10)}                  #double each value using dict comprehension\n",
    "double"
   ]
  },
  {
   "cell_type": "code",
   "execution_count": 257,
   "id": "20f746eb",
   "metadata": {},
   "outputs": [
    {
     "data": {
      "text/plain": [
       "{0: 0, 1: 1, 2: 4, 3: 9, 4: 16, 5: 25, 6: 36, 7: 49, 8: 64, 9: 81}"
      ]
     },
     "execution_count": 257,
     "metadata": {},
     "output_type": "execute_result"
    }
   ],
   "source": [
    "square = {i:i**2 for i in range(10)}\n",
    "square\n"
   ]
  },
  {
   "cell_type": "code",
   "execution_count": 258,
   "id": "e5f789f2",
   "metadata": {},
   "outputs": [
    {
     "data": {
      "text/plain": [
       "{'one': 1, 'two': 2, 'three': 3, 'four': 4, 'five': 5}"
      ]
     },
     "execution_count": 258,
     "metadata": {},
     "output_type": "execute_result"
    }
   ],
   "source": [
    "key = ['one' , 'two' , 'three' , 'four' , 'five']\n",
    "value = [1,2,3,4,5]\n",
    "mydict = {k:v for (k,v) in zip(key,value)}                    # using dict comprehension to create d\n",
    "mydict\n"
   ]
  },
  {
   "cell_type": "code",
   "execution_count": 259,
   "id": "b1c9e63f",
   "metadata": {},
   "outputs": [
    {
     "data": {
      "text/plain": [
       "{'a': 1.0, 'b': 2.0, 'c': 3.0, 'd': 4.0, 'e': 5.0}"
      ]
     },
     "execution_count": 259,
     "metadata": {},
     "output_type": "execute_result"
    }
   ],
   "source": [
    "mydict1 = {'a':10 , 'b':20 , 'c':30 , 'd':40 , 'e':50}\n",
    "mydict1 = {k:v/10 for (k,v) in mydict1.items()}                   # Divide all values in a dictiona\n",
    "mydict1"
   ]
  },
  {
   "cell_type": "code",
   "execution_count": 260,
   "id": "64877b0e",
   "metadata": {},
   "outputs": [],
   "source": [
    "str1 = \"Natural Language Processing\"\n",
    "mydict2 = {k:v for (k,v) in enumerate(str1)}                        # Store enumerated values in a dicti\n"
   ]
  },
  {
   "cell_type": "code",
   "execution_count": 261,
   "id": "8ced177c",
   "metadata": {},
   "outputs": [
    {
     "data": {
      "text/plain": [
       "{0: 'N',\n",
       " 1: 'a',\n",
       " 2: 't',\n",
       " 3: 'u',\n",
       " 4: 'r',\n",
       " 5: 'a',\n",
       " 6: 'l',\n",
       " 7: ' ',\n",
       " 8: 'L',\n",
       " 9: 'a',\n",
       " 10: 'n',\n",
       " 11: 'g',\n",
       " 12: 'u',\n",
       " 13: 'a',\n",
       " 14: 'g',\n",
       " 15: 'e',\n",
       " 16: ' ',\n",
       " 17: 'P',\n",
       " 18: 'r',\n",
       " 19: 'o',\n",
       " 20: 'c',\n",
       " 21: 'e',\n",
       " 22: 's',\n",
       " 23: 's',\n",
       " 24: 'i',\n",
       " 25: 'n',\n",
       " 26: 'g'}"
      ]
     },
     "execution_count": 261,
     "metadata": {},
     "output_type": "execute_result"
    }
   ],
   "source": [
    "mydict2"
   ]
  },
  {
   "cell_type": "code",
   "execution_count": 262,
   "id": "9d0beafe",
   "metadata": {},
   "outputs": [
    {
     "data": {
      "text/plain": [
       "{'a': 'A',\n",
       " 'b': 'B',\n",
       " 'c': 'C',\n",
       " 'd': 'D',\n",
       " 'e': 'E',\n",
       " 'f': 'F',\n",
       " 'g': 'G',\n",
       " 'h': 'H',\n",
       " 'i': 'I',\n",
       " 'j': 'J',\n",
       " 'k': 'K',\n",
       " 'l': 'L',\n",
       " 'm': 'M',\n",
       " 'n': 'N',\n",
       " 'o': 'O',\n",
       " 'p': 'P',\n",
       " 'q': 'Q',\n",
       " 'r': 'R',\n",
       " 's': 'S',\n",
       " 't': 'T',\n",
       " 'u': 'U',\n",
       " 'v': 'V',\n",
       " 'w': 'W',\n",
       " 'x': 'X',\n",
       " 'y': 'Y',\n",
       " 'z': 'Z'}"
      ]
     },
     "execution_count": 262,
     "metadata": {},
     "output_type": "execute_result"
    }
   ],
   "source": [
    "str1 = \"abcdefghijklmnopqrstuvwxyz\"\n",
    "mydict3 = {i:i.upper() for i in str1}                            # Lower to Upper Case\n",
    "mydict3"
   ]
  },
  {
   "cell_type": "code",
   "execution_count": 263,
   "id": "1516ed4b",
   "metadata": {},
   "outputs": [],
   "source": [
    "mystr4 = \"one two three four one two two three five five six seven six seven one\" "
   ]
  },
  {
   "cell_type": "code",
   "execution_count": 264,
   "id": "a705dc19",
   "metadata": {},
   "outputs": [
    {
     "data": {
      "text/plain": [
       "['one',\n",
       " 'two',\n",
       " 'three',\n",
       " 'four',\n",
       " 'one',\n",
       " 'two',\n",
       " 'two',\n",
       " 'three',\n",
       " 'five',\n",
       " 'five',\n",
       " 'six',\n",
       " 'seven',\n",
       " 'six',\n",
       " 'seven',\n",
       " 'one']"
      ]
     },
     "execution_count": 264,
     "metadata": {},
     "output_type": "execute_result"
    }
   ],
   "source": [
    "mylist = mystr4.split()                                         # Split String into substrings\n",
    "mylist"
   ]
  },
  {
   "cell_type": "code",
   "execution_count": 265,
   "id": "9af29cb8",
   "metadata": {},
   "outputs": [
    {
     "data": {
      "text/plain": [
       "['three', 'six', 'two', 'four', 'five', 'seven', 'one']"
      ]
     },
     "execution_count": 265,
     "metadata": {},
     "output_type": "execute_result"
    }
   ],
   "source": [
    "mylist1 = set(mylist)                                           # Unique values in a list\n",
    "mylist1 = list (mylist1)\n",
    "mylist1"
   ]
  },
  {
   "cell_type": "code",
   "execution_count": 266,
   "id": "9eed0dbd",
   "metadata": {},
   "outputs": [
    {
     "data": {
      "text/plain": [
       "[0, 0, 0, 0, 0, 0, 0]"
      ]
     },
     "execution_count": 266,
     "metadata": {},
     "output_type": "execute_result"
    }
   ],
   "source": [
    "count1 = [0] * len(mylist1)\n",
    "count1"
   ]
  },
  {
   "cell_type": "code",
   "execution_count": 267,
   "id": "53dc1873",
   "metadata": {},
   "outputs": [
    {
     "data": {
      "text/plain": [
       "7"
      ]
     },
     "execution_count": 267,
     "metadata": {},
     "output_type": "execute_result"
    }
   ],
   "source": [
    "len(mylist1)"
   ]
  },
  {
   "cell_type": "code",
   "execution_count": 268,
   "id": "e11aa637",
   "metadata": {},
   "outputs": [
    {
     "data": {
      "text/plain": [
       "['three', 'six', 'two', 'four', 'five', 'seven', 'one']"
      ]
     },
     "execution_count": 268,
     "metadata": {},
     "output_type": "execute_result"
    }
   ],
   "source": [
    "mylist1"
   ]
  },
  {
   "cell_type": "code",
   "execution_count": 269,
   "id": "3f1769de",
   "metadata": {},
   "outputs": [
    {
     "data": {
      "text/plain": [
       "['one',\n",
       " 'two',\n",
       " 'three',\n",
       " 'four',\n",
       " 'one',\n",
       " 'two',\n",
       " 'two',\n",
       " 'three',\n",
       " 'five',\n",
       " 'five',\n",
       " 'six',\n",
       " 'seven',\n",
       " 'six',\n",
       " 'seven',\n",
       " 'one']"
      ]
     },
     "execution_count": 269,
     "metadata": {},
     "output_type": "execute_result"
    }
   ],
   "source": [
    "mylist"
   ]
  },
  {
   "cell_type": "code",
   "execution_count": 270,
   "id": "05ad86f6",
   "metadata": {},
   "outputs": [
    {
     "data": {
      "text/plain": [
       "15"
      ]
     },
     "execution_count": 270,
     "metadata": {},
     "output_type": "execute_result"
    }
   ],
   "source": [
    "len(mylist)"
   ]
  },
  {
   "cell_type": "code",
   "execution_count": 271,
   "id": "abab5f8a",
   "metadata": {},
   "outputs": [
    {
     "name": "stdout",
     "output_type": "stream",
     "text": [
      "0\n",
      "1\n",
      "2\n",
      "3\n",
      "4\n",
      "5\n",
      "6\n",
      "7\n",
      "8\n",
      "9\n",
      "10\n",
      "11\n",
      "12\n",
      "13\n",
      "14\n"
     ]
    }
   ],
   "source": [
    "for j in range(len(mylist)):\n",
    "    print(j)"
   ]
  },
  {
   "cell_type": "code",
   "execution_count": 272,
   "id": "849485e7",
   "metadata": {},
   "outputs": [
    {
     "data": {
      "text/plain": [
       "False"
      ]
     },
     "execution_count": 272,
     "metadata": {},
     "output_type": "execute_result"
    }
   ],
   "source": [
    "mylist1[1] == mylist[1]"
   ]
  },
  {
   "cell_type": "code",
   "execution_count": 273,
   "id": "951b04e7",
   "metadata": {},
   "outputs": [
    {
     "ename": "TypeError",
     "evalue": "list indices must be integers or slices, not str",
     "output_type": "error",
     "traceback": [
      "\u001b[1;31m---------------------------------------------------------------------------\u001b[0m",
      "\u001b[1;31mTypeError\u001b[0m                                 Traceback (most recent call last)",
      "Input \u001b[1;32mIn [273]\u001b[0m, in \u001b[0;36m<cell line: 1>\u001b[1;34m()\u001b[0m\n\u001b[1;32m----> 1\u001b[0m mydict5[mylist1[i]] \u001b[38;5;241m=\u001b[39m \u001b[43mcount1\u001b[49m\u001b[43m[\u001b[49m\u001b[43mi\u001b[49m\u001b[43m]\u001b[49m\n\u001b[0;32m      2\u001b[0m \u001b[38;5;28mprint\u001b[39m(mydict5)\n",
      "\u001b[1;31mTypeError\u001b[0m: list indices must be integers or slices, not str"
     ]
    }
   ],
   "source": [
    "mydict5[mylist1[i]] = count1[i]\n",
    "print(mydict5)\n"
   ]
  },
  {
   "cell_type": "code",
   "execution_count": 274,
   "id": "fce82a30",
   "metadata": {},
   "outputs": [
    {
     "name": "stdout",
     "output_type": "stream",
     "text": [
      "{'three': 2, 'six': 2, 'two': 3, 'four': 1, 'five': 2, 'seven': 2, 'one': 3}\n"
     ]
    }
   ],
   "source": [
    "# Calculate frequenct of each word\n",
    "count1 = [0] * len(mylist1)\n",
    "mydict5 = dict()\n",
    "for i in range(len(mylist1)):                        # for i in range of 7\n",
    "    for j in range(len(mylist)):                      # for i in range of 15\n",
    "        if mylist1[i] == mylist[j]:\n",
    "            count1[i] += 1\n",
    "    mydict5[mylist1[i]] = count1[i]\n",
    "print(mydict5)\n"
   ]
  },
  {
   "cell_type": "markdown",
   "id": "167a7854",
   "metadata": {},
   "source": [
    "# Operators"
   ]
  },
  {
   "cell_type": "code",
   "execution_count": 275,
   "id": "0562e8a6",
   "metadata": {},
   "outputs": [],
   "source": [
    "a = 5\n",
    "b = 2\n",
    "x = 'Asif'\n",
    "y = 'Bhat'\n"
   ]
  },
  {
   "cell_type": "code",
   "execution_count": 276,
   "id": "349fab06",
   "metadata": {},
   "outputs": [
    {
     "name": "stdout",
     "output_type": "stream",
     "text": [
      "Addition of 5 and 2 will give :- 7\n",
      "\n"
     ]
    }
   ],
   "source": [
    "# Addition\n",
    "c = a + b\n",
    "print('Addition of {} and {} will give :- {}\\n'.format(a,b,c))"
   ]
  },
  {
   "cell_type": "code",
   "execution_count": 277,
   "id": "fd991464",
   "metadata": {},
   "outputs": [
    {
     "name": "stdout",
     "output_type": "stream",
     "text": [
      "Concatenate string 'x' and 'y' using '+' operaotr :- AsifBhat\n",
      "\n"
     ]
    }
   ],
   "source": [
    "#Concatenate string using plus operator\n",
    "z = x+y\n",
    "print ('Concatenate string \\'x\\' and \\'y\\' using \\'+\\' operaotr :- {}\\n'.format(z))\n",
    " "
   ]
  },
  {
   "cell_type": "code",
   "execution_count": 278,
   "id": "8b6a6220",
   "metadata": {},
   "outputs": [
    {
     "name": "stdout",
     "output_type": "stream",
     "text": [
      "Subtracting 2 from 5 will give :- 3\n",
      "\n"
     ]
    }
   ],
   "source": [
    "# Subtraction\n",
    "c = a - b\n",
    "print('Subtracting {} from {} will give :- {}\\n'.format(b,a,c))"
   ]
  },
  {
   "cell_type": "code",
   "execution_count": 279,
   "id": "93e00406",
   "metadata": {},
   "outputs": [
    {
     "name": "stdout",
     "output_type": "stream",
     "text": [
      "Multiplying 5 and 2 will give :- 10\n",
      "\n"
     ]
    }
   ],
   "source": [
    "# Multiplication\n",
    "c = a * b \n",
    "print('Multiplying {} and {} will give :- {}\\n'.format(a,b,c))"
   ]
  },
  {
   "cell_type": "code",
   "execution_count": 280,
   "id": "b7fce62b",
   "metadata": {},
   "outputs": [
    {
     "name": "stdout",
     "output_type": "stream",
     "text": [
      "Dividing 5 by 2 will give :- 2.5\n",
      "\n"
     ]
    }
   ],
   "source": [
    "# Division\n",
    "c = a / b\n",
    "print('Dividing {} by {} will give :- {}\\n'.format(a,b,c))"
   ]
  },
  {
   "cell_type": "code",
   "execution_count": 281,
   "id": "6b7a702f",
   "metadata": {},
   "outputs": [
    {
     "name": "stdout",
     "output_type": "stream",
     "text": [
      "Modulo of 5 , 2 will give :- 1\n",
      "\n"
     ]
    }
   ],
   "source": [
    "# Modulo of both number \n",
    "c = a % b\n",
    "print('Modulo of {} , {} will give :- {}\\n'.format(a,b,c))"
   ]
  },
  {
   "cell_type": "code",
   "execution_count": 282,
   "id": "8cf4dd4f",
   "metadata": {},
   "outputs": [
    {
     "name": "stdout",
     "output_type": "stream",
     "text": [
      "5 raised to the power 2 will give :- 25\n",
      "\n"
     ]
    }
   ],
   "source": [
    "# Power \n",
    "c = a ** b\n",
    "print('{} raised to the power {} will give :- {}\\n'.format(a,b,c))"
   ]
  },
  {
   "cell_type": "code",
   "execution_count": 283,
   "id": "38af6885",
   "metadata": {},
   "outputs": [
    {
     "name": "stdout",
     "output_type": "stream",
     "text": [
      "Floor division of 5 by 2 will give :- 2\n",
      "\n"
     ]
    }
   ],
   "source": [
    "# Division(floor)\n",
    "c = a // b\n",
    "print('Floor division of {} by {} will give :- {}\\n'.format(a,b,c))"
   ]
  },
  {
   "cell_type": "code",
   "execution_count": 284,
   "id": "ccfe1cd2",
   "metadata": {},
   "outputs": [
    {
     "name": "stdout",
     "output_type": "stream",
     "text": [
      "Is x greater than y :-  False\n",
      "\n",
      "Is x less than y :-  True\n",
      "\n",
      "Is x equal to y :-  False\n",
      "\n",
      "Is x not equal to y :-  True\n",
      "\n",
      "Is x greater than or equal to y :-  False\n",
      "\n",
      "Is x less than or equal to y :-  True\n"
     ]
    }
   ],
   "source": [
    "x = 20\n",
    "y = 30\n",
    "print('Is x greater than y :- ',x>y)\n",
    "print('\\nIs x less than y :- ',x<y)\n",
    "print('\\nIs x equal to y :- ',x==y)\n",
    "print('\\nIs x not equal to y :- ',x!=y)\n",
    "print('\\nIs x greater than or equal to y :- ',x>=y)\n",
    "print('\\nIs x less than or equal to y :- ',x<=y)\n"
   ]
  },
  {
   "cell_type": "code",
   "execution_count": 285,
   "id": "8f3e996d",
   "metadata": {},
   "outputs": [
    {
     "data": {
      "text/plain": [
       "(False, True, True)"
      ]
     },
     "execution_count": 285,
     "metadata": {},
     "output_type": "execute_result"
    }
   ],
   "source": [
    "a = 'Asif'\n",
    "b = 'Bhat'\n",
    "c = 'Asif'\n",
    "a == b , a ==c , a != b                          # Comparison operators on string"
   ]
  },
  {
   "cell_type": "code",
   "execution_count": 286,
   "id": "58caafe8",
   "metadata": {},
   "outputs": [
    {
     "name": "stdout",
     "output_type": "stream",
     "text": [
      "Logical AND operation :-  False\n",
      "Logical OR operation :-  True\n",
      "NOT operation :-  False\n"
     ]
    }
   ],
   "source": [
    "x = True\n",
    "y = False\n",
    "print('Logical AND operation :- ',x and y)                        # True if both values are true\n",
    "print('Logical OR operation :- ',x or y)                          # True if either of the values is true\n",
    "print('NOT operation :- ',not x )                                 # True if operand is false\n"
   ]
  },
  {
   "cell_type": "code",
   "execution_count": 287,
   "id": "367b4a03",
   "metadata": {},
   "outputs": [
    {
     "name": "stdout",
     "output_type": "stream",
     "text": [
      "Bitwise AND operation - 2\n",
      "Bitwise OR operation - 22\n",
      "Bitwise XOR operation - 20\n",
      "Bitwise NOT operation - -19\n",
      "Bitwise right shift operation - 4\n",
      "Bitwise left shift operation - 72\n",
      "Bitwise right shift operation - 0\n",
      "Bitwise left shift operation - 48\n",
      "Bitwise left shift operation - 36\n"
     ]
    }
   ],
   "source": [
    "x = 18                                                  # binary form 10010\n",
    "y = 6                                                   # binary form 00110\n",
    "print('Bitwise AND operation - {}'.format(x&y))\n",
    "print('Bitwise OR operation - {}'.format(x|y))\n",
    "print('Bitwise XOR operation - {}'.format(x^y))\n",
    "print('Bitwise NOT operation - {}'.format(~x))\n",
    "print('Bitwise right shift operation - {}'.format(x>>2))\n",
    "print('Bitwise left shift operation - {}'.format(x<<2))\n",
    "print('Bitwise right shift operation - {}'.format(y>>3))\n",
    "print('Bitwise left shift operation - {}'.format(y<<3))\n",
    "print('Bitwise left shift operation - {}'.format(x<<1))"
   ]
  },
  {
   "cell_type": "code",
   "execution_count": 288,
   "id": "1b23314c",
   "metadata": {},
   "outputs": [
    {
     "name": "stdout",
     "output_type": "stream",
     "text": [
      "Initialize x with value 10 (x=10)) :-  10\n"
     ]
    }
   ],
   "source": [
    "x = 10\n",
    "print('Initialize x with value 10 (x=10)) :- ',x)\n"
   ]
  },
  {
   "cell_type": "code",
   "execution_count": 289,
   "id": "8d39ce26",
   "metadata": {},
   "outputs": [
    {
     "name": "stdout",
     "output_type": "stream",
     "text": [
      "Add 20 to x :-  30\n"
     ]
    }
   ],
   "source": [
    "x+=20                                           # x = x+20\n",
    "print ('Add 20 to x :- ',x)\n"
   ]
  },
  {
   "cell_type": "code",
   "execution_count": 290,
   "id": "9a73558d",
   "metadata": {},
   "outputs": [
    {
     "name": "stdout",
     "output_type": "stream",
     "text": [
      "subtract 20 from x :-  10\n"
     ]
    }
   ],
   "source": [
    "x-=20                                           # x = x-20\n",
    "print ('subtract 20 from x :- ',x)\n"
   ]
  },
  {
   "cell_type": "code",
   "execution_count": 291,
   "id": "9fc7269c",
   "metadata": {},
   "outputs": [
    {
     "name": "stdout",
     "output_type": "stream",
     "text": [
      "Divide x by 10 :-  1.0\n"
     ]
    }
   ],
   "source": [
    "x/=10                                              # x = x/10\n",
    "print ('Divide x by 10 :- ',x)\n"
   ]
  },
  {
   "cell_type": "code",
   "execution_count": 292,
   "id": "b2e5cd0d",
   "metadata": {},
   "outputs": [],
   "source": [
    "x=10"
   ]
  },
  {
   "cell_type": "code",
   "execution_count": 293,
   "id": "fb017510",
   "metadata": {},
   "outputs": [
    {
     "name": "stdout",
     "output_type": "stream",
     "text": [
      "Multiply x by 10 :-  100\n"
     ]
    }
   ],
   "source": [
    "x*=10                                             # x = x/10\n",
    "print ('Multiply x by 10 :- ',x)\n"
   ]
  },
  {
   "cell_type": "code",
   "execution_count": 294,
   "id": "bd0bf732",
   "metadata": {},
   "outputs": [],
   "source": [
    "x = int(x)"
   ]
  },
  {
   "cell_type": "code",
   "execution_count": 295,
   "id": "e6b4c32e",
   "metadata": {},
   "outputs": [
    {
     "name": "stdout",
     "output_type": "stream",
     "text": [
      "x raised to the power 2 :-  10000\n"
     ]
    }
   ],
   "source": [
    "\n",
    "x**=2                                                # x = x/10\n",
    "print ('x raised to the power 2 :- ',x)\n"
   ]
  },
  {
   "cell_type": "code",
   "execution_count": 296,
   "id": "1809587d",
   "metadata": {},
   "outputs": [
    {
     "name": "stdout",
     "output_type": "stream",
     "text": [
      "Modulo Division :-  0\n"
     ]
    }
   ],
   "source": [
    "x%=2\n",
    "print ('Modulo Division :- ',x)\n"
   ]
  },
  {
   "cell_type": "code",
   "execution_count": 297,
   "id": "33b36274",
   "metadata": {},
   "outputs": [
    {
     "name": "stdout",
     "output_type": "stream",
     "text": [
      "Floor Division :-  6\n"
     ]
    }
   ],
   "source": [
    "x = 20\n",
    "x//=3\n",
    "print ('Floor Division :- ',x)\n"
   ]
  },
  {
   "cell_type": "code",
   "execution_count": 298,
   "id": "cf9013eb",
   "metadata": {},
   "outputs": [],
   "source": [
    "x=20"
   ]
  },
  {
   "cell_type": "code",
   "execution_count": 299,
   "id": "4d7a493e",
   "metadata": {},
   "outputs": [
    {
     "name": "stdout",
     "output_type": "stream",
     "text": [
      "Bitwise AND :-  0\n"
     ]
    }
   ],
   "source": [
    "x&=2\n",
    "print('Bitwise AND :- ',x)\n"
   ]
  },
  {
   "cell_type": "code",
   "execution_count": 300,
   "id": "3fb1e203",
   "metadata": {},
   "outputs": [],
   "source": [
    "x=20"
   ]
  },
  {
   "cell_type": "code",
   "execution_count": 301,
   "id": "0e2a8151",
   "metadata": {},
   "outputs": [
    {
     "name": "stdout",
     "output_type": "stream",
     "text": [
      "Bitwise OR :-  22\n"
     ]
    }
   ],
   "source": [
    "x|=2\n",
    "print('Bitwise OR :- ',x)\n"
   ]
  },
  {
   "cell_type": "code",
   "execution_count": 302,
   "id": "23134bb8",
   "metadata": {},
   "outputs": [],
   "source": [
    "x=20"
   ]
  },
  {
   "cell_type": "code",
   "execution_count": 303,
   "id": "853d2f54",
   "metadata": {},
   "outputs": [
    {
     "name": "stdout",
     "output_type": "stream",
     "text": [
      "Bitwise XOR :-  22\n"
     ]
    }
   ],
   "source": [
    "x^=2\n",
    "print('Bitwise XOR :- ',x)\n"
   ]
  },
  {
   "cell_type": "code",
   "execution_count": 304,
   "id": "420d6161",
   "metadata": {},
   "outputs": [
    {
     "name": "stdout",
     "output_type": "stream",
     "text": [
      "Bitwise left shift operation 40\n"
     ]
    }
   ],
   "source": [
    "x = 10\n",
    "x<<=2\n",
    "print('Bitwise left shift operation',x)\n"
   ]
  },
  {
   "cell_type": "code",
   "execution_count": 305,
   "id": "d594dec7",
   "metadata": {},
   "outputs": [],
   "source": [
    "x = 10"
   ]
  },
  {
   "cell_type": "code",
   "execution_count": 306,
   "id": "af2b9ac3",
   "metadata": {},
   "outputs": [
    {
     "name": "stdout",
     "output_type": "stream",
     "text": [
      "Bitwise right shift operation 2\n"
     ]
    }
   ],
   "source": [
    "x>>=2\n",
    "print('Bitwise right shift operation',x)"
   ]
  },
  {
   "cell_type": "code",
   "execution_count": 307,
   "id": "b5c1eee4",
   "metadata": {},
   "outputs": [
    {
     "data": {
      "text/plain": [
       "(True, False)"
      ]
     },
     "execution_count": 307,
     "metadata": {},
     "output_type": "execute_result"
    }
   ],
   "source": [
    "mystr = 'Asif Ali Bhat'\n",
    "'Asif' in mystr , 'John' in mystr\n",
    "\n"
   ]
  },
  {
   "cell_type": "code",
   "execution_count": 308,
   "id": "e03f8f2f",
   "metadata": {},
   "outputs": [
    {
     "data": {
      "text/plain": [
       "(False, True)"
      ]
     },
     "execution_count": 308,
     "metadata": {},
     "output_type": "execute_result"
    }
   ],
   "source": [
    "mystr = 'Asif Ali Bhat'\n",
    "'Asif' not in mystr , 'John' not in mystr"
   ]
  },
  {
   "cell_type": "markdown",
   "id": "46a19cad",
   "metadata": {},
   "source": [
    "# Functions"
   ]
  },
  {
   "attachments": {
    "fucntiom.png": {
     "image/png": "[encoded data removed]"
    }
   },
   "cell_type": "markdown",
   "id": "4f5e9aa2",
   "metadata": {},
   "source": [
    "* A function is a block of organized code written to carry out a specified task.\n",
    "* Functions help break our program into smaller and modular chunks for better readability.\n",
    "* Information can be passed into a function as arguments.\n",
    "* Parameters are specified after the function name inside the parentheses.\n",
    "* We can add as many parameters as we want. Parameters must be separated with a comma.\n",
    "* A function may or may not return data.\n",
    "* In Python a function is defined using the def keyword\n",
    "\n",
    "![fucntiom.png](attachment:fucntiom.png)"
   ]
  },
  {
   "cell_type": "markdown",
   "id": "7c33ee7b",
   "metadata": {},
   "source": [
    "* Parameter VS Argument\n",
    "\n",
    "       A parameter is the variable listed inside the parentheses in the function definition.\n",
    "       An argument is the value that is sent to the function when it is called.\n",
    "\n",
    "* Three types of functions in Python:-\n",
    "\n",
    "      Built-in function :- Python predefined functions that are readily available for use like min() ,max() , sum() , print() etc.\n",
    "      \n",
    "      User-Defined Functions:- Function that we define ourselves to perform a specific task.\n",
    "      \n",
    "      Anonymous functions : Function that is defined without a name. Anonymous functions are also called as lambda functions. They are not declared with the def keyword."
   ]
  },
  {
   "cell_type": "code",
   "execution_count": 309,
   "id": "31a616eb",
   "metadata": {},
   "outputs": [
    {
     "name": "stdout",
     "output_type": "stream",
     "text": [
      "Hello Python Lovers\n"
     ]
    }
   ],
   "source": [
    "def myfunc():\n",
    " print(\"Hello Python Lovers\")\n",
    "myfunc()"
   ]
  },
  {
   "cell_type": "code",
   "execution_count": 310,
   "id": "3e8f8375",
   "metadata": {},
   "outputs": [
    {
     "name": "stdout",
     "output_type": "stream",
     "text": [
      "Name :-  Asif\n",
      "User ID is :-  asif123\n",
      "Country :-  India\n"
     ]
    }
   ],
   "source": [
    "def details(name,userid,country):                      # Function to print User details\n",
    "    print('Name :- ', name)\n",
    "    print('User ID is :- ', userid)\n",
    "    print('Country :- ',country)\n",
    " \n",
    "details('Asif' , 'asif123' , 'India')\n"
   ]
  },
  {
   "cell_type": "code",
   "execution_count": 311,
   "id": "4255e79d",
   "metadata": {},
   "outputs": [
    {
     "data": {
      "text/plain": [
       "100"
      ]
     },
     "execution_count": 311,
     "metadata": {},
     "output_type": "execute_result"
    }
   ],
   "source": [
    "def square (n):        #function to find square of a number\n",
    " n= n*n\n",
    " return n\n",
    "square (10)\n"
   ]
  },
  {
   "cell_type": "code",
   "execution_count": 312,
   "id": "c6ddd700",
   "metadata": {},
   "outputs": [
    {
     "name": "stdout",
     "output_type": "stream",
     "text": [
      "3  is odd number\n",
      "4  is even number\n",
      " This function will check whether a number is even or odd\n"
     ]
    }
   ],
   "source": [
    "def even_odd (num):               #Even odd test\n",
    " \"\"\" This function will check whether a number is even or odd\"\"\"\n",
    " if num % 2 ==0:\n",
    "        print (num, ' is even number')\n",
    " else:\n",
    "    print (num, ' is odd number')\n",
    "even_odd(3)\n",
    "even_odd(4)\n",
    "print(even_odd.__doc__)         # Print function documentation string\n"
   ]
  },
  {
   "cell_type": "code",
   "execution_count": 313,
   "id": "4cb68029",
   "metadata": {},
   "outputs": [
    {
     "name": "stdout",
     "output_type": "stream",
     "text": [
      "Asif Ali Bhat\n"
     ]
    }
   ],
   "source": [
    "def fullname (firstname , middlename ,lastname):              #Concatenate Strings\n",
    " fullname = \"{} {} {}\".format(firstname,middlename,lastname)\n",
    " print (fullname)\n",
    "fullname('Asif' , 'Ali' , 'Bhat')\n"
   ]
  },
  {
   "cell_type": "code",
   "execution_count": 314,
   "id": "64544157",
   "metadata": {},
   "outputs": [
    {
     "name": "stdout",
     "output_type": "stream",
     "text": [
      "Asif Ali Bhat\n"
     ]
    }
   ],
   "source": [
    "def fullname (firstname , middlename ,lastname):                      #Concatenate Strings\n",
    " fullname = \"{} {} {}\".format(firstname,middlename,lastname)\n",
    " print (fullname)\n",
    "fullname(lastname = 'Bhat' , middlename='Ali' , firstname='Asif')       # Keyword Argum\n"
   ]
  },
  {
   "cell_type": "code",
   "execution_count": 315,
   "id": "949056f8",
   "metadata": {},
   "outputs": [
    {
     "name": "stdout",
     "output_type": "stream",
     "text": [
      "Most Populous City :-  Mumbai\n"
     ]
    }
   ],
   "source": [
    "def myfunc(city = 'Mumbai'):\n",
    " print('Most Populous City :- ', city)\n",
    " \n",
    "myfunc()            # When a function is called without an argument it will use default valu\n",
    "var1 = 100          # Variable with Global scope.\n"
   ]
  },
  {
   "cell_type": "code",
   "execution_count": 316,
   "id": "6ea7ff39",
   "metadata": {},
   "outputs": [
    {
     "name": "stdout",
     "output_type": "stream",
     "text": [
      "100\n",
      "100\n"
     ]
    }
   ],
   "source": [
    "def myfunc():\n",
    "    print(var1)           # Value 100 will be displayed due to global scope of var1\n",
    "myfunc()\n",
    "print(var1)\n"
   ]
  },
  {
   "cell_type": "code",
   "execution_count": 317,
   "id": "8c4184e6",
   "metadata": {},
   "outputs": [],
   "source": [
    "def myfunc1():\n",
    "    var2 = 10                        # Variable with Local scope\n",
    "    print(var2)\n"
   ]
  },
  {
   "cell_type": "code",
   "execution_count": 318,
   "id": "096afa66",
   "metadata": {},
   "outputs": [
    {
     "name": "stdout",
     "output_type": "stream",
     "text": [
      "10\n",
      "10\n"
     ]
    }
   ],
   "source": [
    "var2 = 10\n",
    "def myfunc2():\n",
    "    print(var2)           # This will throw error because var2 has a local scope.\n",
    "myfunc1()\n",
    "myfunc2()\n",
    "var1 = 100                 # Variable with Global scope.\n"
   ]
  },
  {
   "cell_type": "code",
   "execution_count": 319,
   "id": "229f6c69",
   "metadata": {},
   "outputs": [
    {
     "name": "stdout",
     "output_type": "stream",
     "text": [
      "99\n",
      "100\n"
     ]
    }
   ],
   "source": [
    "var1 = 100                   # Variable with Global scope.\n",
    "def myfunc():\n",
    " var1 = 99                       # Local scope\n",
    " print(var1)\n",
    " \n",
    "myfunc() \n",
    "print(var1)               # The original value of var1 (100) will be retained due to global sco\n",
    "\n"
   ]
  },
  {
   "cell_type": "code",
   "execution_count": 320,
   "id": "21386fa3",
   "metadata": {},
   "outputs": [
    {
     "name": "stdout",
     "output_type": "stream",
     "text": [
      "\"List1\" before calling the function:-  [11, 22, 33, 44, 55]\n",
      "\"List1\" after calling the function:-  [11, 22, 33, 44, 55, 100]\n"
     ]
    }
   ],
   "source": [
    "list1 = [11,22,33,44,55]\n",
    "def myfunc(list1):\n",
    " list1.append(100)\n",
    "print('\"List1\" before calling the function:- ',list1)\n",
    "myfunc(list1)                      # Pass by reference (Any change in the parameter within the functi\n",
    "print('\"List1\" after calling the function:- ',list1)\n",
    "\n"
   ]
  },
  {
   "cell_type": "code",
   "execution_count": 321,
   "id": "6b751fc7",
   "metadata": {},
   "outputs": [
    {
     "name": "stdout",
     "output_type": "stream",
     "text": [
      "\"List1\" before calling the function:-  [11, 22, 33, 44, 55, 100]\n",
      "\"List1\" after calling the function:-  [11, 22, 33, 44, 55, 100]\n"
     ]
    }
   ],
   "source": [
    "def myfunc(list1):\n",
    " list1 = [10,100,1000,10000]                     # link of 'list1' with previous object is broken \n",
    "print('\"List1\" before calling the function:- ',list1)\n",
    "myfunc(list1)                                    # Pass by reference (Any change in the parameter within the functi\n",
    "print('\"List1\" after calling the function:- ',list1)\n"
   ]
  },
  {
   "cell_type": "code",
   "execution_count": 322,
   "id": "31ad815b",
   "metadata": {},
   "outputs": [
    {
     "data": {
      "text/plain": [
       "(10, 20)"
      ]
     },
     "execution_count": 322,
     "metadata": {},
     "output_type": "execute_result"
    }
   ],
   "source": [
    "def swap(a,b):\n",
    " temp = a\n",
    " a = b                  # link of 'a' with previous object is broken now as new object is \n",
    " b = temp               # link of 'b' with previous object is broken now as new object is \n",
    "a = 10\n",
    "b = 20\n",
    "swap(a,b)\n",
    "a,b\n"
   ]
  },
  {
   "cell_type": "code",
   "execution_count": 323,
   "id": "7a0c0b83",
   "metadata": {},
   "outputs": [
    {
     "data": {
      "text/plain": [
       "24"
      ]
     },
     "execution_count": 323,
     "metadata": {},
     "output_type": "execute_result"
    }
   ],
   "source": [
    "def factorial(num):                    # Calculate factorial of a number using recursive function c\n",
    "    if num <=1 :\n",
    "        return 1\n",
    "    else:\n",
    "        return num * factorial(num-1)\n",
    "factorial(4)\n"
   ]
  },
  {
   "cell_type": "code",
   "execution_count": 324,
   "id": "ce268116",
   "metadata": {},
   "outputs": [
    {
     "data": {
      "text/plain": [
       "15"
      ]
     },
     "execution_count": 324,
     "metadata": {},
     "output_type": "execute_result"
    }
   ],
   "source": [
    "def add(num):                           # Sum of first n natural numbers\n",
    "    if num == 0:\n",
    "        return 0\n",
    "    else:\n",
    "        return num + add(num-1)\n",
    "add(5)                                 # Sum of first five natural numbers (1,2,3,4,5)\n"
   ]
  },
  {
   "cell_type": "code",
   "execution_count": 325,
   "id": "61d9f5a5",
   "metadata": {},
   "outputs": [
    {
     "name": "stdout",
     "output_type": "stream",
     "text": [
      "How many fibonacci numbers you want to generate -\n"
     ]
    },
    {
     "ename": "ValueError",
     "evalue": "invalid literal for int() with base 10: ''",
     "output_type": "error",
     "traceback": [
      "\u001b[1;31m---------------------------------------------------------------------------\u001b[0m",
      "\u001b[1;31mValueError\u001b[0m                                Traceback (most recent call last)",
      "Input \u001b[1;32mIn [325]\u001b[0m, in \u001b[0;36m<cell line: 8>\u001b[1;34m()\u001b[0m\n\u001b[0;32m      6\u001b[0m     \u001b[38;5;28;01melse\u001b[39;00m: \n\u001b[0;32m      7\u001b[0m         \u001b[38;5;28;01mreturn\u001b[39;00m(fiboacci(num\u001b[38;5;241m-\u001b[39m\u001b[38;5;241m1\u001b[39m) \u001b[38;5;241m+\u001b[39m fiboacci(num\u001b[38;5;241m-\u001b[39m\u001b[38;5;241m2\u001b[39m)) \n\u001b[1;32m----> 8\u001b[0m nums \u001b[38;5;241m=\u001b[39m \u001b[38;5;28;43mint\u001b[39;49m\u001b[43m(\u001b[49m\u001b[38;5;28;43minput\u001b[39;49m\u001b[43m(\u001b[49m\u001b[38;5;124;43m\"\u001b[39;49m\u001b[38;5;124;43mHow many fibonacci numbers you want to generate -\u001b[39;49m\u001b[38;5;124;43m\"\u001b[39;49m\u001b[43m)\u001b[49m\u001b[43m)\u001b[49m\n\u001b[0;32m      9\u001b[0m \u001b[38;5;28;01mfor\u001b[39;00m i \u001b[38;5;129;01min\u001b[39;00m \u001b[38;5;28mrange\u001b[39m(nums):\n\u001b[0;32m     10\u001b[0m     \u001b[38;5;28mprint\u001b[39m(fiboacci(i))\n",
      "\u001b[1;31mValueError\u001b[0m: invalid literal for int() with base 10: ''"
     ]
    }
   ],
   "source": [
    "def fiboacci(num):\n",
    "    if num <= 1:\n",
    "        return num\n",
    "    if num == 2:\n",
    "        return 1\n",
    "    else: \n",
    "        return(fiboacci(num-1) + fiboacci(num-2)) \n",
    "nums = int(input(\"How many fibonacci numbers you want to generate -\"))\n",
    "for i in range(nums):\n",
    "    print(fiboacci(i))                     # Generate Fibonacci series\n"
   ]
  },
  {
   "cell_type": "markdown",
   "id": "f20a4ab2",
   "metadata": {},
   "source": [
    "# args & kwargs"
   ]
  },
  {
   "cell_type": "markdown",
   "id": "bfc36af5",
   "metadata": {},
   "source": [
    "**args\n",
    "\n",
    "* When we are not sure about the number of arguments being passed to a function then we can use *args as function parameter.\n",
    "* args allow us to pass the variable number of Non Keyword Arguments to function.\n",
    "* We can simply use an asterisk * before the parameter name to pass variable length arguments.\n",
    "* The arguments are always passed as a tuple.\n",
    "* We can rename it to anything as long as it is preceded by a single asterisk (*). It's best practice to keep naming it args to make it immediately recognizable.\n",
    "\n",
    "\n",
    "**kwargs\n",
    "\n",
    "* kwargs allows us to pass the variable number of Keyword Arguments to the function.\n",
    "* We can simply use an double asterisk ** before the parameter name to pass variable length arguments.\n",
    "* The arguments are passed as a dictionary.\n",
    "* We can rename it to anything as long as it is preceded by a double asterisk (**). It's best practice to keep naming it kwargs to make it immediately recognizable."
   ]
  },
  {
   "cell_type": "code",
   "execution_count": 326,
   "id": "189a4189",
   "metadata": {},
   "outputs": [
    {
     "name": "stdout",
     "output_type": "stream",
     "text": [
      "60\n"
     ]
    }
   ],
   "source": [
    "def add(a,b,c):\n",
    " return a+b+c\n",
    " \n",
    "print(add(10,20,30))         # Sum of two numbers\n"
   ]
  },
  {
   "cell_type": "code",
   "execution_count": 327,
   "id": "d472f07d",
   "metadata": {},
   "outputs": [
    {
     "ename": "TypeError",
     "evalue": "add() takes 3 positional arguments but 4 were given",
     "output_type": "error",
     "traceback": [
      "\u001b[1;31m---------------------------------------------------------------------------\u001b[0m",
      "\u001b[1;31mTypeError\u001b[0m                                 Traceback (most recent call last)",
      "Input \u001b[1;32mIn [327]\u001b[0m, in \u001b[0;36m<cell line: 1>\u001b[1;34m()\u001b[0m\n\u001b[1;32m----> 1\u001b[0m \u001b[38;5;28mprint\u001b[39m(\u001b[43madd\u001b[49m\u001b[43m(\u001b[49m\u001b[38;5;241;43m1\u001b[39;49m\u001b[43m,\u001b[49m\u001b[38;5;241;43m2\u001b[39;49m\u001b[43m,\u001b[49m\u001b[38;5;241;43m3\u001b[39;49m\u001b[43m,\u001b[49m\u001b[38;5;241;43m4\u001b[39;49m\u001b[43m)\u001b[49m) \n\u001b[0;32m      2\u001b[0m \u001b[38;5;124;03m'''This will throw below error as this function will only take\u001b[39;00m\n\u001b[0;32m      3\u001b[0m \u001b[38;5;124;03mIf we want to make argument list dynamic then *args wil come in picture'''\u001b[39;00m\n",
      "\u001b[1;31mTypeError\u001b[0m: add() takes 3 positional arguments but 4 were given"
     ]
    }
   ],
   "source": [
    "print(add(1,2,3,4)) \n",
    "'''This will throw below error as this function will only take\n",
    "If we want to make argument list dynamic then *args wil come in picture'''\n"
   ]
  },
  {
   "cell_type": "code",
   "execution_count": 328,
   "id": "5f3c47c2",
   "metadata": {},
   "outputs": [
    {
     "name": "stdout",
     "output_type": "stream",
     "text": [
      "arg_1: 1\n",
      "arg_2: 2\n",
      "arg_3: 3\n"
     ]
    }
   ],
   "source": [
    "def some_args(arg_1, arg_2, arg_3):\n",
    " print(\"arg_1:\", arg_1)\n",
    " print(\"arg_2:\", arg_2)\n",
    " print(\"arg_3:\", arg_3)\n",
    "my_list = [2, 3]\n",
    "some_args(1, *my_list)\n"
   ]
  },
  {
   "cell_type": "code",
   "execution_count": 329,
   "id": "6035040f",
   "metadata": {},
   "outputs": [
    {
     "name": "stdout",
     "output_type": "stream",
     "text": [
      "6\n"
     ]
    },
    {
     "ename": "TypeError",
     "evalue": "add() takes 3 positional arguments but 4 were given",
     "output_type": "error",
     "traceback": [
      "\u001b[1;31m---------------------------------------------------------------------------\u001b[0m",
      "\u001b[1;31mTypeError\u001b[0m                                 Traceback (most recent call last)",
      "Input \u001b[1;32mIn [329]\u001b[0m, in \u001b[0;36m<cell line: 5>\u001b[1;34m()\u001b[0m\n\u001b[0;32m      2\u001b[0m     \u001b[38;5;28;01mreturn\u001b[39;00m \u001b[38;5;28msum\u001b[39m(args)\n\u001b[0;32m      4\u001b[0m \u001b[38;5;28mprint\u001b[39m(add(\u001b[38;5;241m1\u001b[39m,\u001b[38;5;241m2\u001b[39m,\u001b[38;5;241m3\u001b[39m))\n\u001b[1;32m----> 5\u001b[0m \u001b[38;5;28mprint\u001b[39m(\u001b[43madd\u001b[49m\u001b[43m(\u001b[49m\u001b[38;5;241;43m1\u001b[39;49m\u001b[43m,\u001b[49m\u001b[38;5;241;43m2\u001b[39;49m\u001b[43m,\u001b[49m\u001b[38;5;241;43m3\u001b[39;49m\u001b[43m,\u001b[49m\u001b[38;5;241;43m4\u001b[39;49m\u001b[43m)\u001b[49m)                \u001b[38;5;66;03m# *args will take dynamic argument list. So add() function w\u001b[39;00m\n\u001b[0;32m      6\u001b[0m \u001b[38;5;28mprint\u001b[39m(add(\u001b[38;5;241m1\u001b[39m,\u001b[38;5;241m2\u001b[39m,\u001b[38;5;241m3\u001b[39m,\u001b[38;5;241m4\u001b[39m,\u001b[38;5;241m5\u001b[39m))\n\u001b[0;32m      7\u001b[0m \u001b[38;5;28mprint\u001b[39m(add(\u001b[38;5;241m1\u001b[39m,\u001b[38;5;241m2\u001b[39m,\u001b[38;5;241m3\u001b[39m,\u001b[38;5;241m4\u001b[39m,\u001b[38;5;241m5\u001b[39m,\u001b[38;5;241m6\u001b[39m))\n",
      "\u001b[1;31mTypeError\u001b[0m: add() takes 3 positional arguments but 4 were given"
     ]
    }
   ],
   "source": [
    "def add1(*args):\n",
    "    return sum(args)\n",
    "\n",
    "print(add(1,2,3))\n",
    "print(add(1,2,3,4))                # *args will take dynamic argument list. So add() function w\n",
    "print(add(1,2,3,4,5))\n",
    "print(add(1,2,3,4,5,6))\n",
    "print(add(1,2,3,4,5,6,7))\n"
   ]
  },
  {
   "cell_type": "code",
   "execution_count": 330,
   "id": "c2b7b982",
   "metadata": {},
   "outputs": [
    {
     "data": {
      "text/plain": [
       "(28, 28)"
      ]
     },
     "execution_count": 330,
     "metadata": {},
     "output_type": "execute_result"
    }
   ],
   "source": [
    "list1 = [1,2,3,4,5,6,7]\n",
    "tuple1 = (1,2,3,4,5,6,7)\n",
    "add1(*list1) , add1(*tuple1)        #tuple & list items will be passed as argument list \n"
   ]
  },
  {
   "cell_type": "code",
   "execution_count": 331,
   "id": "88bd2965",
   "metadata": {},
   "outputs": [
    {
     "data": {
      "text/plain": [
       "112"
      ]
     },
     "execution_count": 331,
     "metadata": {},
     "output_type": "execute_result"
    }
   ],
   "source": [
    "list1 = [1,2,3,4,5,6,7]\n",
    "list2 = [1,2,3,4,5,6,7]\n",
    "list3 = [1,2,3,4,5,6,7]\n",
    "list4 = [1,2,3,4,5,6,7]\n",
    "add1(*list1 , *list2 , *list3 , *list4 )              #All four lists are unpacked and each in\n"
   ]
  },
  {
   "cell_type": "code",
   "execution_count": 332,
   "id": "807e911e",
   "metadata": {},
   "outputs": [
    {
     "name": "stdout",
     "output_type": "stream",
     "text": [
      "('Asif', 7412, 41102, 33, 'India', 'Hindi')\n"
     ]
    },
    {
     "data": {
      "text/plain": [
       "' For the above example we have no idea about the parameters passed e.g 7412 , \\n In such cases we can take help of Keyworded arguments (**kwargs) '"
      ]
     },
     "execution_count": 332,
     "metadata": {},
     "output_type": "execute_result"
    }
   ],
   "source": [
    "def UserDetails(*args):\n",
    " print(args)\n",
    "UserDetails('Asif' , 7412 , 41102 , 33 , 'India' , 'Hindi')\n",
    "''' For the above example we have no idea about the parameters passed e.g 7412 , \n",
    " In such cases we can take help of Keyworded arguments (**kwargs) '''\n"
   ]
  },
  {
   "cell_type": "code",
   "execution_count": 333,
   "id": "1339a575",
   "metadata": {},
   "outputs": [
    {
     "name": "stdout",
     "output_type": "stream",
     "text": [
      "{'Name': 'Asif', 'ID': 7412, 'Pincode': 41102, 'Age': 33, 'Country': 'India', 'Language': 'Hindi'}\n"
     ]
    }
   ],
   "source": [
    "def UserDetails(**kwargs):\n",
    " print(kwargs)\n",
    "UserDetails(Name='Asif' , ID=7412 , Pincode=41102 , Age= 33 , Country= 'India', Language = 'Hindi')\n"
   ]
  },
  {
   "cell_type": "code",
   "execution_count": 334,
   "id": "9c40e3d9",
   "metadata": {},
   "outputs": [
    {
     "name": "stdout",
     "output_type": "stream",
     "text": [
      "Name :- Asif\n",
      "ID :- 7412\n",
      "Pincode :- 41102\n",
      "Age :- 33\n",
      "Country :- India\n"
     ]
    }
   ],
   "source": [
    "def UserDetails(**kwargs):\n",
    " for key,val in kwargs.items():\n",
    "    print(\"{} :- {}\".format(key,val))\n",
    "UserDetails(Name='Asif' , ID=7412 , Pincode=41102 , Age= 33 , Country= 'India')\n"
   ]
  },
  {
   "cell_type": "code",
   "execution_count": 335,
   "id": "0e685f23",
   "metadata": {},
   "outputs": [
    {
     "name": "stdout",
     "output_type": "stream",
     "text": [
      "Name :- Asif\n",
      "ID :- 7412\n",
      "Pincode :- 41102\n",
      "Age :- 33\n",
      "Country :- India\n"
     ]
    }
   ],
   "source": [
    "mydict = {'Name': 'Asif', 'ID': 7412, 'Pincode': 41102, 'Age': 33, 'Country': 'India'}\n",
    "UserDetails(**mydict)\n"
   ]
  },
  {
   "cell_type": "code",
   "execution_count": 336,
   "id": "7f5ddcf4",
   "metadata": {},
   "outputs": [
    {
     "name": "stdout",
     "output_type": "stream",
     "text": [
      "License No :-  BHT145\n",
      "Full Name :- Asif\n",
      "Phone Number:-  1234567890\n",
      "Name :- Asif\n",
      "ID :- 7412\n",
      "Pincode :- 41102\n",
      "Age :- 33\n",
      "Country :- India\n",
      "Full Name :- Asif \n",
      "Phone Number:-  1234567890\n",
      "Name :- Asif\n",
      "ID :- 7412\n",
      "Pincode :- 41102\n",
      "Age :- 33\n",
      "Country :- India\n",
      "Full Name :- Asif Ali\n",
      "Phone Number:-  1234567890\n",
      "Name :- Asif\n",
      "ID :- 7412\n",
      "Pincode :- 41102\n",
      "Age :- 33\n",
      "Country :- India\n",
      "Full Name :- Asif Ali \n",
      "Phone Number:-  1234567890\n",
      "Name :- Asif\n",
      "ID :- 7412\n",
      "Pincode :- 41102\n",
      "Age :- 33\n",
      "Country :- India\n",
      "Full Name :- Asif Ali Bhat\n",
      "Phone Number:-  1234567890\n",
      "Name :- Asif\n",
      "ID :- 7412\n",
      "Pincode :- 41102\n",
      "Age :- 33\n",
      "Country :- India\n"
     ]
    }
   ],
   "source": [
    "def UserDetails(licenseNo, *args , phoneNo=0 , **kwargs): # Using all four argum\n",
    " print('License No :- ', licenseNo)\n",
    " j=''\n",
    " for i in args:\n",
    "    j = j+i\n",
    "    print('Full Name :-',j)\n",
    "    print('Phone Number:- ',phoneNo)\n",
    "    for key,val in kwargs.items():\n",
    "        print(\"{} :- {}\".format(key,val))\n",
    " \n",
    " \n",
    "name = ['Asif' , ' ' , 'Ali' , ' ','Bhat']\n",
    "mydict = {'Name': 'Asif', 'ID': 7412, 'Pincode': 41102, 'Age': 33, 'Country': 'India'}\n",
    "UserDetails('BHT145' , *name , phoneNo=1234567890,**mydict )\n"
   ]
  },
  {
   "cell_type": "code",
   "execution_count": 337,
   "id": "97b728dd",
   "metadata": {},
   "outputs": [],
   "source": [
    "def UserDetails(licenseNo, *args , phoneNo=0, **kwargs):                  # Using all four argumen\n",
    " print('Nothing')\n"
   ]
  },
  {
   "cell_type": "code",
   "execution_count": 338,
   "id": "1682141f",
   "metadata": {},
   "outputs": [
    {
     "ename": "SyntaxError",
     "evalue": "non-default argument follows default argument (2466612937.py, line 2)",
     "output_type": "error",
     "traceback": [
      "\u001b[1;36m  Input \u001b[1;32mIn [338]\u001b[1;36m\u001b[0m\n\u001b[1;33m    def UserDetails(ID = 1, licenseNo, *args):\u001b[0m\n\u001b[1;37m                                       ^\u001b[0m\n\u001b[1;31mSyntaxError\u001b[0m\u001b[1;31m:\u001b[0m non-default argument follows default argument\n"
     ]
    }
   ],
   "source": [
    "#The below function will fail. Default argument/positional argument (licenseNo) M\n",
    "def UserDetails(ID = 1, licenseNo, *args):\n",
    " print('Nothing')\n"
   ]
  },
  {
   "attachments": {
    "lambda.png": {
     "image/png": "[encoded data removed]"
    }
   },
   "cell_type": "markdown",
   "id": "e8ff3ebf",
   "metadata": {},
   "source": [
    "# Lambda, Filter, Map and Reduce\n",
    "\n",
    "Lambda\n",
    "\n",
    "* A lambda function is an anonymous function (function without a name).\n",
    "* Lambda functions can have any number of arguments but only one expression. The expression is evaluated and returned.\n",
    "* We use lambda functions when we require a nameless function for a short period of time.\n",
    "\n",
    "![lambda.png](attachment:lambda.png)"
   ]
  },
  {
   "attachments": {
    "filter.png": {
     "image/png": "[encoded data removed]"
    }
   },
   "cell_type": "markdown",
   "id": "9da7d70b",
   "metadata": {},
   "source": [
    "# Filter\n",
    "\n",
    "* It is used to filter the iterables/sequence as per the conditions.\n",
    "* Filter function filters the original iterable and passes the items that returns True for the function\n",
    "provided to filter\n",
    "* It is normally used with Lambda functions to filter list, tuple, or sets.\n",
    "\n",
    "filter() method takes two parameters:\n",
    "* function - function tests if elements of an iterable returns true or false\n",
    "* iterable - Sequence which needs to be filtered, could be sets, lists, tuples, or any iterators\n",
    "\n",
    "![filter.png](attachment:filter.png)"
   ]
  },
  {
   "attachments": {
    "map.png": {
     "image/png": "[encoded data removed]"
    }
   },
   "cell_type": "markdown",
   "id": "23b7c689",
   "metadata": {},
   "source": [
    "# Map\n",
    "\n",
    "* The map() function applies a given function to each item of an iterable (list, tuple etc.) and\n",
    "returns a list of the results.\n",
    "\n",
    "map() function takes two Parameters :\n",
    "    \n",
    "* function : The function to execute for each item of given iterable.\n",
    "* iterable : It is a iterable which is to be mapped.\n",
    "    \n",
    "* Returns : Returns a list of the results after applying the given function to each item of a given\n",
    "iterable (list, tuple etc.)\n",
    "\n",
    "![map.png](attachment:map.png)\n",
    "\n"
   ]
  },
  {
   "attachments": {
    "reduce.png": {
     "image/png": "[encoded data removed]"
    }
   },
   "cell_type": "markdown",
   "id": "60277498",
   "metadata": {},
   "source": [
    "# REduce\n",
    "\n",
    "* The reduce() function is defined in the functools python module.The reduce() function\n",
    "receives two arguments, a function and an iterable. However, it doesn't return another iterable,\n",
    "instead it returns a single value.\n",
    "\n",
    "Working:\n",
    "1) Apply a function to the first two items in an iterable and generate a partial result.\n",
    "2) The function is then called again with the result obtained in step 1 and the next value in the sequence. This process keeps on repeating until there are items in the sequence.\n",
    "3) The final returned result is returned and printed on console.\n",
    "\n",
    "![reduce.png](attachment:reduce.png)"
   ]
  },
  {
   "cell_type": "code",
   "execution_count": 339,
   "id": "81abd258",
   "metadata": {},
   "outputs": [
    {
     "name": "stdout",
     "output_type": "stream",
     "text": [
      "15\n"
     ]
    }
   ],
   "source": [
    "addition = lambda a : a + 10                   # This lambda function adds value 10 to an argument\n",
    "print(addition(5))"
   ]
  },
  {
   "cell_type": "code",
   "execution_count": 340,
   "id": "81077650",
   "metadata": {},
   "outputs": [
    {
     "name": "stdout",
     "output_type": "stream",
     "text": [
      "30\n"
     ]
    }
   ],
   "source": [
    "product = lambda a, b : a * b          #This lambda function takes two arguments (a,b) and\n",
    "print(product(5, 6))"
   ]
  },
  {
   "cell_type": "code",
   "execution_count": 341,
   "id": "7c25e200",
   "metadata": {},
   "outputs": [
    {
     "name": "stdout",
     "output_type": "stream",
     "text": [
      "13\n"
     ]
    }
   ],
   "source": [
    "addition = lambda a, b, c : a + b + c              #This lambda function takes three argument\n",
    "print(addition(5, 6, 2))"
   ]
  },
  {
   "cell_type": "code",
   "execution_count": 342,
   "id": "649fee6b",
   "metadata": {},
   "outputs": [
    {
     "data": {
      "text/plain": [
       "(30, 100, 280)"
      ]
     },
     "execution_count": 342,
     "metadata": {},
     "output_type": "execute_result"
    }
   ],
   "source": [
    "res = (lambda *args: sum(args))             # This lambda function can take any number of ar\n",
    "res(10,20) , res(10,20,30,40) , res(10,20,30,40,50,60,70)\n"
   ]
  },
  {
   "cell_type": "code",
   "execution_count": 343,
   "id": "518c9160",
   "metadata": {},
   "outputs": [
    {
     "data": {
      "text/plain": [
       "(60, 150)"
      ]
     },
     "execution_count": 343,
     "metadata": {},
     "output_type": "execute_result"
    }
   ],
   "source": [
    "res1 = (lambda **kwargs: sum(kwargs.values()))                             # This lambda function can take an\n",
    "res1(a = 10 , b= 20 , c = 30) , res1(a = 10 , b= 20 , c = 30, d = 40 , e = 50)\n",
    "\n"
   ]
  },
  {
   "cell_type": "code",
   "execution_count": 344,
   "id": "13e850de",
   "metadata": {},
   "outputs": [
    {
     "ename": "TypeError",
     "evalue": "<lambda>() missing 1 required positional argument: 'b'",
     "output_type": "error",
     "traceback": [
      "\u001b[1;31m---------------------------------------------------------------------------\u001b[0m",
      "\u001b[1;31mTypeError\u001b[0m                                 Traceback (most recent call last)",
      "Input \u001b[1;32mIn [344]\u001b[0m, in \u001b[0;36m<cell line: 3>\u001b[1;34m()\u001b[0m\n\u001b[0;32m      1\u001b[0m \u001b[38;5;66;03m# This lambda function can take any number of arguments and return thier product.\u001b[39;00m\n\u001b[0;32m      2\u001b[0m res1 \u001b[38;5;241m=\u001b[39m (\u001b[38;5;28;01mlambda\u001b[39;00m \u001b[38;5;241m*\u001b[39m\u001b[38;5;241m*\u001b[39mkwargs: product(kwargs\u001b[38;5;241m.\u001b[39mvalues()))                             \n\u001b[1;32m----> 3\u001b[0m \u001b[43mres1\u001b[49m\u001b[43m(\u001b[49m\u001b[43ma\u001b[49m\u001b[43m \u001b[49m\u001b[38;5;241;43m=\u001b[39;49m\u001b[43m \u001b[49m\u001b[38;5;241;43m10\u001b[39;49m\u001b[43m \u001b[49m\u001b[43m,\u001b[49m\u001b[43m \u001b[49m\u001b[43mb\u001b[49m\u001b[38;5;241;43m=\u001b[39;49m\u001b[43m \u001b[49m\u001b[38;5;241;43m20\u001b[39;49m\u001b[43m \u001b[49m\u001b[43m,\u001b[49m\u001b[43m \u001b[49m\u001b[43mc\u001b[49m\u001b[43m \u001b[49m\u001b[38;5;241;43m=\u001b[39;49m\u001b[43m \u001b[49m\u001b[38;5;241;43m30\u001b[39;49m\u001b[43m)\u001b[49m , res1(a \u001b[38;5;241m=\u001b[39m \u001b[38;5;241m10\u001b[39m , b\u001b[38;5;241m=\u001b[39m \u001b[38;5;241m20\u001b[39m , c \u001b[38;5;241m=\u001b[39m \u001b[38;5;241m30\u001b[39m, d \u001b[38;5;241m=\u001b[39m \u001b[38;5;241m40\u001b[39m , e \u001b[38;5;241m=\u001b[39m \u001b[38;5;241m50\u001b[39m)\n",
      "Input \u001b[1;32mIn [344]\u001b[0m, in \u001b[0;36m<lambda>\u001b[1;34m(**kwargs)\u001b[0m\n\u001b[0;32m      1\u001b[0m \u001b[38;5;66;03m# This lambda function can take any number of arguments and return thier product.\u001b[39;00m\n\u001b[1;32m----> 2\u001b[0m res1 \u001b[38;5;241m=\u001b[39m (\u001b[38;5;28;01mlambda\u001b[39;00m \u001b[38;5;241m*\u001b[39m\u001b[38;5;241m*\u001b[39mkwargs: \u001b[43mproduct\u001b[49m\u001b[43m(\u001b[49m\u001b[43mkwargs\u001b[49m\u001b[38;5;241;43m.\u001b[39;49m\u001b[43mvalues\u001b[49m\u001b[43m(\u001b[49m\u001b[43m)\u001b[49m\u001b[43m)\u001b[49m)                             \n\u001b[0;32m      3\u001b[0m res1(a \u001b[38;5;241m=\u001b[39m \u001b[38;5;241m10\u001b[39m , b\u001b[38;5;241m=\u001b[39m \u001b[38;5;241m20\u001b[39m , c \u001b[38;5;241m=\u001b[39m \u001b[38;5;241m30\u001b[39m) , res1(a \u001b[38;5;241m=\u001b[39m \u001b[38;5;241m10\u001b[39m , b\u001b[38;5;241m=\u001b[39m \u001b[38;5;241m20\u001b[39m , c \u001b[38;5;241m=\u001b[39m \u001b[38;5;241m30\u001b[39m, d \u001b[38;5;241m=\u001b[39m \u001b[38;5;241m40\u001b[39m , e \u001b[38;5;241m=\u001b[39m \u001b[38;5;241m50\u001b[39m)\n",
      "\u001b[1;31mTypeError\u001b[0m: <lambda>() missing 1 required positional argument: 'b'"
     ]
    }
   ],
   "source": [
    "# This lambda function can take any number of arguments and return thier product.\n",
    "res1 = (lambda **kwargs: product(kwargs.values()))                             \n",
    "res1(a = 10 , b= 20 , c = 30) , res1(a = 10 , b= 20 , c = 30, d = 40 , e = 50)\n"
   ]
  },
  {
   "cell_type": "code",
   "execution_count": 345,
   "id": "d0cfb059",
   "metadata": {},
   "outputs": [
    {
     "name": "stdout",
     "output_type": "stream",
     "text": [
      "15\n",
      "25\n",
      "35\n"
     ]
    }
   ],
   "source": [
    "def myfunc(n):\n",
    "    return lambda a : a + n\n",
    "add10 = myfunc(10)\n",
    "add20 = myfunc(20)\n",
    "add30 = myfunc(30)\n",
    "print(add10(5))\n",
    "print(add20(5))\n",
    "print(add30(5))\n",
    "\n"
   ]
  },
  {
   "cell_type": "code",
   "execution_count": 346,
   "id": "714353da",
   "metadata": {},
   "outputs": [
    {
     "data": {
      "text/plain": [
       "[1, 3, 5, 7, 9]"
      ]
     },
     "execution_count": 346,
     "metadata": {},
     "output_type": "execute_result"
    }
   ],
   "source": [
    "list1 = [1,2,3,4,5,6,7,8,9]\n",
    "def odd(n):\n",
    "    if n%2 ==1: return True\n",
    "    else: return False\n",
    "odd_num = list(filter(odd,list1))                  # This Filter function filters list1 and passes\n",
    "odd_num\n"
   ]
  },
  {
   "cell_type": "code",
   "execution_count": 347,
   "id": "ec84ad86",
   "metadata": {},
   "outputs": [
    {
     "data": {
      "text/plain": [
       "[2, 4, 6, 8]"
      ]
     },
     "execution_count": 347,
     "metadata": {},
     "output_type": "execute_result"
    }
   ],
   "source": [
    "list1 = [1,2,3,4,5,6,7,8,9]\n",
    "# The below Filter function filters \"list1\" and passes all odd numbers using lamb\n",
    "odd_num = list(filter(lambda n: n%2 ==0 ,list1)) \n",
    "odd_num\n"
   ]
  },
  {
   "cell_type": "code",
   "execution_count": 348,
   "id": "27f23230",
   "metadata": {},
   "outputs": [
    {
     "data": {
      "text/plain": [
       "[4, 8, 12, 16]"
      ]
     },
     "execution_count": 348,
     "metadata": {},
     "output_type": "execute_result"
    }
   ],
   "source": [
    "def twice(n):\n",
    "    return n*2\n",
    " \n",
    "doubles = list(map(twice,odd_num))                # The map function will apply user defined \"tw\n",
    "doubles"
   ]
  },
  {
   "cell_type": "code",
   "execution_count": 349,
   "id": "6cc658a8",
   "metadata": {},
   "outputs": [
    {
     "data": {
      "text/plain": [
       "[4, 8, 12, 16]"
      ]
     },
     "execution_count": 349,
     "metadata": {},
     "output_type": "execute_result"
    }
   ],
   "source": [
    "doubles = list(map(lambda n:n*2,odd_num))                     # This map function will double all ite\n",
    "doubles"
   ]
  },
  {
   "cell_type": "code",
   "execution_count": 350,
   "id": "bcf37f15",
   "metadata": {},
   "outputs": [
    {
     "data": {
      "text/plain": [
       "40"
      ]
     },
     "execution_count": 350,
     "metadata": {},
     "output_type": "execute_result"
    }
   ],
   "source": [
    "from functools import reduce\n",
    "def add(a,b):\n",
    "    return a+b\n",
    " \n",
    "sum_all = reduce(add,doubles)               # This reduce function will perform sum of all item\n",
    "sum_all"
   ]
  },
  {
   "cell_type": "code",
   "execution_count": 351,
   "id": "107bf47a",
   "metadata": {},
   "outputs": [
    {
     "data": {
      "text/plain": [
       "40"
      ]
     },
     "execution_count": 351,
     "metadata": {},
     "output_type": "execute_result"
    }
   ],
   "source": [
    "#The below reduce() function will perform sum of all items in the list using lamb\n",
    "sum_all = reduce(lambda a,b : a+b,doubles)\n",
    "sum_all\n"
   ]
  },
  {
   "cell_type": "code",
   "execution_count": 352,
   "id": "7b259bea",
   "metadata": {},
   "outputs": [
    {
     "ename": "TypeError",
     "evalue": "filter expected 2 arguments, got 1",
     "output_type": "error",
     "traceback": [
      "\u001b[1;31m---------------------------------------------------------------------------\u001b[0m",
      "\u001b[1;31mTypeError\u001b[0m                                 Traceback (most recent call last)",
      "Input \u001b[1;32mIn [352]\u001b[0m, in \u001b[0;36m<cell line: 2>\u001b[1;34m()\u001b[0m\n\u001b[0;32m      1\u001b[0m \u001b[38;5;66;03m# Putting all together \u001b[39;00m\n\u001b[1;32m----> 2\u001b[0m sum_all \u001b[38;5;241m=\u001b[39m reduce(\u001b[38;5;28;01mlambda\u001b[39;00m a,b : a\u001b[38;5;241m+\u001b[39mb,\u001b[38;5;28mlist\u001b[39m(\u001b[38;5;28mmap\u001b[39m(\u001b[38;5;28;01mlambda\u001b[39;00m n:n\u001b[38;5;241m*\u001b[39m\u001b[38;5;241m2\u001b[39m,\u001b[38;5;28mlist\u001b[39m(\u001b[38;5;28;43mfilter\u001b[39;49m\u001b[43m(\u001b[49m\u001b[38;5;28;43;01mlambda\u001b[39;49;00m\u001b[43m \u001b[49m\u001b[43mn\u001b[49m\u001b[43m:\u001b[49m\u001b[43m \u001b[49m\u001b[43mn\u001b[49m\u001b[38;5;241;43m%\u001b[39;49m\u001b[38;5;241;43m2\u001b[39;49m\u001b[38;5;241;43m==\u001b[39;49m\u001b[38;5;241;43m0\u001b[39;49m\u001b[43m)\u001b[49m))))\n\u001b[0;32m      3\u001b[0m sum_all\n",
      "\u001b[1;31mTypeError\u001b[0m: filter expected 2 arguments, got 1"
     ]
    }
   ],
   "source": [
    "# Putting all together \n",
    "sum_all = reduce(lambda a,b : a+b,list(map(lambda n:n*2,list(filter(lambda n: n%2==0)))))\n",
    "sum_all\n"
   ]
  },
  {
   "cell_type": "code",
   "execution_count": 353,
   "id": "e3669a95",
   "metadata": {},
   "outputs": [
    {
     "name": "stdout",
     "output_type": "stream",
     "text": [
      "--------\n",
      "[2, 4, 6, 8, 10]\n",
      "[1, 3, 5, 7, 9]\n",
      "--------\n",
      "['TWO', 'FOUR']\n",
      "['one', 'three']\n",
      "--------\n",
      "['one']\n",
      "['88', '99', '102']\n",
      "['one', 'two2', 'three3', '88', '99', '102']\n",
      "--------\n"
     ]
    }
   ],
   "source": [
    "list1 = [1,2,3,4,5,6,7,8,9,10]\n",
    "even = list(filter(lambda n: n%2 ==0 ,list1)) # Filter even numbers from the list\n",
    "odd = list(filter(lambda n: n%2 !=0 ,list1)) # Filter odd numbers from the lis\n",
    "print('--------')\n",
    "print(even)\n",
    "print(odd)\n",
    "print('--------')\n",
    "list2 = ['one' , 'TWO' , 'three' , 'FOUR']\n",
    "upper = list(filter(lambda x: x.isupper() , list2)) # filter uppercase strings fr\n",
    "lower = list(filter(lambda x: x.islower() , list2)) # filter lowercase strings fr\n",
    "print(upper)\n",
    "print(lower)\n",
    "print('--------')\n",
    "list3 = ['one' , 'two2' , 'three3' ,'88' , '99' , '102']\n",
    "numeric = list(filter(lambda x:x.isnumeric(), list3))                            # filter numbers from the \n",
    "alpha = list(filter(lambda x:x.isalpha(), list3))                         # filter character strings\n",
    "alphanum = list(filter(lambda x:x.isalnum(), list3))                         # filtr numbers & character \n",
    "print(alpha)\n",
    "print(numeric)\n",
    "print(alphanum)\n",
    "print('--------')\n",
    "\n"
   ]
  },
  {
   "cell_type": "code",
   "execution_count": 354,
   "id": "58b75996",
   "metadata": {},
   "outputs": [
    {
     "name": "stdout",
     "output_type": "stream",
     "text": [
      "---------------\n",
      "[2, 4, 6, 8]\n",
      "[6, 8, 10, 12]\n",
      "[1, 4, 9, 16]\n",
      "---------------\n",
      "[2, 4, 6, 8]\n",
      "[6, 8, 10, 12]\n",
      "[1, 4, 9, 16]\n",
      "---------------\n"
     ]
    }
   ],
   "source": [
    "list1 = [1,2,3,4]\n",
    "list2 = [5,6,7,8]\n",
    "def double(x):\n",
    "    return x+x\n",
    "def add(x,y):\n",
    "    return x+y\n",
    "def square(x):\n",
    "    return x*x\n",
    "print('---------------')\n",
    "print(list(map(double, list1))) # Double each number using map & User defined fun\n",
    "print(list(map(add, list1, list2))) # add two items using map & User defined fun\n",
    "print(list(map(square, list1))) #Square numbers using map & User defined function\n",
    "print('---------------')\n",
    "print(list(map(lambda x: x + x, list1))) # Double each number using map & lambda\n",
    "print(list(map(lambda x, y: x + y, list1, list2))) # add two items using map & l\n",
    "print(list(map(lambda x: x*x, list1))) #Square numbers using map & lambda\n",
    "print('---------------')\n"
   ]
  },
  {
   "cell_type": "code",
   "execution_count": 355,
   "id": "f634226f",
   "metadata": {},
   "outputs": [
    {
     "name": "stdout",
     "output_type": "stream",
     "text": [
      "1\n",
      "4\n"
     ]
    }
   ],
   "source": [
    "list2 = [1,2,3,4]\n",
    "\n",
    "\n",
    "min_num = reduce(lambda a, b: a if a < b else b, list2)                       # Minimum number in the l\n",
    "\n",
    "max_num = reduce(lambda a, b: a if a > b else b, list2)                        # Maximum number in the l\n",
    "\n",
    "print(min_num)\n",
    "print(max_num)\n"
   ]
  },
  {
   "cell_type": "code",
   "execution_count": 356,
   "id": "1438edbd",
   "metadata": {},
   "outputs": [
    {
     "name": "stdout",
     "output_type": "stream",
     "text": [
      "------\n",
      "False\n",
      "True\n",
      "False\n",
      "------\n",
      "False\n",
      "True\n",
      "True\n",
      "------\n"
     ]
    }
   ],
   "source": [
    "print('------')\n",
    "print(reduce(lambda a, b: bool(a and b), [0, 0, 1, 0, 0])) # Returns True if all \n",
    "print(reduce(lambda a, b: bool(a and b), [2, 3, 1, 5, 6])) # Returns True if all \n",
    "print(reduce(lambda a, b: bool(a and b), [8, 9, 1, 0, 9])) # Returns True if all \n",
    "print('------')\n",
    "print(reduce(lambda a, b: bool(a or b), [0, 0, 0, 0, 0])) # Returns True if any \n",
    "print(reduce(lambda a, b: bool(a or b), [2, 3, 1, 5, 6])) # Returns True if any \n",
    "print(reduce(lambda a, b: bool(a or b), [8, 9, 1, 0, 9])) # Returns True if any \n",
    "print('------')\n"
   ]
  },
  {
   "attachments": {
    "oops.png": {
     "image/png": "[encoded data removed]"
    }
   },
   "cell_type": "markdown",
   "id": "6902956d",
   "metadata": {},
   "source": [
    "# Classes & Objects\n",
    "\n",
    "A Class is an object constructor or a \"blueprint\" for creating objects.\n",
    "\n",
    "Objects are nothing but an encapsulation of variables and functions into a single entity.\n",
    "\n",
    "Objects get their variables and functions from classes.\n",
    "\n",
    "To create a class we use the keyword class.\n",
    "\n",
    "The first string inside the class is called docstring which gives the brief description about the\n",
    "class.\n",
    "\n",
    "All classes have a function ____init____ called which is always executed when the class is\n",
    "being initiated.\n",
    "\n",
    "We can use ____init____ function to assign values to object properties or other operations\n",
    "that are necessary to perform when the object is being created\n",
    "\n",
    "The self parameter is a reference to the current instance of the class and is used to access\n",
    "class variables.\n",
    "\n",
    "self must be the first parameter of any function in the class\n",
    "\n",
    "The super() builtin function returns a temporary object of the superclass that allows us to\n",
    "access methods of the base class.\n",
    "\n",
    "super() allows us to avoid using the base class name explicitly and to enable multiple\n",
    "inheritance.\n",
    "\n",
    "![oops.png](attachment:oops.png)"
   ]
  },
  {
   "cell_type": "code",
   "execution_count": 357,
   "id": "240c4bc6",
   "metadata": {},
   "outputs": [
    {
     "name": "stdout",
     "output_type": "stream",
     "text": [
      "10\n"
     ]
    }
   ],
   "source": [
    "# Create a class with property \"var1\"\n",
    "class myclass:\n",
    " var1 = 10\n",
    " \n",
    "obj1 = myclass()                   # Create an object of class \"myclass()\"\n",
    "print(obj1.var1)\n"
   ]
  },
  {
   "cell_type": "code",
   "execution_count": 358,
   "id": "1b3370cd",
   "metadata": {},
   "outputs": [
    {
     "name": "stdout",
     "output_type": "stream",
     "text": [
      "Name :-  Asif\n",
      "Employee ID :-  34163\n",
      "Thanks for joining ABC Company Asif!!\n"
     ]
    }
   ],
   "source": [
    "# Create an employee class\n",
    "class Employee:\n",
    "    def __init__(self, name, empid):                     # __init__() function is used to assign values\n",
    "        self.name = name\n",
    "        self.empid = empid\n",
    "    def greet(self):                                       # Class Method\n",
    "        print(\"Thanks for joining ABC Company {}!!\".format(self.name))\n",
    "        \n",
    "emp1 = Employee(\"Asif\", 34163)                   #Create an employee object\n",
    "print('Name :- ',emp1.name)\n",
    "print('Employee ID :- ',emp1.empid)\n",
    "emp1.greet()"
   ]
  },
  {
   "cell_type": "code",
   "execution_count": 359,
   "id": "93d71032",
   "metadata": {},
   "outputs": [
    {
     "data": {
      "text/plain": [
       "'Basit'"
      ]
     },
     "execution_count": 359,
     "metadata": {},
     "output_type": "execute_result"
    }
   ],
   "source": [
    "emp1.name = 'Basit'                    # Modify Object Properties\n",
    "emp1.name"
   ]
  },
  {
   "cell_type": "code",
   "execution_count": 360,
   "id": "8176a0e4",
   "metadata": {},
   "outputs": [
    {
     "ename": "AttributeError",
     "evalue": "'Employee' object has no attribute 'empid'",
     "output_type": "error",
     "traceback": [
      "\u001b[1;31m---------------------------------------------------------------------------\u001b[0m",
      "\u001b[1;31mAttributeError\u001b[0m                            Traceback (most recent call last)",
      "Input \u001b[1;32mIn [360]\u001b[0m, in \u001b[0;36m<cell line: 2>\u001b[1;34m()\u001b[0m\n\u001b[0;32m      1\u001b[0m \u001b[38;5;28;01mdel\u001b[39;00m emp1\u001b[38;5;241m.\u001b[39mempid                        \u001b[38;5;66;03m# Delete Object Properties\u001b[39;00m\n\u001b[1;32m----> 2\u001b[0m \u001b[43memp1\u001b[49m\u001b[38;5;241;43m.\u001b[39;49m\u001b[43mempid\u001b[49m\n",
      "\u001b[1;31mAttributeError\u001b[0m: 'Employee' object has no attribute 'empid'"
     ]
    }
   ],
   "source": [
    "del emp1.empid                        # Delete Object Properties\n",
    "emp1.empid"
   ]
  },
  {
   "cell_type": "code",
   "execution_count": 361,
   "id": "6b1b4e8c",
   "metadata": {},
   "outputs": [
    {
     "ename": "NameError",
     "evalue": "name 'emp1' is not defined",
     "output_type": "error",
     "traceback": [
      "\u001b[1;31m---------------------------------------------------------------------------\u001b[0m",
      "\u001b[1;31mNameError\u001b[0m                                 Traceback (most recent call last)",
      "Input \u001b[1;32mIn [361]\u001b[0m, in \u001b[0;36m<cell line: 2>\u001b[1;34m()\u001b[0m\n\u001b[0;32m      1\u001b[0m \u001b[38;5;28;01mdel\u001b[39;00m emp1 \u001b[38;5;66;03m# Delete the object\u001b[39;00m\n\u001b[1;32m----> 2\u001b[0m \u001b[43memp1\u001b[49m\n",
      "\u001b[1;31mNameError\u001b[0m: name 'emp1' is not defined"
     ]
    }
   ],
   "source": [
    "del emp1 # Delete the object\n",
    "emp1\n"
   ]
  },
  {
   "cell_type": "code",
   "execution_count": 362,
   "id": "12cf7a21",
   "metadata": {},
   "outputs": [
    {
     "name": "stdout",
     "output_type": "stream",
     "text": [
      "Name :-  Michael\n",
      "Employee ID :-  34162\n",
      "Thanks for joining ABC Company Michael!!\n"
     ]
    }
   ],
   "source": [
    "emp2 = Employee(\"Michael\", 34162)                  # Create an employee object\n",
    "print('Name :- ',emp2.name)\n",
    "print('Employee ID :- ',emp2.empid)\n",
    "emp2.greet()\n"
   ]
  },
  {
   "cell_type": "code",
   "execution_count": 363,
   "id": "f2eb3e29",
   "metadata": {},
   "outputs": [
    {
     "data": {
      "text/plain": [
       "'India'"
      ]
     },
     "execution_count": 363,
     "metadata": {},
     "output_type": "execute_result"
    }
   ],
   "source": [
    "emp2.country = 'India' #instance variable can be created manually\n",
    "emp2.country\n"
   ]
  },
  {
   "attachments": {},
   "cell_type": "markdown",
   "id": "ee2192bc",
   "metadata": {},
   "source": [
    "# Inheritance\n",
    "\n",
    "* Inheritance is a powerful feature in object oriented programming.\n",
    "* Inheritance provides code reusability in the program because we can use an existing class\n",
    "(Super Class/ Parent Class / Base Class) to create a new class (Sub Class / Child Class /\n",
    "Derived Class) instead of creating it from scratch.\n",
    "* The child class inherits data definitions and methods from the parent class which facilitates the\n",
    "reuse of features already available. The child class can add few more definitions or redefine a\n",
    "base class method.\n",
    "* Inheritance comes into picture when a new class possesses the 'IS A' relationship with an\n",
    "existing class. E.g Student is a person. Hence person is the base class and student is derived\n",
    "class."
   ]
  },
  {
   "attachments": {
    "aaa.png": {
     "image/png": "[encoded data removed]"
    }
   },
   "cell_type": "markdown",
   "id": "a93b4759",
   "metadata": {},
   "source": [
    "# ![aaa.png](attachment:aaa.png)"
   ]
  },
  {
   "cell_type": "code",
   "execution_count": 364,
   "id": "ef090134",
   "metadata": {},
   "outputs": [
    {
     "name": "stdout",
     "output_type": "stream",
     "text": [
      "Student Details\n",
      "---------------\n",
      "Name :- Asif\n",
      "Age :- 24\n",
      "Gender :- Male\n",
      "Student ID :- 123\n",
      "Fees :- 1200\n",
      "\n",
      "Employee Details\n",
      "---------------\n",
      "Name :- Basit\n",
      "Age :- 36\n",
      "Gender :- Male\n",
      "Employee ID :- 456\n",
      "Salary :- 80000\n"
     ]
    }
   ],
   "source": [
    "class person:                                    # Parent Class\n",
    "    def __init__(self, name , age , gender):\n",
    "        self.name = name\n",
    "        self.age = age\n",
    "        self.gender = gender\n",
    " \n",
    "    def PersonInfo(self):\n",
    "        print('Name :- {}'.format(self.name))\n",
    "        print('Age :- {}'.format(self.age))\n",
    "        print('Gender :- {}'.format(self.gender))\n",
    " \n",
    " \n",
    "class student(person):                                 # Child Class\n",
    "    def __init__(self,name,age,gender,studentid,fees):\n",
    "        person.__init__(self,name,age,gender)\n",
    "        self.studentid = studentid\n",
    "        self.fees = fees\n",
    " \n",
    "    def StudentInfo(self):\n",
    "        print('Student ID :- {}'.format(self.studentid))\n",
    "        print('Fees :- {}'.format(self.fees))\n",
    " \n",
    " \n",
    "class teacher(person):                                # Child Class\n",
    "    def __init__(self,name,age,gender,empid,salary):\n",
    "        person.__init__(self,name,age,gender)\n",
    "        self.empid = empid\n",
    "        self.salary = salary\n",
    " \n",
    "    def TeacherInfo(self):\n",
    "        print('Employee ID :- {}'.format(self.empid))\n",
    "        print('Salary :- {}'.format(self.salary))\n",
    "\n",
    "stud1 = student('Asif' , 24 , 'Male' , 123 , 1200)\n",
    "print('Student Details')\n",
    "print('---------------')\n",
    "stud1.PersonInfo() # PersonInfo() method presnt in Parent Class will be access\n",
    "stud1.StudentInfo()\n",
    "print()\n",
    "teacher1 = teacher('Basit' , 36 , 'Male' , 456 , 80000)\n",
    "print('Employee Details')\n",
    "print('---------------')\n",
    "teacher1.PersonInfo() # PersonInfo() method presnt in Parent Class will be acc\n",
    "teacher1.TeacherInfo()"
   ]
  },
  {
   "cell_type": "code",
   "execution_count": 365,
   "id": "79963724",
   "metadata": {},
   "outputs": [
    {
     "name": "stdout",
     "output_type": "stream",
     "text": [
      "Student Details\n",
      "---------------\n",
      "Name :- Asif\n",
      "Age :- 24\n",
      "Gender :- Male\n",
      "Student ID :- 123\n",
      "Fees :- 1200\n",
      "\n"
     ]
    }
   ],
   "source": [
    "class person:        # Parent Class\n",
    "    def __init__(self, name , age , gender):\n",
    "        self.name = name\n",
    "        self.age = age\n",
    "        self.gender = gender\n",
    " \n",
    "    def PersonInfo(self):\n",
    "        print('Name :- {}'.format(self.name))\n",
    "        print('Age :- {}'.format(self.age))\n",
    "        print('Gender :- {}'.format(self.gender))\n",
    "\n",
    "class student(person): # Child Class\n",
    "    def __init__(self,name,age,gender,studentid,fees):\n",
    "        person.__init__(self,name,age,gender)\n",
    "        self.studentid = studentid\n",
    "        self.fees = fees\n",
    " \n",
    "    def StudentInfo(self):\n",
    "        print('Student ID :- {}'.format(self.studentid))\n",
    "        print('Fees :- {}'.format(self.fees))\n",
    " \n",
    " \n",
    "stud1 = student('Asif' , 24 , 'Male' , 123 , 1200)\n",
    "print('Student Details')\n",
    "print('---------------')\n",
    "stud1.PersonInfo()                                             # PersonInfo() method presnt in Parent Class will be access\n",
    "stud1.StudentInfo()\n",
    "print()\n"
   ]
  },
  {
   "cell_type": "code",
   "execution_count": 366,
   "id": "15df1754",
   "metadata": {},
   "outputs": [
    {
     "name": "stdout",
     "output_type": "stream",
     "text": [
      "Student Details\n",
      "---------------\n",
      "Name :- Asif\n",
      "Age :- 24\n",
      "Gender :- Male\n",
      "Student ID :- 123\n",
      "Fees :- 1200\n"
     ]
    }
   ],
   "source": [
    "# super() builtin function allows us to access methods of the base class.\n",
    "class person:                              # Parent Class\n",
    "    def __init__(self, name , age , gender):\n",
    "        self.name = name\n",
    "        self.age = age\n",
    "        self.gender = gender\n",
    " \n",
    "    def PersonInfo(self):\n",
    "        print('Name :- {}'.format(self.name))\n",
    "        print('Age :- {}'.format(self.age))\n",
    "        print('Gender :- {}'.format(self.gender))\n",
    " \n",
    " \n",
    "class student(person): # Child Class\n",
    "    def __init__(self,name,age,gender,studentid,fees):\n",
    "        super().__init__(name,age,gender) \n",
    "        self.studentid = studentid\n",
    "        self.fees = fees\n",
    " \n",
    "    def StudentInfo(self):\n",
    "        super().PersonInfo()\n",
    "        print('Student ID :- {}'.format(self.studentid))\n",
    "        print('Fees :- {}'.format(self.fees))\n",
    "\n",
    "stud = student('Asif' , 24 , 'Male' , 123 , 1200)\n",
    "print('Student Details')\n",
    "print('---------------')\n",
    "stud.StudentInfo()\n"
   ]
  },
  {
   "cell_type": "markdown",
   "id": "14cf8715",
   "metadata": {},
   "source": [
    "# Multi-level Inheritance\n",
    "\n",
    "In this type of inheritance, a class can inherit from a child class or derived class.\n",
    "\n",
    "Multilevel Inheritance can be of any depth in python\n"
   ]
  },
  {
   "attachments": {
    "multiple%20inheritance.png": {
     "image/png": "[encoded data removed]"
    }
   },
   "cell_type": "markdown",
   "id": "ea9fdc83",
   "metadata": {},
   "source": [
    "![multiple%20inheritance.png](attachment:multiple%20inheritance.png)"
   ]
  },
  {
   "cell_type": "code",
   "execution_count": 367,
   "id": "52af4d0b",
   "metadata": {},
   "outputs": [
    {
     "name": "stdout",
     "output_type": "stream",
     "text": [
      "Contractual Employee Details\n",
      "****************************\n",
      "Name :- Basit\n",
      "Age :- 36\n",
      "Gender :- Male\n",
      "Employee ID :- 456\n",
      "Salary :- 80000\n",
      "Contract Expiry :- 21-12-2021\n",
      "\n",
      " \n",
      "\n",
      "Fulltime Employee Details\n",
      "****************************\n",
      "Name :- Asif\n",
      "Age :- 22\n",
      "Gender :- Male\n",
      "Employee ID :- 567\n",
      "Salary :- 70000\n",
      "Work Experience :- 12\n"
     ]
    }
   ],
   "source": [
    "class person: # Parent Class\n",
    "    def __init__(self, name , age , gender):\n",
    "        self.name = name\n",
    "        self.age = age\n",
    "        self.gender = gender\n",
    " \n",
    "    def PersonInfo(self):\n",
    "        print('Name :- {}'.format(self.name))\n",
    "        print('Age :- {}'.format(self.age))\n",
    "        print('Gender :- {}'.format(self.gender))\n",
    " \n",
    " \n",
    "class employee(person): # Child Class\n",
    "    def __init__(self,name,age,gender,empid,salary):\n",
    "        person.__init__(self,name,age,gender)\n",
    "        self.empid = empid\n",
    "        self.salary = salary\n",
    " \n",
    "    def employeeInfo(self):\n",
    "        print('Employee ID :- {}'.format(self.empid))\n",
    "        print('Salary :- {}'.format(self.salary))\n",
    "\n",
    "class fulltime(employee): # Grand Child Class\n",
    "    def __init__(self,name,age,gender,empid,salary,WorkExperience):\n",
    "        employee.__init__(self,name,age,gender,empid,salary)\n",
    "        self.WorkExperience = WorkExperience\n",
    " \n",
    "    def FulltimeInfo(self):\n",
    "        print('Work Experience :- {}'.format(self.WorkExperience))\n",
    " \n",
    " \n",
    "class contractual(employee): # Grand Child Class\n",
    "    def __init__(self,name,age,gender,empid,salary,ContractExpiry):\n",
    "        employee.__init__(self,name,age,gender,empid,salary)\n",
    "        self.ContractExpiry = ContractExpiry\n",
    " \n",
    "    def ContractInfo(self):\n",
    "        print('Contract Expiry :- {}'.format(self.ContractExpiry))\n",
    "\n",
    "print('Contractual Employee Details')\n",
    "print('****************************')\n",
    "contract1 = contractual('Basit' , 36 , 'Male' , 456 , 80000,'21-12-2021')\n",
    "contract1.PersonInfo()\n",
    "contract1.employeeInfo()\n",
    "contract1.ContractInfo()\n",
    "print('\\n \\n')\n",
    "print('Fulltime Employee Details')\n",
    "print('****************************')\n",
    "fulltim1= fulltime('Asif' , 22 , 'Male' , 567 , 70000, 12)\n",
    "fulltim1.PersonInfo()\n",
    "fulltim1.employeeInfo()\n",
    "fulltim1.FulltimeInfo()\n"
   ]
  },
  {
   "cell_type": "markdown",
   "id": "b45ce11a",
   "metadata": {},
   "source": [
    "# Method Overriding\n",
    "\n",
    "Overriding is a very important part of object oreinted programming because it makes inheritance exploit its full power\n",
    "\n",
    "Overriding is the ability of a class (Sub Class / Child Class / Derived Class) to change the implementation of a method provided by one of its parent classes.\n",
    "\n",
    "When a method in a subclass has the same name, same parameter and same return type as a method in its super-class, then the method in the subclass is said to override the method in\n",
    "the super-class.\n",
    "\n",
    "The version of a method that is executed will be determined by the object that is used to invoke it.\n",
    "\n",
    "If an object of a parent class is used to invoke the method, then the version in the parent classwill be executed, but if an object of the subclass is used to invoke the method, then the\n",
    "version in the child class will be executed."
   ]
  },
  {
   "cell_type": "code",
   "execution_count": 368,
   "id": "04b5ccf0",
   "metadata": {},
   "outputs": [
    {
     "name": "stdout",
     "output_type": "stream",
     "text": [
      "Hello Student\n",
      "Hello Person\n"
     ]
    }
   ],
   "source": [
    "class person: # Parent Class\n",
    "    def __init__(self, name , age , gender):\n",
    "        self.name = name\n",
    "        self.age = age\n",
    "        self.gender = gender\n",
    " \n",
    "    def greet(self):\n",
    "        print(\"Hello Person\")\n",
    "\n",
    "class student(person): # Child Class\n",
    "    def __init__(self,name,age,gender,studentid,fees):\n",
    "        person.__init__(self,name,age,gender)\n",
    "        self.studentid = studentid\n",
    "        self.fees = fees\n",
    "    def greet(self):\n",
    "        print(\"Hello Student\")\n",
    " \n",
    " \n",
    "stud = student('Gabriel' , 56 , 'Male' , 45 , 345678)\n",
    "stud.greet() # greet() method defined in subclass will be triggered as \"stud\" is \n",
    "person1 = person('Gabriel' , 56 , 'Male')\n",
    "person1.greet() # greet() method defined in superclass will be triggered because \n"
   ]
  },
  {
   "cell_type": "markdown",
   "id": "2207635b",
   "metadata": {},
   "source": [
    "# Container\n",
    "\n",
    "Containers are data structures that hold data values.\n",
    "\n",
    "They support membership tests which means we can check whether a value exists in the\n",
    "container or not.\n",
    "\n",
    "Generally containers provide a way to access the contained objects and to iterate over them.\n",
    "\n",
    "Examples of containers include tuple, list, set, dict, str\n"
   ]
  },
  {
   "cell_type": "code",
   "execution_count": 369,
   "id": "b5bfe6b8",
   "metadata": {},
   "outputs": [
    {
     "data": {
      "text/plain": [
       "True"
      ]
     },
     "execution_count": 369,
     "metadata": {},
     "output_type": "execute_result"
    }
   ],
   "source": [
    "list1 = ['asif' , 'john' , 'Michael' , 'Basit']\n",
    "'asif' in list1 # Membership check using 'in' operator\n"
   ]
  },
  {
   "cell_type": "code",
   "execution_count": 370,
   "id": "ad3a7cff",
   "metadata": {},
   "outputs": [
    {
     "ename": "AssertionError",
     "evalue": "",
     "output_type": "error",
     "traceback": [
      "\u001b[1;31m---------------------------------------------------------------------------\u001b[0m",
      "\u001b[1;31mAssertionError\u001b[0m                            Traceback (most recent call last)",
      "Input \u001b[1;32mIn [370]\u001b[0m, in \u001b[0;36m<cell line: 2>\u001b[1;34m()\u001b[0m\n\u001b[0;32m      1\u001b[0m \u001b[38;5;28;01massert\u001b[39;00m \u001b[38;5;124m'\u001b[39m\u001b[38;5;124mjohn\u001b[39m\u001b[38;5;124m'\u001b[39m \u001b[38;5;129;01min\u001b[39;00m list1 \u001b[38;5;66;03m# If the condition returns true the program does nothing \u001b[39;00m\n\u001b[1;32m----> 2\u001b[0m \u001b[38;5;28;01massert\u001b[39;00m \u001b[38;5;124m'\u001b[39m\u001b[38;5;124mjohn1\u001b[39m\u001b[38;5;124m'\u001b[39m \u001b[38;5;129;01min\u001b[39;00m list1\n",
      "\u001b[1;31mAssertionError\u001b[0m: "
     ]
    }
   ],
   "source": [
    "assert 'john' in list1 # If the condition returns true the program does nothing \n",
    "assert 'john1' in list1 # If the condition returns false, Assert will stop the pr\n"
   ]
  },
  {
   "cell_type": "code",
   "execution_count": 371,
   "id": "3c70131e",
   "metadata": {},
   "outputs": [
    {
     "data": {
      "text/plain": [
       "{'Name': 'Asif', 'ID': 12345, 'DOB': 1991, 'Address': 'Hilsinki'}"
      ]
     },
     "execution_count": 371,
     "metadata": {},
     "output_type": "execute_result"
    }
   ],
   "source": [
    "mydict = {'Name':'Asif' , 'ID': 12345 , 'DOB': 1991 , 'Address' : 'Hilsinki'}\n",
    "mydict\n"
   ]
  },
  {
   "cell_type": "code",
   "execution_count": 372,
   "id": "56012ccd",
   "metadata": {},
   "outputs": [
    {
     "data": {
      "text/plain": [
       "False"
      ]
     },
     "execution_count": 372,
     "metadata": {},
     "output_type": "execute_result"
    }
   ],
   "source": [
    "'Asif' in mydict # Dictionary membership will always check the keys\n"
   ]
  },
  {
   "cell_type": "code",
   "execution_count": 373,
   "id": "8dae043c",
   "metadata": {},
   "outputs": [
    {
     "data": {
      "text/plain": [
       "True"
      ]
     },
     "execution_count": 373,
     "metadata": {},
     "output_type": "execute_result"
    }
   ],
   "source": [
    "'Name' in mydict # Dictionary membership will always check the keys\n"
   ]
  },
  {
   "cell_type": "code",
   "execution_count": 374,
   "id": "7be2d89e",
   "metadata": {},
   "outputs": [
    {
     "data": {
      "text/plain": [
       "True"
      ]
     },
     "execution_count": 374,
     "metadata": {},
     "output_type": "execute_result"
    }
   ],
   "source": [
    "'DOB' in mydict\n"
   ]
  },
  {
   "cell_type": "code",
   "execution_count": 375,
   "id": "9f7cf441",
   "metadata": {},
   "outputs": [
    {
     "data": {
      "text/plain": [
       "True"
      ]
     },
     "execution_count": 375,
     "metadata": {},
     "output_type": "execute_result"
    }
   ],
   "source": [
    "mystr = 'asifbhat'\n",
    "'as' in mystr # Check if substring is presen"
   ]
  },
  {
   "attachments": {
    "iter.png": {
     "image/png": "[encoded data removed]"
    }
   },
   "cell_type": "markdown",
   "id": "20cebde2",
   "metadata": {},
   "source": [
    "# Iterable & Iterator\n",
    "\n",
    "An iterable is an object that can be iterated upon. It can return an iterator object with the\n",
    "purpose of traversing through all the elements of an iterable.\n",
    "\n",
    "An iterable object implements __iter()__ which is expected to return an iterator object. The\n",
    "iterator object uses the __next()__ method. Every time next() is called next element in the\n",
    "iterator stream is returned. When there are no more elements available StopIteration\n",
    "exception is encountered. So any object that has a __next()__ method is called an iterator.\n",
    "\n",
    "Python lists, tuples, dictionaries and sets are all examples of iterable objects\n",
    "\n",
    "![iter.png](attachment:iter.png)"
   ]
  },
  {
   "cell_type": "code",
   "execution_count": 376,
   "id": "66e6c169",
   "metadata": {},
   "outputs": [
    {
     "name": "stdout",
     "output_type": "stream",
     "text": [
      "Asif\n",
      "Basit\n",
      "John\n",
      "Michael\n"
     ]
    },
    {
     "ename": "StopIteration",
     "evalue": "",
     "output_type": "error",
     "traceback": [
      "\u001b[1;31m---------------------------------------------------------------------------\u001b[0m",
      "\u001b[1;31mStopIteration\u001b[0m                             Traceback (most recent call last)",
      "Input \u001b[1;32mIn [376]\u001b[0m, in \u001b[0;36m<cell line: 7>\u001b[1;34m()\u001b[0m\n\u001b[0;32m      5\u001b[0m \u001b[38;5;28mprint\u001b[39m(\u001b[38;5;28mnext\u001b[39m(list_iter))\n\u001b[0;32m      6\u001b[0m \u001b[38;5;28mprint\u001b[39m(\u001b[38;5;28mnext\u001b[39m(list_iter))\n\u001b[1;32m----> 7\u001b[0m \u001b[38;5;28mprint\u001b[39m(\u001b[38;5;28;43mnext\u001b[39;49m\u001b[43m(\u001b[49m\u001b[43mlist_iter\u001b[49m\u001b[43m)\u001b[49m)\n",
      "\u001b[1;31mStopIteration\u001b[0m: "
     ]
    }
   ],
   "source": [
    "mylist = ['Asif' , 'Basit' , 'John' , 'Michael']\n",
    "list_iter = iter(mylist) # Create an iterator object using iter()\n",
    "print(next(list_iter)) # return first element in the iterator stream\n",
    "print(next(list_iter)) # return next element in the iterator stream\n",
    "print(next(list_iter))\n",
    "print(next(list_iter))\n",
    "print(next(list_iter))\n"
   ]
  },
  {
   "cell_type": "code",
   "execution_count": 377,
   "id": "68192bc4",
   "metadata": {},
   "outputs": [
    {
     "name": "stdout",
     "output_type": "stream",
     "text": [
      "Asif\n",
      "Basit\n",
      "John\n",
      "Michael\n"
     ]
    }
   ],
   "source": [
    "mylist = ['Asif' , 'Basit' , 'John' , 'Michael']\n",
    "list_iter = iter(mylist) # Create an iterator object using iter()\n",
    "print(list_iter.__next__()) # return first element in the iterator stream\n",
    "print(list_iter.__next__()) # return next element in the iterator stream\n",
    "print(list_iter.__next__())\n",
    "print(list_iter.__next__())\n"
   ]
  },
  {
   "cell_type": "code",
   "execution_count": 378,
   "id": "e5080827",
   "metadata": {},
   "outputs": [
    {
     "name": "stdout",
     "output_type": "stream",
     "text": [
      "Asif\n",
      "Basit\n",
      "John\n",
      "Michael\n"
     ]
    }
   ],
   "source": [
    "mylist = ['Asif' , 'Basit' , 'John' , 'Michael']\n",
    "list_iter = iter(mylist) # Create an iterator object using iter()\n",
    "for i in list_iter:\n",
    " print(i)\n"
   ]
  },
  {
   "cell_type": "code",
   "execution_count": 379,
   "id": "27f768c6",
   "metadata": {},
   "outputs": [
    {
     "name": "stdout",
     "output_type": "stream",
     "text": [
      "Asif\n",
      "Basit\n",
      "John\n",
      "Michael\n"
     ]
    }
   ],
   "source": [
    "# Looping Through an Iterable (list) using for loop\n",
    "mylist = ['Asif' , 'Basit' , 'John' , 'Michael']\n",
    "for i in mylist:\n",
    " print(i)\n"
   ]
  },
  {
   "cell_type": "code",
   "execution_count": 380,
   "id": "9f5321eb",
   "metadata": {},
   "outputs": [
    {
     "name": "stdout",
     "output_type": "stream",
     "text": [
      "Asif\n",
      "Basit\n",
      "John\n",
      "Michael\n"
     ]
    }
   ],
   "source": [
    "# Looping Through an Iterable (tuple) using for loop\n",
    "mytuple = ('Asif' , 'Basit' , 'John' , 'Michael')\n",
    "for i in mytuple:\n",
    " print(i)\n"
   ]
  },
  {
   "cell_type": "code",
   "execution_count": 381,
   "id": "9dd1a1b0",
   "metadata": {},
   "outputs": [
    {
     "name": "stdout",
     "output_type": "stream",
     "text": [
      "H\n",
      "e\n",
      "l\n",
      "l\n",
      "o\n",
      " \n",
      "P\n",
      "y\n",
      "t\n",
      "h\n",
      "o\n",
      "n\n"
     ]
    }
   ],
   "source": [
    "# Looping Through an Iterable (string) using for loop\n",
    "mystr = \"Hello Python\"\n",
    "for i in mystr:\n",
    " print(i)\n"
   ]
  },
  {
   "cell_type": "code",
   "execution_count": 382,
   "id": "72d0837b",
   "metadata": {},
   "outputs": [
    {
     "name": "stdout",
     "output_type": "stream",
     "text": [
      "1\n",
      "2\n",
      "3\n",
      "4\n",
      "5\n",
      "6\n",
      "7\n",
      "8\n",
      "9\n",
      "10\n"
     ]
    }
   ],
   "source": [
    "# This iterator produces all natural numbers from 1 to 10.\n",
    "class myiter:\n",
    "    def __init__(self):\n",
    "        self.num = 0\n",
    " \n",
    "    def __iter__(self):\n",
    "        self.num = 1\n",
    "        return self\n",
    " \n",
    "    def __next__(self):\n",
    "        if self.num <= 10:\n",
    "            val = self.num\n",
    "            self.num += 1\n",
    "            return val\n",
    "        else:\n",
    "            raise StopIteration\n",
    "mynum = myiter()\n",
    "iter1 = iter(mynum)\n",
    "for i in iter1:\n",
    " print(i)\n"
   ]
  },
  {
   "cell_type": "code",
   "execution_count": 383,
   "id": "c5b25e05",
   "metadata": {},
   "outputs": [
    {
     "name": "stdout",
     "output_type": "stream",
     "text": [
      "1\n",
      "1\n",
      "2\n",
      "3\n",
      "5\n",
      "8\n",
      "13\n",
      "21\n",
      "34\n"
     ]
    }
   ],
   "source": [
    "# This iterator will produce fibonacci numbers\n",
    "class myfibonacci:\n",
    "    def __init__(self):\n",
    "        self.prev = 0\n",
    "        self.cur = 0\n",
    " \n",
    "    def __iter__(self):\n",
    "        self.prev = 0\n",
    "        self.cur = 1\n",
    "        return self\n",
    " \n",
    "    def __next__(self):\n",
    "        if self.cur <= 50:\n",
    "            val = self.cur\n",
    "            self.cur += self.prev\n",
    "            self.prev = val\n",
    "            return val\n",
    "        else:\n",
    "            raise StopIteration\n",
    "myfibo = myfibonacci()\n",
    "iter1 = iter(myfibo)\n",
    "for i in iter1:\n",
    "    print(i)\n"
   ]
  },
  {
   "attachments": {
    "error%20and%20exception%20.png": {
     "image/png": "[encoded data removed]"
    }
   },
   "cell_type": "markdown",
   "id": "21b16c75",
   "metadata": {},
   "source": [
    "# Error & Exception Handling\n",
    "\n",
    "Python has many built-in exceptions (ArithmeticError, ZeroDivisionError, EOFError, IndexError,\n",
    "KeyError, SyntaxError, IndentationError, FileNotFoundError etc) that are raised when your\n",
    "program encounters an error.\n",
    "\n",
    "When the exception occurs Python interpreter stops the current process and passes it to the\n",
    "calling process until it is handled. If exception is not handled the program will crash.\n",
    "\n",
    "Exceptions in python can be handled using a try statement. The try block lets you test a block\n",
    "of code for errors.\n",
    "\n",
    "The block of code which can raise an exception is placed inside the try clause. The code that\n",
    "will handle the exceptions is written in the except clause.\n",
    "\n",
    "The finally code block will execute regardless of the result of the try and except blocks.\n",
    "We can also use the else keyword to define a block of code to be executed if no exceptions\n",
    "were raised.\n",
    "\n",
    "Python also allows us to create our own exceptions that can be raised from the program using\n",
    "the raise keyword and caught using the except clause. We can define what kind of error to\n",
    "raise, and the text to print to the user.\n",
    "\n",
    "![error%20and%20exception%20.png](attachment:error%20and%20exception%20.png)\n"
   ]
  },
  {
   "cell_type": "code",
   "execution_count": 384,
   "id": "b5968063",
   "metadata": {},
   "outputs": [
    {
     "name": "stdout",
     "output_type": "stream",
     "text": [
      "2\n"
     ]
    }
   ],
   "source": [
    "try:\n",
    " print(x) # NameError exception will be encountered as variable x is not defi\n",
    "except:\n",
    " print('Variable x is not defined')\n"
   ]
  },
  {
   "cell_type": "code",
   "execution_count": 393,
   "id": "5fe1156f",
   "metadata": {},
   "outputs": [
    {
     "name": "stdout",
     "output_type": "stream",
     "text": [
      "Enter first number :- 7\n"
     ]
    }
   ],
   "source": [
    "try:\n",
    "    x = int(input('Enter first number :- '))\n",
    "    if x > 50:\n",
    "        raise ValueError(x) # If value of x is greater than 50 ValueError excepti\n",
    "except:\n",
    "    print(sys.exc_info()[0])\n"
   ]
  },
  {
   "cell_type": "markdown",
   "id": "2d8c0e3b",
   "metadata": {},
   "source": [
    "# Built-in Exceptions\n"
   ]
  },
  {
   "cell_type": "code",
   "execution_count": 386,
   "id": "3e1efb6d",
   "metadata": {},
   "outputs": [
    {
     "name": "stdout",
     "output_type": "stream",
     "text": [
      "(<class 'OverflowError'>, OverflowError('math range error'), <traceback object at 0x000001F87283F040>)\n"
     ]
    }
   ],
   "source": [
    "# OverflowError - This exception is raised when the result of a numeric calculati\n",
    "import sys\n",
    "try: \n",
    "    import math\n",
    "    print(math.exp(1000))\n",
    "except OverflowError: \n",
    "    print (sys.exc_info())\n",
    "else: \n",
    "    print (\"Success, no error!\")\n"
   ]
  },
  {
   "cell_type": "code",
   "execution_count": 391,
   "id": "c1226f51",
   "metadata": {},
   "outputs": [
    {
     "name": "stdout",
     "output_type": "stream",
     "text": [
      "Enter first number :- 6\n",
      "Enter first number :- 7\n",
      "0.8571428571428571\n"
     ]
    }
   ],
   "source": [
    "# ZeroDivisionError - This exception is raised when the second operator in a divi\n",
    "try:\n",
    "    x = int(input('Enter first number :- '))\n",
    "    y = int(input('Enter first number :- '))\n",
    "    print(x/y)\n",
    "except ZeroDivisionError:\n",
    "    print('ZeroDivisionError exception occurred')\n"
   ]
  },
  {
   "cell_type": "code",
   "execution_count": 394,
   "id": "145ec219",
   "metadata": {},
   "outputs": [
    {
     "name": "stdout",
     "output_type": "stream",
     "text": [
      "NameError exception occurred\n"
     ]
    }
   ],
   "source": [
    "# NameError - This exception is raised when a variable does not exist\n",
    "try:\n",
    " print(x1)\n",
    "except NameError:\n",
    " print('NameError exception occurred')\n"
   ]
  },
  {
   "cell_type": "code",
   "execution_count": 395,
   "id": "883d6fc2",
   "metadata": {},
   "outputs": [
    {
     "name": "stdout",
     "output_type": "stream",
     "text": [
      "Assertion Exception Raised.\n"
     ]
    }
   ],
   "source": [
    "# AssertionError - This exception is raised when an assert statement fails\n",
    "try: \n",
    " a = 50\n",
    " b = \"Asif\"\n",
    " assert a == b\n",
    "except AssertionError: \n",
    " print (\"Assertion Exception Raised.\")\n"
   ]
  },
  {
   "cell_type": "code",
   "execution_count": 396,
   "id": "b173d89b",
   "metadata": {},
   "outputs": [
    {
     "name": "stdout",
     "output_type": "stream",
     "text": [
      "ModuleNotFoundError Exception Raised.\n"
     ]
    }
   ],
   "source": [
    "# ModuleNotFoundError - This exception is raised when an imported module does not\n",
    "try:\n",
    " import MyModule\n",
    "except ModuleNotFoundError: \n",
    " print (\"ModuleNotFoundError Exception Raised.\")\n"
   ]
  },
  {
   "cell_type": "code",
   "execution_count": 397,
   "id": "25fe4402",
   "metadata": {},
   "outputs": [
    {
     "name": "stdout",
     "output_type": "stream",
     "text": [
      "KeyError Exception Raised.\n"
     ]
    }
   ],
   "source": [
    "# KeyError - This exception is raised when key does not exist in a dictionary\n",
    "try:\n",
    " mydict = {1:'Asif', 2:'Basit', 3:'Michael'}\n",
    " print (mydict[4])\n",
    "except KeyError:\n",
    " print (\"KeyError Exception Raised.\")"
   ]
  },
  {
   "cell_type": "code",
   "execution_count": 398,
   "id": "1abe1c59",
   "metadata": {},
   "outputs": [
    {
     "name": "stdout",
     "output_type": "stream",
     "text": [
      "IndexError Exception Raised.\n"
     ]
    }
   ],
   "source": [
    "# IndexError - This exception is raised when an index of a sequence does not exis\n",
    "try:\n",
    " mylist = [1,2,3,4,5,6]\n",
    " print (mylist[10])\n",
    "except IndexError:\n",
    " print (\"IndexError Exception Raised.\")\n"
   ]
  },
  {
   "cell_type": "code",
   "execution_count": 399,
   "id": "7ac98ec9",
   "metadata": {},
   "outputs": [
    {
     "name": "stdout",
     "output_type": "stream",
     "text": [
      "TypeError Exception Raised.\n"
     ]
    }
   ],
   "source": [
    "# TypeError - This exception is raised when two different datatypes are combined\n",
    "try: \n",
    " a = 50\n",
    " b = \"Asif\"\n",
    " c = a/b\n",
    "except TypeError: \n",
    " print (\"TypeError Exception Raised.\")\n"
   ]
  },
  {
   "cell_type": "code",
   "execution_count": 400,
   "id": "9932ba01",
   "metadata": {},
   "outputs": [
    {
     "name": "stdout",
     "output_type": "stream",
     "text": [
      "AttributeError Exception Raised.\n",
      "Enter first number :- 6\n"
     ]
    }
   ],
   "source": [
    "# AttributeError: - This exception is raised when attribute reference or assignme\n",
    "try: \n",
    " a = 10\n",
    " b = a.upper()\n",
    " print(b)\n",
    "except AttributeError: \n",
    " print (\"AttributeError Exception Raised.\")\n",
    "try:\n",
    " x = input('Enter first number :- ')\n",
    " \n",
    "except:\n",
    " print('ZeroDivisionError exception occurred')"
   ]
  }
 ],
 "metadata": {
  "kernelspec": {
   "display_name": "Python 3 (ipykernel)",
   "language": "python",
   "name": "python3"
  },
  "language_info": {
   "codemirror_mode": {
    "name": "ipython",
    "version": 3
   },
   "file_extension": ".py",
   "mimetype": "text/x-python",
   "name": "python",
   "nbconvert_exporter": "python",
   "pygments_lexer": "ipython3",
   "version": "3.9.12"
  }
 },
 "nbformat": 4,
 "nbformat_minor": 5
}
